{
 "cells": [
  {
   "cell_type": "code",
   "execution_count": 28,
   "metadata": {},
   "outputs": [],
   "source": [
    "import pandas as pd ### para manejo de datos\n",
    "import sqlite3 as sql\n",
    "import a_funciones as funciones  ###archivo de funciones propias\n",
    "import numpy as np\n",
    "import plotly.express as px\n",
    "from sklearn.model_selection import RandomizedSearchCV\n",
    "import joblib  ### para guardar modelos\n",
    "from sklearn.preprocessing import StandardScaler ## escalar variables \n",
    "import openpyxl\n",
    "from sklearn.linear_model import LogisticRegression # Regresión logística\n",
    "from sklearn.ensemble import RandomForestClassifier  # Clasificador bosques aleatoriost \n",
    "from sklearn.tree import DecisionTreeClassifier\n"
   ]
  },
  {
   "cell_type": "code",
   "execution_count": 29,
   "metadata": {},
   "outputs": [],
   "source": [
    "df4 = pd.read_csv(\"https://raw.githubusercontent.com/andressj1/A-RH/main/Bases/df_fin.csv\", sep=\",\")\n",
    "df0 = pd.read_csv(\"https://raw.githubusercontent.com/andressj1/A-RH/main/Bases/base16.csv\", sep=\",\")"
   ]
  },
  {
   "cell_type": "code",
   "execution_count": 30,
   "metadata": {},
   "outputs": [
    {
     "data": {
      "text/html": [
       "<div>\n",
       "<style scoped>\n",
       "    .dataframe tbody tr th:only-of-type {\n",
       "        vertical-align: middle;\n",
       "    }\n",
       "\n",
       "    .dataframe tbody tr th {\n",
       "        vertical-align: top;\n",
       "    }\n",
       "\n",
       "    .dataframe thead th {\n",
       "        text-align: right;\n",
       "    }\n",
       "</style>\n",
       "<table border=\"1\" class=\"dataframe\">\n",
       "  <thead>\n",
       "    <tr style=\"text-align: right;\">\n",
       "      <th></th>\n",
       "      <th>EnvironmentSatisfaction</th>\n",
       "      <th>JobSatisfaction</th>\n",
       "      <th>WorkLifeBalance</th>\n",
       "      <th>Age</th>\n",
       "      <th>BusinessTravel</th>\n",
       "      <th>Department</th>\n",
       "      <th>DistanceFromHome</th>\n",
       "      <th>Education</th>\n",
       "      <th>EducationField</th>\n",
       "      <th>Gender</th>\n",
       "      <th>...</th>\n",
       "      <th>MonthlyIncome</th>\n",
       "      <th>NumCompaniesWorked</th>\n",
       "      <th>PercentSalaryHike</th>\n",
       "      <th>StockOptionLevel</th>\n",
       "      <th>TotalWorkingYears</th>\n",
       "      <th>TrainingTimesLastYear</th>\n",
       "      <th>JobInvolvement</th>\n",
       "      <th>PerformanceRating</th>\n",
       "      <th>Attrition</th>\n",
       "      <th>resignationReason</th>\n",
       "    </tr>\n",
       "  </thead>\n",
       "  <tbody>\n",
       "    <tr>\n",
       "      <th>0</th>\n",
       "      <td>3</td>\n",
       "      <td>4</td>\n",
       "      <td>2</td>\n",
       "      <td>51</td>\n",
       "      <td>Travel_Rarely</td>\n",
       "      <td>Sales</td>\n",
       "      <td>6</td>\n",
       "      <td>2</td>\n",
       "      <td>Life Sciences</td>\n",
       "      <td>Female</td>\n",
       "      <td>...</td>\n",
       "      <td>131160</td>\n",
       "      <td>1</td>\n",
       "      <td>11</td>\n",
       "      <td>0</td>\n",
       "      <td>1</td>\n",
       "      <td>6</td>\n",
       "      <td>3</td>\n",
       "      <td>3</td>\n",
       "      <td>No</td>\n",
       "      <td>NaN</td>\n",
       "    </tr>\n",
       "    <tr>\n",
       "      <th>1</th>\n",
       "      <td>3</td>\n",
       "      <td>2</td>\n",
       "      <td>4</td>\n",
       "      <td>31</td>\n",
       "      <td>Travel_Frequently</td>\n",
       "      <td>Research &amp; Development</td>\n",
       "      <td>10</td>\n",
       "      <td>1</td>\n",
       "      <td>Life Sciences</td>\n",
       "      <td>Female</td>\n",
       "      <td>...</td>\n",
       "      <td>41890</td>\n",
       "      <td>0</td>\n",
       "      <td>23</td>\n",
       "      <td>1</td>\n",
       "      <td>6</td>\n",
       "      <td>3</td>\n",
       "      <td>2</td>\n",
       "      <td>4</td>\n",
       "      <td>Yes</td>\n",
       "      <td>Others</td>\n",
       "    </tr>\n",
       "    <tr>\n",
       "      <th>2</th>\n",
       "      <td>2</td>\n",
       "      <td>2</td>\n",
       "      <td>1</td>\n",
       "      <td>32</td>\n",
       "      <td>Travel_Frequently</td>\n",
       "      <td>Research &amp; Development</td>\n",
       "      <td>17</td>\n",
       "      <td>4</td>\n",
       "      <td>Other</td>\n",
       "      <td>Male</td>\n",
       "      <td>...</td>\n",
       "      <td>193280</td>\n",
       "      <td>1</td>\n",
       "      <td>15</td>\n",
       "      <td>3</td>\n",
       "      <td>5</td>\n",
       "      <td>2</td>\n",
       "      <td>3</td>\n",
       "      <td>3</td>\n",
       "      <td>No</td>\n",
       "      <td>NaN</td>\n",
       "    </tr>\n",
       "  </tbody>\n",
       "</table>\n",
       "<p>3 rows × 23 columns</p>\n",
       "</div>"
      ],
      "text/plain": [
       "   EnvironmentSatisfaction  JobSatisfaction  WorkLifeBalance  Age  \\\n",
       "0                        3                4                2   51   \n",
       "1                        3                2                4   31   \n",
       "2                        2                2                1   32   \n",
       "\n",
       "      BusinessTravel              Department  DistanceFromHome  Education  \\\n",
       "0      Travel_Rarely                   Sales                 6          2   \n",
       "1  Travel_Frequently  Research & Development                10          1   \n",
       "2  Travel_Frequently  Research & Development                17          4   \n",
       "\n",
       "  EducationField  Gender  ...  MonthlyIncome NumCompaniesWorked  \\\n",
       "0  Life Sciences  Female  ...         131160                  1   \n",
       "1  Life Sciences  Female  ...          41890                  0   \n",
       "2          Other    Male  ...         193280                  1   \n",
       "\n",
       "  PercentSalaryHike  StockOptionLevel  TotalWorkingYears  \\\n",
       "0                11                 0                  1   \n",
       "1                23                 1                  6   \n",
       "2                15                 3                  5   \n",
       "\n",
       "   TrainingTimesLastYear  JobInvolvement  PerformanceRating  Attrition  \\\n",
       "0                      6               3                  3         No   \n",
       "1                      3               2                  4        Yes   \n",
       "2                      2               3                  3         No   \n",
       "\n",
       "   resignationReason  \n",
       "0                NaN  \n",
       "1             Others  \n",
       "2                NaN  \n",
       "\n",
       "[3 rows x 23 columns]"
      ]
     },
     "execution_count": 30,
     "metadata": {},
     "output_type": "execute_result"
    }
   ],
   "source": [
    "df4.head(3)"
   ]
  },
  {
   "cell_type": "markdown",
   "metadata": {},
   "source": [
    "## **Obtener dummies**"
   ]
  },
  {
   "cell_type": "code",
   "execution_count": 31,
   "metadata": {},
   "outputs": [],
   "source": [
    "# Obtener variables dummy para las columnas categóricas excepto 'Attrition'\n",
    "df_dum = pd.get_dummies(df4.drop('Attrition', axis=1))\n",
    "\n",
    "# Añadir la variable 'Attrition' de nuevo al DataFrame\n",
    "df_dum['Attrition'] = df4['Attrition']"
   ]
  },
  {
   "cell_type": "code",
   "execution_count": 34,
   "metadata": {},
   "outputs": [],
   "source": [
    "# Agregar 'Attrition' de nuevo al DataFrame\n",
    "df_dum['Attrition'] = df4['Attrition']"
   ]
  },
  {
   "cell_type": "code",
   "execution_count": 35,
   "metadata": {},
   "outputs": [],
   "source": [
    "### conversion a entero \n",
    "df_dum['Attrition'] = df_dum['Attrition'].map({'No': 0, 'Yes': 1}).astype(int)\n"
   ]
  },
  {
   "cell_type": "markdown",
   "metadata": {},
   "source": [
    "## **Seleccion de variables**"
   ]
  },
  {
   "cell_type": "code",
   "execution_count": 36,
   "metadata": {},
   "outputs": [],
   "source": [
    "#####Separamos nuestra variable de las demas variables\n",
    "X = df_dum.drop('Attrition',axis=1)\n",
    "y = df_dum['Attrition']"
   ]
  },
  {
   "cell_type": "code",
   "execution_count": 37,
   "metadata": {},
   "outputs": [],
   "source": [
    "######Seleccion de modelos\n",
    "### 1. Regresion logistica \n",
    "m_rl = LogisticRegression()\n",
    "### 2. Random forest\n",
    "m_rf = RandomForestClassifier()\n",
    "### 3 Arboles de decision\n",
    "m_add = DecisionTreeClassifier()\n"
   ]
  },
  {
   "cell_type": "code",
   "execution_count": 38,
   "metadata": {},
   "outputs": [],
   "source": [
    "####Modelos\n",
    "modelos = list([m_rl, m_rf, m_add])"
   ]
  },
  {
   "cell_type": "code",
   "execution_count": 39,
   "metadata": {},
   "outputs": [
    {
     "data": {
      "text/plain": [
       "(6,)"
      ]
     },
     "execution_count": 39,
     "metadata": {},
     "output_type": "execute_result"
    }
   ],
   "source": [
    "#####Seleccion de variables \n",
    "var_names=funciones.sel_variables(modelos,X,y,threshold=\"2.9*mean\")\n",
    "var_names.shape\n"
   ]
  },
  {
   "cell_type": "code",
   "execution_count": 40,
   "metadata": {},
   "outputs": [
    {
     "name": "stdout",
     "output_type": "stream",
     "text": [
      "<class 'pandas.core.frame.DataFrame'>\n",
      "RangeIndex: 4284 entries, 0 to 4283\n",
      "Data columns (total 6 columns):\n",
      " #   Column                    Non-Null Count  Dtype\n",
      "---  ------                    --------------  -----\n",
      " 0   JobSatisfaction           4284 non-null   int64\n",
      " 1   NumCompaniesWorked        4284 non-null   int64\n",
      " 2   TotalWorkingYears         4284 non-null   int64\n",
      " 3   resignationReason_Others  4284 non-null   uint8\n",
      " 4   resignationReason_Salary  4284 non-null   uint8\n",
      " 5   resignationReason_Stress  4284 non-null   uint8\n",
      "dtypes: int64(3), uint8(3)\n",
      "memory usage: 113.1 KB\n",
      "<class 'pandas.core.frame.DataFrame'>\n",
      "RangeIndex: 4284 entries, 0 to 4283\n",
      "Data columns (total 44 columns):\n",
      " #   Column                             Non-Null Count  Dtype\n",
      "---  ------                             --------------  -----\n",
      " 0   EnvironmentSatisfaction            4284 non-null   int64\n",
      " 1   JobSatisfaction                    4284 non-null   int64\n",
      " 2   WorkLifeBalance                    4284 non-null   int64\n",
      " 3   Age                                4284 non-null   int64\n",
      " 4   DistanceFromHome                   4284 non-null   int64\n",
      " 5   Education                          4284 non-null   int64\n",
      " 6   JobLevel                           4284 non-null   int64\n",
      " 7   MonthlyIncome                      4284 non-null   int64\n",
      " 8   NumCompaniesWorked                 4284 non-null   int64\n",
      " 9   PercentSalaryHike                  4284 non-null   int64\n",
      " 10  StockOptionLevel                   4284 non-null   int64\n",
      " 11  TotalWorkingYears                  4284 non-null   int64\n",
      " 12  TrainingTimesLastYear              4284 non-null   int64\n",
      " 13  JobInvolvement                     4284 non-null   int64\n",
      " 14  PerformanceRating                  4284 non-null   int64\n",
      " 15  BusinessTravel_Non-Travel          4284 non-null   uint8\n",
      " 16  BusinessTravel_Travel_Frequently   4284 non-null   uint8\n",
      " 17  BusinessTravel_Travel_Rarely       4284 non-null   uint8\n",
      " 18  Department_Human Resources         4284 non-null   uint8\n",
      " 19  Department_Research & Development  4284 non-null   uint8\n",
      " 20  Department_Sales                   4284 non-null   uint8\n",
      " 21  EducationField_Human Resources     4284 non-null   uint8\n",
      " 22  EducationField_Life Sciences       4284 non-null   uint8\n",
      " 23  EducationField_Marketing           4284 non-null   uint8\n",
      " 24  EducationField_Medical             4284 non-null   uint8\n",
      " 25  EducationField_Other               4284 non-null   uint8\n",
      " 26  EducationField_Technical Degree    4284 non-null   uint8\n",
      " 27  Gender_Female                      4284 non-null   uint8\n",
      " 28  Gender_Male                        4284 non-null   uint8\n",
      " 29  JobRole_Healthcare Representative  4284 non-null   uint8\n",
      " 30  JobRole_Human Resources            4284 non-null   uint8\n",
      " 31  JobRole_Laboratory Technician      4284 non-null   uint8\n",
      " 32  JobRole_Manager                    4284 non-null   uint8\n",
      " 33  JobRole_Manufacturing Director     4284 non-null   uint8\n",
      " 34  JobRole_Research Director          4284 non-null   uint8\n",
      " 35  JobRole_Research Scientist         4284 non-null   uint8\n",
      " 36  JobRole_Sales Executive            4284 non-null   uint8\n",
      " 37  JobRole_Sales Representative       4284 non-null   uint8\n",
      " 38  MaritalStatus_Divorced             4284 non-null   uint8\n",
      " 39  MaritalStatus_Married              4284 non-null   uint8\n",
      " 40  MaritalStatus_Single               4284 non-null   uint8\n",
      " 41  resignationReason_Others           4284 non-null   uint8\n",
      " 42  resignationReason_Salary           4284 non-null   uint8\n",
      " 43  resignationReason_Stress           4284 non-null   uint8\n",
      "dtypes: int64(15), uint8(29)\n",
      "memory usage: 623.5 KB\n"
     ]
    }
   ],
   "source": [
    "### matriz con variables seleccionadas\n",
    "X2=X[var_names]\n",
    "X2.info()\n",
    "X.info()"
   ]
  },
  {
   "cell_type": "markdown",
   "metadata": {},
   "source": [
    "## **Selección de modelo**"
   ]
  },
  {
   "cell_type": "code",
   "execution_count": 42,
   "metadata": {},
   "outputs": [
    {
     "name": "stderr",
     "output_type": "stream",
     "text": [
      "c:\\Users\\luisa\\anaconda3\\Lib\\site-packages\\sklearn\\linear_model\\_logistic.py:460: ConvergenceWarning: lbfgs failed to converge (status=1):\n",
      "STOP: TOTAL NO. of ITERATIONS REACHED LIMIT.\n",
      "\n",
      "Increase the number of iterations (max_iter) or scale the data as shown in:\n",
      "    https://scikit-learn.org/stable/modules/preprocessing.html\n",
      "Please also refer to the documentation for alternative solver options:\n",
      "    https://scikit-learn.org/stable/modules/linear_model.html#logistic-regression\n",
      "  n_iter_i = _check_optimize_result(\n"
     ]
    }
   ],
   "source": [
    "## base con todas las variables\n",
    "rmse_df=funciones.medir_modelos(modelos,\"f1\",X,y,6)  \n",
    "## base con variables seleccionadas\n",
    "rmse_varsel=funciones.medir_modelos(modelos,\"f1\",X2,y,6)\n",
    "\n",
    "rmse=pd.concat([rmse_df,rmse_varsel],axis=1)\n",
    "rmse.columns=['rl', 'rf', 'add',\n",
    "       'rl_Sel', 'rf_sel', 'add_sel']\n",
    "\n",
    "\n"
   ]
  },
  {
   "cell_type": "code",
   "execution_count": 43,
   "metadata": {},
   "outputs": [
    {
     "data": {
      "text/plain": [
       "<Axes: >"
      ]
     },
     "execution_count": 43,
     "metadata": {},
     "output_type": "execute_result"
    },
    {
     "data": {
      "image/png": "[encoded data removed]",
      "text/plain": [
       "<Figure size 640x480 with 1 Axes>"
      ]
     },
     "metadata": {},
     "output_type": "display_data"
    },
    {
     "data": {
      "image/png": "[encoded data removed]",
      "text/plain": [
       "<Figure size 640x480 with 1 Axes>"
      ]
     },
     "metadata": {},
     "output_type": "display_data"
    },
    {
     "data": {
      "image/png": "[encoded data removed]",
      "text/plain": [
       "<Figure size 640x480 with 1 Axes>"
      ]
     },
     "metadata": {},
     "output_type": "display_data"
    }
   ],
   "source": [
    "rmse_df.plot(kind='box') #### gráfico para modelos todas las varibles\n",
    "rmse_varsel.plot(kind='box') ### gráfico para modelo variables seleccionadas\n",
    "rmse.plot(kind='box') ### gráfico para modelos sel y todas las variables"
   ]
  },
  {
   "cell_type": "code",
   "execution_count": 44,
   "metadata": {},
   "outputs": [
    {
     "data": {
      "text/plain": [
       "rl         0.013333\n",
       "rf         0.997462\n",
       "add        1.000000\n",
       "rl_Sel     1.000000\n",
       "rf_sel     1.000000\n",
       "add_sel    1.000000\n",
       "dtype: float64"
      ]
     },
     "execution_count": 44,
     "metadata": {},
     "output_type": "execute_result"
    },
    {
     "data": {
      "image/png": "[encoded data removed]",
      "text/plain": [
       "<Figure size 640x480 with 1 Axes>"
      ]
     },
     "metadata": {},
     "output_type": "display_data"
    }
   ],
   "source": [
    "rmse2=rmse[ ['rl', 'rf', 'add','rl_Sel', 'rf_sel', 'add_sel']]\n",
    "rmse2.plot(kind='box') ### gráfico para modelos sel y todas las variables\n",
    "\n",
    "rmse.mean() ### medias de mape"
   ]
  },
  {
   "cell_type": "code",
   "execution_count": null,
   "metadata": {},
   "outputs": [],
   "source": []
  }
 ],
 "metadata": {
  "kernelspec": {
   "display_name": "base",
   "language": "python",
   "name": "python3"
  },
  "language_info": {
   "codemirror_mode": {
    "name": "ipython",
    "version": 3
   },
   "file_extension": ".py",
   "mimetype": "text/x-python",
   "name": "python",
   "nbconvert_exporter": "python",
   "pygments_lexer": "ipython3",
   "version": "3.11.4"
  }
 },
 "nbformat": 4,
 "nbformat_minor": 2
}
