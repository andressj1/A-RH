{
 "cells": [
  {
   "cell_type": "code",
   "execution_count": 112,
   "metadata": {},
   "outputs": [],
   "source": [
    "import warnings ## funciones para imprimir y registrar advertencias.\n",
    "warnings.filterwarnings(\"ignore\") #suprimir cualquier advertencia que pueda ser generada por el código."
   ]
  },
  {
   "cell_type": "code",
   "execution_count": 113,
   "metadata": {},
   "outputs": [],
   "source": [
    "###Librerias\n",
    "import pandas as pd ### para manejo de datos\n",
    "import sqlite3 as sql #### para bases de datos sql\n",
    "import a_funciones as funciones  ###archivo de funciones propias\n",
    "import sys ## saber ruta de la que carga paquetes\n",
    "\n",
    "%matplotlib inline"
   ]
  },
  {
   "cell_type": "code",
   "execution_count": 114,
   "metadata": {},
   "outputs": [],
   "source": [
    "##Ruta directorio que tiene paquetes\n",
    "sys.path\n",
    "sys.path.append('c:\\\\Users\\\\luisa\\\\OneDrive\\\\Desktop\\\\Analitica lll RH')"
   ]
  },
  {
   "cell_type": "markdown",
   "metadata": {},
   "source": [
    "**Preprocesamiento de datos**\n",
    "\n"
   ]
  },
  {
   "cell_type": "code",
   "execution_count": 115,
   "metadata": {},
   "outputs": [],
   "source": [
    "###Lectura de datos \n",
    "df1 = pd.read_csv(\"https://raw.githubusercontent.com/andressj1/A-RH/main/Bases/employee_survey_data.csv\", sep=\",\")\n",
    "df2 = pd.read_csv(\"https://raw.githubusercontent.com/andressj1/A-RH/main/Bases/general_data.csv\", sep=\",\")\n",
    "df3 = pd.read_csv(\"https://raw.githubusercontent.com/andressj1/A-RH/main/Bases/manager_survey.csv\", sep=\",\")\n",
    "df4 = pd.read_csv(\"https://raw.githubusercontent.com/andressj1/A-RH/main/Bases/retirement_info.csv\", sep=\",\")"
   ]
  },
  {
   "cell_type": "markdown",
   "metadata": {},
   "source": [
    "## **Preprocesamiento para la base1**"
   ]
  },
  {
   "cell_type": "code",
   "execution_count": 116,
   "metadata": {},
   "outputs": [
    {
     "data": {
      "text/html": [
       "<div>\n",
       "<style scoped>\n",
       "    .dataframe tbody tr th:only-of-type {\n",
       "        vertical-align: middle;\n",
       "    }\n",
       "\n",
       "    .dataframe tbody tr th {\n",
       "        vertical-align: top;\n",
       "    }\n",
       "\n",
       "    .dataframe thead th {\n",
       "        text-align: right;\n",
       "    }\n",
       "</style>\n",
       "<table border=\"1\" class=\"dataframe\">\n",
       "  <thead>\n",
       "    <tr style=\"text-align: right;\">\n",
       "      <th></th>\n",
       "      <th>Unnamed: 0</th>\n",
       "      <th>EmployeeID</th>\n",
       "      <th>EnvironmentSatisfaction</th>\n",
       "      <th>JobSatisfaction</th>\n",
       "      <th>WorkLifeBalance</th>\n",
       "      <th>DateSurvey</th>\n",
       "    </tr>\n",
       "  </thead>\n",
       "  <tbody>\n",
       "    <tr>\n",
       "      <th>0</th>\n",
       "      <td>0</td>\n",
       "      <td>1</td>\n",
       "      <td>3.0</td>\n",
       "      <td>4.0</td>\n",
       "      <td>2.0</td>\n",
       "      <td>2015-12-31</td>\n",
       "    </tr>\n",
       "    <tr>\n",
       "      <th>1</th>\n",
       "      <td>1</td>\n",
       "      <td>2</td>\n",
       "      <td>3.0</td>\n",
       "      <td>2.0</td>\n",
       "      <td>4.0</td>\n",
       "      <td>2015-12-31</td>\n",
       "    </tr>\n",
       "    <tr>\n",
       "      <th>2</th>\n",
       "      <td>2</td>\n",
       "      <td>3</td>\n",
       "      <td>2.0</td>\n",
       "      <td>2.0</td>\n",
       "      <td>1.0</td>\n",
       "      <td>2015-12-31</td>\n",
       "    </tr>\n",
       "  </tbody>\n",
       "</table>\n",
       "</div>"
      ],
      "text/plain": [
       "   Unnamed: 0  EmployeeID  EnvironmentSatisfaction  JobSatisfaction  \\\n",
       "0           0           1                      3.0              4.0   \n",
       "1           1           2                      3.0              2.0   \n",
       "2           2           3                      2.0              2.0   \n",
       "\n",
       "   WorkLifeBalance  DateSurvey  \n",
       "0              2.0  2015-12-31  \n",
       "1              4.0  2015-12-31  \n",
       "2              1.0  2015-12-31  "
      ]
     },
     "execution_count": 116,
     "metadata": {},
     "output_type": "execute_result"
    }
   ],
   "source": [
    "df1.head(3)"
   ]
  },
  {
   "cell_type": "code",
   "execution_count": 117,
   "metadata": {},
   "outputs": [],
   "source": [
    "###Eliminacion de columna que no aportaria en el modelo\n",
    "df1.drop([\"Unnamed: 0\"], axis=1, inplace=True)"
   ]
  },
  {
   "cell_type": "code",
   "execution_count": 118,
   "metadata": {},
   "outputs": [
    {
     "name": "stdout",
     "output_type": "stream",
     "text": [
      "EmployeeID                  0\n",
      "EnvironmentSatisfaction    50\n",
      "JobSatisfaction            40\n",
      "WorkLifeBalance            76\n",
      "DateSurvey                  0\n",
      "dtype: int64\n"
     ]
    }
   ],
   "source": [
    "## Verificación de valores nulos\n",
    "print(df1.isnull().sum())"
   ]
  },
  {
   "cell_type": "code",
   "execution_count": 119,
   "metadata": {},
   "outputs": [
    {
     "name": "stdout",
     "output_type": "stream",
     "text": [
      "3.0    2700\n",
      "4.0    2668\n",
      "2.0    1712\n",
      "1.0    1690\n",
      "Name: EnvironmentSatisfaction, dtype: int64\n",
      "2.7236031927023947\n",
      "3.0\n",
      "-------------------------------\n",
      "4.0    2734\n",
      "3.0    2646\n",
      "1.0    1720\n",
      "2.0    1680\n",
      "Name: JobSatisfaction, dtype: int64\n",
      "2.728246013667426\n",
      "3.0\n",
      "-------------------------------\n",
      "3.0    5320\n",
      "2.0    2038\n",
      "4.0     908\n",
      "1.0     478\n",
      "Name: WorkLifeBalance, dtype: int64\n",
      "2.7614364135407135\n",
      "3.0\n",
      "-------------------------------\n"
     ]
    }
   ],
   "source": [
    "##tratamiento de nulos\n",
    "print(df1['EnvironmentSatisfaction'].value_counts())\n",
    "print(df1['EnvironmentSatisfaction'].mean())\n",
    "print(df1['EnvironmentSatisfaction'].median())\n",
    "print('-------------------------------')\n",
    "\n",
    "print(df1['JobSatisfaction'].value_counts())\n",
    "print(df1['JobSatisfaction'].mean())\n",
    "print(df1['JobSatisfaction'].median())\n",
    "print('-------------------------------')\n",
    "\n",
    "print(df1['WorkLifeBalance'].value_counts())\n",
    "print(df1['WorkLifeBalance'].mean())\n",
    "print(df1['WorkLifeBalance'].median())\n",
    "print('-------------------------------')"
   ]
  },
  {
   "cell_type": "code",
   "execution_count": 120,
   "metadata": {},
   "outputs": [],
   "source": [
    "##al ser el valor que mas aparece, la media sea 3 y la moda de un valor muy cercano a 3; los nulos de esta variable seran reemplazado por 3\n",
    "df1['EnvironmentSatisfaction'] = df1['EnvironmentSatisfaction'].fillna(3.0)\n",
    "df1['JobSatisfaction'] = df1['JobSatisfaction'].fillna(3.0)\n",
    "df1['WorkLifeBalance'] = df1['WorkLifeBalance'].fillna(3.0)"
   ]
  },
  {
   "cell_type": "code",
   "execution_count": 121,
   "metadata": {},
   "outputs": [],
   "source": [
    "###cambio al tipo correcto de dato \n",
    "df1['DateSurvey'] = pd.to_datetime(df1['DateSurvey'], format='%Y-%m-%d')\n"
   ]
  },
  {
   "cell_type": "markdown",
   "metadata": {},
   "source": [
    "## **Preprocesamiento para la base2**"
   ]
  },
  {
   "cell_type": "code",
   "execution_count": 122,
   "metadata": {},
   "outputs": [
    {
     "data": {
      "text/html": [
       "<div>\n",
       "<style scoped>\n",
       "    .dataframe tbody tr th:only-of-type {\n",
       "        vertical-align: middle;\n",
       "    }\n",
       "\n",
       "    .dataframe tbody tr th {\n",
       "        vertical-align: top;\n",
       "    }\n",
       "\n",
       "    .dataframe thead th {\n",
       "        text-align: right;\n",
       "    }\n",
       "</style>\n",
       "<table border=\"1\" class=\"dataframe\">\n",
       "  <thead>\n",
       "    <tr style=\"text-align: right;\">\n",
       "      <th></th>\n",
       "      <th>Unnamed: 0</th>\n",
       "      <th>Age</th>\n",
       "      <th>BusinessTravel</th>\n",
       "      <th>Department</th>\n",
       "      <th>DistanceFromHome</th>\n",
       "      <th>Education</th>\n",
       "      <th>EducationField</th>\n",
       "      <th>EmployeeCount</th>\n",
       "      <th>EmployeeID</th>\n",
       "      <th>Gender</th>\n",
       "      <th>...</th>\n",
       "      <th>Over18</th>\n",
       "      <th>PercentSalaryHike</th>\n",
       "      <th>StandardHours</th>\n",
       "      <th>StockOptionLevel</th>\n",
       "      <th>TotalWorkingYears</th>\n",
       "      <th>TrainingTimesLastYear</th>\n",
       "      <th>YearsAtCompany</th>\n",
       "      <th>YearsSinceLastPromotion</th>\n",
       "      <th>YearsWithCurrManager</th>\n",
       "      <th>InfoDate</th>\n",
       "    </tr>\n",
       "  </thead>\n",
       "  <tbody>\n",
       "    <tr>\n",
       "      <th>0</th>\n",
       "      <td>0</td>\n",
       "      <td>51</td>\n",
       "      <td>Travel_Rarely</td>\n",
       "      <td>Sales</td>\n",
       "      <td>6</td>\n",
       "      <td>2</td>\n",
       "      <td>Life Sciences</td>\n",
       "      <td>1</td>\n",
       "      <td>1</td>\n",
       "      <td>Female</td>\n",
       "      <td>...</td>\n",
       "      <td>Y</td>\n",
       "      <td>11</td>\n",
       "      <td>8</td>\n",
       "      <td>0</td>\n",
       "      <td>1.0</td>\n",
       "      <td>6</td>\n",
       "      <td>1</td>\n",
       "      <td>0</td>\n",
       "      <td>0</td>\n",
       "      <td>2015-12-31</td>\n",
       "    </tr>\n",
       "    <tr>\n",
       "      <th>1</th>\n",
       "      <td>1</td>\n",
       "      <td>31</td>\n",
       "      <td>Travel_Frequently</td>\n",
       "      <td>Research &amp; Development</td>\n",
       "      <td>10</td>\n",
       "      <td>1</td>\n",
       "      <td>Life Sciences</td>\n",
       "      <td>1</td>\n",
       "      <td>2</td>\n",
       "      <td>Female</td>\n",
       "      <td>...</td>\n",
       "      <td>Y</td>\n",
       "      <td>23</td>\n",
       "      <td>8</td>\n",
       "      <td>1</td>\n",
       "      <td>6.0</td>\n",
       "      <td>3</td>\n",
       "      <td>5</td>\n",
       "      <td>1</td>\n",
       "      <td>4</td>\n",
       "      <td>2015-12-31</td>\n",
       "    </tr>\n",
       "    <tr>\n",
       "      <th>2</th>\n",
       "      <td>2</td>\n",
       "      <td>32</td>\n",
       "      <td>Travel_Frequently</td>\n",
       "      <td>Research &amp; Development</td>\n",
       "      <td>17</td>\n",
       "      <td>4</td>\n",
       "      <td>Other</td>\n",
       "      <td>1</td>\n",
       "      <td>3</td>\n",
       "      <td>Male</td>\n",
       "      <td>...</td>\n",
       "      <td>Y</td>\n",
       "      <td>15</td>\n",
       "      <td>8</td>\n",
       "      <td>3</td>\n",
       "      <td>5.0</td>\n",
       "      <td>2</td>\n",
       "      <td>5</td>\n",
       "      <td>0</td>\n",
       "      <td>3</td>\n",
       "      <td>2015-12-31</td>\n",
       "    </tr>\n",
       "  </tbody>\n",
       "</table>\n",
       "<p>3 rows × 25 columns</p>\n",
       "</div>"
      ],
      "text/plain": [
       "   Unnamed: 0  Age     BusinessTravel              Department  \\\n",
       "0           0   51      Travel_Rarely                   Sales   \n",
       "1           1   31  Travel_Frequently  Research & Development   \n",
       "2           2   32  Travel_Frequently  Research & Development   \n",
       "\n",
       "   DistanceFromHome  Education EducationField  EmployeeCount  EmployeeID  \\\n",
       "0                 6          2  Life Sciences              1           1   \n",
       "1                10          1  Life Sciences              1           2   \n",
       "2                17          4          Other              1           3   \n",
       "\n",
       "   Gender  ...  Over18 PercentSalaryHike StandardHours  StockOptionLevel  \\\n",
       "0  Female  ...       Y                11             8                 0   \n",
       "1  Female  ...       Y                23             8                 1   \n",
       "2    Male  ...       Y                15             8                 3   \n",
       "\n",
       "   TotalWorkingYears TrainingTimesLastYear  YearsAtCompany  \\\n",
       "0                1.0                     6               1   \n",
       "1                6.0                     3               5   \n",
       "2                5.0                     2               5   \n",
       "\n",
       "   YearsSinceLastPromotion  YearsWithCurrManager    InfoDate  \n",
       "0                        0                     0  2015-12-31  \n",
       "1                        1                     4  2015-12-31  \n",
       "2                        0                     3  2015-12-31  \n",
       "\n",
       "[3 rows x 25 columns]"
      ]
     },
     "execution_count": 122,
     "metadata": {},
     "output_type": "execute_result"
    }
   ],
   "source": [
    "df2.head(3)"
   ]
  },
  {
   "cell_type": "code",
   "execution_count": 123,
   "metadata": {},
   "outputs": [
    {
     "name": "stdout",
     "output_type": "stream",
     "text": [
      "Variables con un único valor:  Index(['EmployeeCount', 'Over18', 'StandardHours'], dtype='object')\n"
     ]
    }
   ],
   "source": [
    "# Obtener la cantidad de valores únicos en cada columna; solo se aplico a esta base debido a la cantidad de variables\n",
    "nunique_values = df2.nunique()\n",
    "\n",
    "# Seleccionar las columnas con un solo valor\n",
    "single_value_columns = nunique_values[nunique_values == 1].index\n",
    "\n",
    "print(\"Variables con un único valor: \", single_value_columns)"
   ]
  },
  {
   "cell_type": "code",
   "execution_count": 124,
   "metadata": {},
   "outputs": [],
   "source": [
    "###Eliminacion de variables que no aportaria en el modelo\n",
    "columns_to_drop = ['EmployeeCount', 'Over18', 'StandardHours', 'Unnamed: 0']\n",
    "df2 = df2.drop(columns=columns_to_drop)"
   ]
  },
  {
   "cell_type": "code",
   "execution_count": 125,
   "metadata": {},
   "outputs": [
    {
     "name": "stdout",
     "output_type": "stream",
     "text": [
      "Age                         0\n",
      "BusinessTravel              0\n",
      "Department                  0\n",
      "DistanceFromHome            0\n",
      "Education                   0\n",
      "EducationField              0\n",
      "EmployeeID                  0\n",
      "Gender                      0\n",
      "JobLevel                    0\n",
      "JobRole                     0\n",
      "MaritalStatus               0\n",
      "MonthlyIncome               0\n",
      "NumCompaniesWorked         38\n",
      "PercentSalaryHike           0\n",
      "StockOptionLevel            0\n",
      "TotalWorkingYears          18\n",
      "TrainingTimesLastYear       0\n",
      "YearsAtCompany              0\n",
      "YearsSinceLastPromotion     0\n",
      "YearsWithCurrManager        0\n",
      "InfoDate                    0\n",
      "dtype: int64\n"
     ]
    }
   ],
   "source": [
    "## Verificación de valores nulos\n",
    "print(df2.isnull().sum())"
   ]
  },
  {
   "cell_type": "code",
   "execution_count": 126,
   "metadata": {},
   "outputs": [
    {
     "name": "stdout",
     "output_type": "stream",
     "text": [
      "1.0    3116\n",
      "0.0    1172\n",
      "3.0     948\n",
      "2.0     876\n",
      "4.0     830\n",
      "7.0     444\n",
      "6.0     416\n",
      "5.0     374\n",
      "9.0     312\n",
      "8.0     294\n",
      "Name: NumCompaniesWorked, dtype: int64\n",
      "2.6948303347756775\n",
      "2.0\n",
      "-------------------------------\n",
      "10.0    1210\n",
      "6.0      750\n",
      "8.0      614\n",
      "9.0      574\n",
      "5.0      528\n",
      "7.0      486\n",
      "1.0      484\n",
      "4.0      378\n",
      "12.0     288\n",
      "3.0      252\n",
      "15.0     240\n",
      "16.0     222\n",
      "13.0     216\n",
      "11.0     212\n",
      "21.0     204\n",
      "17.0     198\n",
      "14.0     186\n",
      "2.0      186\n",
      "20.0     178\n",
      "18.0     162\n",
      "23.0     132\n",
      "19.0     132\n",
      "22.0     124\n",
      "24.0     108\n",
      "25.0      84\n",
      "26.0      84\n",
      "28.0      84\n",
      "0.0       66\n",
      "29.0      60\n",
      "31.0      54\n",
      "32.0      54\n",
      "27.0      42\n",
      "30.0      42\n",
      "33.0      42\n",
      "36.0      36\n",
      "34.0      30\n",
      "37.0      24\n",
      "35.0      18\n",
      "40.0      12\n",
      "38.0       6\n",
      "Name: TotalWorkingYears, dtype: int64\n",
      "11.279936378095888\n",
      "10.0\n",
      "-------------------------------\n"
     ]
    }
   ],
   "source": [
    "print(df2['NumCompaniesWorked'].value_counts())\n",
    "print(df2['NumCompaniesWorked'].mean())\n",
    "print(df2['NumCompaniesWorked'].median())\n",
    "print('-------------------------------')\n",
    "\n",
    "print(df2['TotalWorkingYears'].value_counts())\n",
    "print(df2['TotalWorkingYears'].mean())\n",
    "print(df2['TotalWorkingYears'].median())\n",
    "print('-------------------------------')\n"
   ]
  },
  {
   "cell_type": "code",
   "execution_count": 127,
   "metadata": {},
   "outputs": [],
   "source": [
    "df2['NumCompaniesWorked'] = df2['NumCompaniesWorked'].fillna(1.0)\n",
    "df2['TotalWorkingYears'] = df2['TotalWorkingYears'].fillna(10.0)"
   ]
  },
  {
   "cell_type": "code",
   "execution_count": 128,
   "metadata": {},
   "outputs": [],
   "source": [
    "###cambio al tipo correcto de dato \n",
    "df2['InfoDate'] = pd.to_datetime(df2['InfoDate'], format='%Y-%m-%d')"
   ]
  },
  {
   "cell_type": "markdown",
   "metadata": {},
   "source": [
    "## **Preprocesamiento para la base3**"
   ]
  },
  {
   "cell_type": "code",
   "execution_count": 129,
   "metadata": {},
   "outputs": [
    {
     "data": {
      "text/html": [
       "<div>\n",
       "<style scoped>\n",
       "    .dataframe tbody tr th:only-of-type {\n",
       "        vertical-align: middle;\n",
       "    }\n",
       "\n",
       "    .dataframe tbody tr th {\n",
       "        vertical-align: top;\n",
       "    }\n",
       "\n",
       "    .dataframe thead th {\n",
       "        text-align: right;\n",
       "    }\n",
       "</style>\n",
       "<table border=\"1\" class=\"dataframe\">\n",
       "  <thead>\n",
       "    <tr style=\"text-align: right;\">\n",
       "      <th></th>\n",
       "      <th>Unnamed: 0</th>\n",
       "      <th>EmployeeID</th>\n",
       "      <th>JobInvolvement</th>\n",
       "      <th>PerformanceRating</th>\n",
       "      <th>SurveyDate</th>\n",
       "    </tr>\n",
       "  </thead>\n",
       "  <tbody>\n",
       "    <tr>\n",
       "      <th>0</th>\n",
       "      <td>0</td>\n",
       "      <td>1</td>\n",
       "      <td>3</td>\n",
       "      <td>3</td>\n",
       "      <td>2015-12-31</td>\n",
       "    </tr>\n",
       "    <tr>\n",
       "      <th>1</th>\n",
       "      <td>1</td>\n",
       "      <td>2</td>\n",
       "      <td>2</td>\n",
       "      <td>4</td>\n",
       "      <td>2015-12-31</td>\n",
       "    </tr>\n",
       "    <tr>\n",
       "      <th>2</th>\n",
       "      <td>2</td>\n",
       "      <td>3</td>\n",
       "      <td>3</td>\n",
       "      <td>3</td>\n",
       "      <td>2015-12-31</td>\n",
       "    </tr>\n",
       "  </tbody>\n",
       "</table>\n",
       "</div>"
      ],
      "text/plain": [
       "   Unnamed: 0  EmployeeID  JobInvolvement  PerformanceRating  SurveyDate\n",
       "0           0           1               3                  3  2015-12-31\n",
       "1           1           2               2                  4  2015-12-31\n",
       "2           2           3               3                  3  2015-12-31"
      ]
     },
     "execution_count": 129,
     "metadata": {},
     "output_type": "execute_result"
    }
   ],
   "source": [
    "df3.head(3)"
   ]
  },
  {
   "cell_type": "code",
   "execution_count": 130,
   "metadata": {},
   "outputs": [],
   "source": [
    "###Eliminacion de columna que no aportaria en el modelo\n",
    "df3.drop([\"Unnamed: 0\"], axis=1, inplace=True)"
   ]
  },
  {
   "cell_type": "code",
   "execution_count": 131,
   "metadata": {},
   "outputs": [
    {
     "name": "stdout",
     "output_type": "stream",
     "text": [
      "EmployeeID           0\n",
      "JobInvolvement       0\n",
      "PerformanceRating    0\n",
      "SurveyDate           0\n",
      "dtype: int64\n"
     ]
    }
   ],
   "source": [
    "## Verificación de valores nulos\n",
    "print(df3.isnull().sum())"
   ]
  },
  {
   "cell_type": "code",
   "execution_count": 132,
   "metadata": {},
   "outputs": [],
   "source": [
    "###cambio al tipo correcto de dato \n",
    "df3['SurveyDate'] = pd.to_datetime(df3['SurveyDate'], format='%Y-%m-%d')"
   ]
  },
  {
   "cell_type": "markdown",
   "metadata": {},
   "source": [
    "## **Preprocesamiento para la base4**"
   ]
  },
  {
   "cell_type": "code",
   "execution_count": 133,
   "metadata": {},
   "outputs": [
    {
     "data": {
      "text/html": [
       "<div>\n",
       "<style scoped>\n",
       "    .dataframe tbody tr th:only-of-type {\n",
       "        vertical-align: middle;\n",
       "    }\n",
       "\n",
       "    .dataframe tbody tr th {\n",
       "        vertical-align: top;\n",
       "    }\n",
       "\n",
       "    .dataframe thead th {\n",
       "        text-align: right;\n",
       "    }\n",
       "</style>\n",
       "<table border=\"1\" class=\"dataframe\">\n",
       "  <thead>\n",
       "    <tr style=\"text-align: right;\">\n",
       "      <th></th>\n",
       "      <th>Unnamed: 0.1</th>\n",
       "      <th>Unnamed: 0</th>\n",
       "      <th>EmployeeID</th>\n",
       "      <th>Attrition</th>\n",
       "      <th>retirementDate</th>\n",
       "      <th>retirementType</th>\n",
       "      <th>resignationReason</th>\n",
       "    </tr>\n",
       "  </thead>\n",
       "  <tbody>\n",
       "    <tr>\n",
       "      <th>0</th>\n",
       "      <td>0</td>\n",
       "      <td>0</td>\n",
       "      <td>2</td>\n",
       "      <td>Yes</td>\n",
       "      <td>2016-10-15</td>\n",
       "      <td>Resignation</td>\n",
       "      <td>Others</td>\n",
       "    </tr>\n",
       "    <tr>\n",
       "      <th>1</th>\n",
       "      <td>1</td>\n",
       "      <td>1</td>\n",
       "      <td>7</td>\n",
       "      <td>Yes</td>\n",
       "      <td>2016-07-20</td>\n",
       "      <td>Resignation</td>\n",
       "      <td>Stress</td>\n",
       "    </tr>\n",
       "    <tr>\n",
       "      <th>2</th>\n",
       "      <td>2</td>\n",
       "      <td>2</td>\n",
       "      <td>14</td>\n",
       "      <td>Yes</td>\n",
       "      <td>2016-11-08</td>\n",
       "      <td>Resignation</td>\n",
       "      <td>Others</td>\n",
       "    </tr>\n",
       "  </tbody>\n",
       "</table>\n",
       "</div>"
      ],
      "text/plain": [
       "   Unnamed: 0.1  Unnamed: 0  EmployeeID Attrition retirementDate  \\\n",
       "0             0           0           2       Yes     2016-10-15   \n",
       "1             1           1           7       Yes     2016-07-20   \n",
       "2             2           2          14       Yes     2016-11-08   \n",
       "\n",
       "  retirementType resignationReason  \n",
       "0    Resignation            Others  \n",
       "1    Resignation            Stress  \n",
       "2    Resignation            Others  "
      ]
     },
     "execution_count": 133,
     "metadata": {},
     "output_type": "execute_result"
    }
   ],
   "source": [
    "df4.head(3)"
   ]
  },
  {
   "cell_type": "code",
   "execution_count": 134,
   "metadata": {},
   "outputs": [],
   "source": [
    "###Eliminacion de columna que no aportaria en el modelo\n",
    "df4.drop([\"Unnamed: 0.1\"], axis=1, inplace=True)"
   ]
  },
  {
   "cell_type": "code",
   "execution_count": 135,
   "metadata": {},
   "outputs": [
    {
     "name": "stdout",
     "output_type": "stream",
     "text": [
      "Unnamed: 0            0\n",
      "EmployeeID            0\n",
      "Attrition             0\n",
      "retirementDate        0\n",
      "retirementType        0\n",
      "resignationReason    70\n",
      "dtype: int64\n"
     ]
    }
   ],
   "source": [
    "## Verificación de valores nulos\n",
    "print(df4.isnull().sum())"
   ]
  },
  {
   "cell_type": "code",
   "execution_count": 136,
   "metadata": {},
   "outputs": [
    {
     "name": "stdout",
     "output_type": "stream",
     "text": [
      "Others    323\n",
      "Salary    189\n",
      "Stress    129\n",
      "Name: resignationReason, dtype: int64\n"
     ]
    }
   ],
   "source": [
    "print(df4['resignationReason'].value_counts())\n"
   ]
  },
  {
   "cell_type": "code",
   "execution_count": 137,
   "metadata": {},
   "outputs": [],
   "source": [
    "df4['resignationReason'] = df4['resignationReason'].fillna(\"desconocido\")"
   ]
  },
  {
   "cell_type": "code",
   "execution_count": 138,
   "metadata": {},
   "outputs": [
    {
     "name": "stdout",
     "output_type": "stream",
     "text": [
      "<class 'pandas.core.frame.DataFrame'>\n",
      "RangeIndex: 711 entries, 0 to 710\n",
      "Data columns (total 6 columns):\n",
      " #   Column             Non-Null Count  Dtype \n",
      "---  ------             --------------  ----- \n",
      " 0   Unnamed: 0         711 non-null    int64 \n",
      " 1   EmployeeID         711 non-null    int64 \n",
      " 2   Attrition          711 non-null    object\n",
      " 3   retirementDate     711 non-null    object\n",
      " 4   retirementType     711 non-null    object\n",
      " 5   resignationReason  711 non-null    object\n",
      "dtypes: int64(2), object(4)\n",
      "memory usage: 33.5+ KB\n"
     ]
    }
   ],
   "source": [
    "df4.info()"
   ]
  },
  {
   "cell_type": "code",
   "execution_count": 139,
   "metadata": {},
   "outputs": [],
   "source": [
    "###cambio al tipo correcto de dato\n",
    "df4['retirementDate'] = pd.to_datetime(df4['retirementDate'], format='%Y-%m-%d')"
   ]
  },
  {
   "cell_type": "markdown",
   "metadata": {},
   "source": [
    "## **Crear base**"
   ]
  },
  {
   "cell_type": "code",
   "execution_count": 140,
   "metadata": {},
   "outputs": [],
   "source": [
    "#### crear base de datos para manejo de datos ####\n",
    "\n",
    "conn= sql.connect(\"Bases\\\\db_empleados\") ### crea una base de datos con el nombre dentro de comillas, si existe crea una conexión.\n",
    "cur=conn.cursor() ### ejecutar funciones  en BD"
   ]
  },
  {
   "cell_type": "code",
   "execution_count": 141,
   "metadata": {},
   "outputs": [
    {
     "data": {
      "text/plain": [
       "711"
      ]
     },
     "execution_count": 141,
     "metadata": {},
     "output_type": "execute_result"
    }
   ],
   "source": [
    "### Llevar tablas a base de datos\n",
    "df1.to_sql(\"encuesta\",conn,if_exists=\"replace\")\n",
    "df2.to_sql(\"general\",conn,if_exists=\"replace\")\n",
    "df3.to_sql(\"encuesta2\",conn,if_exists=\"replace\")\n",
    "df4.to_sql(\"retiros\",conn,if_exists=\"replace\")"
   ]
  },
  {
   "cell_type": "code",
   "execution_count": 142,
   "metadata": {},
   "outputs": [
    {
     "data": {
      "text/plain": [
       "[('df1',),\n",
       " ('df2',),\n",
       " ('df3',),\n",
       " ('df4',),\n",
       " ('encuesta',),\n",
       " ('general',),\n",
       " ('encuesta2',),\n",
       " ('retiros',)]"
      ]
     },
     "execution_count": 142,
     "metadata": {},
     "output_type": "execute_result"
    }
   ],
   "source": [
    "cur.execute(\"Select name from sqlite_master where type='table'\") ### consultar bases de datos\n",
    "cur.fetchall()"
   ]
  }
 ],
 "metadata": {
  "kernelspec": {
   "display_name": "base",
   "language": "python",
   "name": "python3"
  },
  "language_info": {
   "codemirror_mode": {
    "name": "ipython",
    "version": 3
   },
   "file_extension": ".py",
   "mimetype": "text/x-python",
   "name": "python",
   "nbconvert_exporter": "python",
   "pygments_lexer": "ipython3",
   "version": "3.11.4"
  }
 },
 "nbformat": 4,
 "nbformat_minor": 2
}
