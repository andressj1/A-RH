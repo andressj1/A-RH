{
 "cells": [
  {
   "cell_type": "markdown",
   "metadata": {},
   "source": [
    "*Preprocesamiento*\n"
   ]
  },
  {
   "cell_type": "code",
   "execution_count": 19,
   "metadata": {},
   "outputs": [],
   "source": [
    "import warnings ## funciones para imprimir y registrar advertencias.\n",
    "warnings.filterwarnings(\"ignore\") #suprimir cualquier advertencia que pueda ser generada por el código."
   ]
  },
  {
   "cell_type": "code",
   "execution_count": 20,
   "metadata": {},
   "outputs": [],
   "source": [
    "###Librerias\n",
    "import sqlite3 as sql \n",
    "import numpy as np\n",
    "import seaborn as sns\n",
    "import matplotlib.pyplot as plt\n",
    "import pandas as pd\n",
    "\n",
    "%matplotlib inline"
   ]
  },
  {
   "cell_type": "code",
   "execution_count": 21,
   "metadata": {},
   "outputs": [],
   "source": [
    "###Lectura de datos \n",
    "df1 = pd.read_csv(\"https://raw.githubusercontent.com/andressj1/A-RH/main/Bases/employee_survey_data.csv\", sep=\",\")\n",
    "df2 = pd.read_csv(\"https://raw.githubusercontent.com/andressj1/A-RH/main/Bases/general_data.csv\", sep=\",\")\n",
    "df3 = pd.read_csv(\"https://raw.githubusercontent.com/andressj1/A-RH/main/Bases/manager_survey.csv\", sep=\",\")\n",
    "df4 = pd.read_csv(\"https://raw.githubusercontent.com/andressj1/A-RH/main/Bases/retirement_info.csv\", sep=\",\")"
   ]
  },
  {
   "cell_type": "code",
   "execution_count": 28,
   "metadata": {},
   "outputs": [
    {
     "data": {
      "text/html": [
       "<div>\n",
       "<style scoped>\n",
       "    .dataframe tbody tr th:only-of-type {\n",
       "        vertical-align: middle;\n",
       "    }\n",
       "\n",
       "    .dataframe tbody tr th {\n",
       "        vertical-align: top;\n",
       "    }\n",
       "\n",
       "    .dataframe thead th {\n",
       "        text-align: right;\n",
       "    }\n",
       "</style>\n",
       "<table border=\"1\" class=\"dataframe\">\n",
       "  <thead>\n",
       "    <tr style=\"text-align: right;\">\n",
       "      <th></th>\n",
       "      <th>EmployeeID</th>\n",
       "      <th>EnvironmentSatisfaction</th>\n",
       "      <th>JobSatisfaction</th>\n",
       "      <th>WorkLifeBalance</th>\n",
       "      <th>DateSurvey</th>\n",
       "    </tr>\n",
       "  </thead>\n",
       "  <tbody>\n",
       "    <tr>\n",
       "      <th>0</th>\n",
       "      <td>1</td>\n",
       "      <td>3.0</td>\n",
       "      <td>4.0</td>\n",
       "      <td>2.0</td>\n",
       "      <td>2015-12-31</td>\n",
       "    </tr>\n",
       "    <tr>\n",
       "      <th>1</th>\n",
       "      <td>2</td>\n",
       "      <td>3.0</td>\n",
       "      <td>2.0</td>\n",
       "      <td>4.0</td>\n",
       "      <td>2015-12-31</td>\n",
       "    </tr>\n",
       "    <tr>\n",
       "      <th>2</th>\n",
       "      <td>3</td>\n",
       "      <td>2.0</td>\n",
       "      <td>2.0</td>\n",
       "      <td>1.0</td>\n",
       "      <td>2015-12-31</td>\n",
       "    </tr>\n",
       "  </tbody>\n",
       "</table>\n",
       "</div>"
      ],
      "text/plain": [
       "   EmployeeID  EnvironmentSatisfaction  JobSatisfaction  WorkLifeBalance  \\\n",
       "0           1                      3.0              4.0              2.0   \n",
       "1           2                      3.0              2.0              4.0   \n",
       "2           3                      2.0              2.0              1.0   \n",
       "\n",
       "   DateSurvey  \n",
       "0  2015-12-31  \n",
       "1  2015-12-31  \n",
       "2  2015-12-31  "
      ]
     },
     "execution_count": 28,
     "metadata": {},
     "output_type": "execute_result"
    }
   ],
   "source": [
    "df1.head(3)"
   ]
  },
  {
   "cell_type": "code",
   "execution_count": 26,
   "metadata": {},
   "outputs": [],
   "source": [
    "###Eliminacion de columna que no aportaria en el modelo\n",
    "df1.drop([\"Unnamed: 0\"], axis=1, inplace=True)"
   ]
  },
  {
   "cell_type": "code",
   "execution_count": 30,
   "metadata": {},
   "outputs": [
    {
     "name": "stdout",
     "output_type": "stream",
     "text": [
      "EmployeeID                  0\n",
      "EnvironmentSatisfaction    50\n",
      "JobSatisfaction            40\n",
      "WorkLifeBalance            76\n",
      "DateSurvey                  0\n",
      "dtype: int64\n"
     ]
    }
   ],
   "source": [
    "## Verificación de valores nulos\n",
    "print(df1.isnull().sum())"
   ]
  },
  {
   "cell_type": "code",
   "execution_count": 31,
   "metadata": {},
   "outputs": [
    {
     "name": "stdout",
     "output_type": "stream",
     "text": [
      "3.0    2700\n",
      "4.0    2668\n",
      "2.0    1712\n",
      "1.0    1690\n",
      "Name: EnvironmentSatisfaction, dtype: int64\n",
      "2.7236031927023947\n",
      "3.0\n",
      "-------------------------------\n",
      "4.0    2734\n",
      "3.0    2646\n",
      "1.0    1720\n",
      "2.0    1680\n",
      "Name: JobSatisfaction, dtype: int64\n",
      "2.728246013667426\n",
      "3.0\n",
      "-------------------------------\n",
      "3.0    5320\n",
      "2.0    2038\n",
      "4.0     908\n",
      "1.0     478\n",
      "Name: WorkLifeBalance, dtype: int64\n",
      "2.7614364135407135\n",
      "3.0\n",
      "-------------------------------\n"
     ]
    }
   ],
   "source": [
    "##tratamiento de nulos\n",
    "print(df1['EnvironmentSatisfaction'].value_counts())\n",
    "print(df1['EnvironmentSatisfaction'].mean())\n",
    "print(df1['EnvironmentSatisfaction'].median())\n",
    "print('-------------------------------')\n",
    "\n",
    "print(df1['JobSatisfaction'].value_counts())\n",
    "print(df1['JobSatisfaction'].mean())\n",
    "print(df1['JobSatisfaction'].median())\n",
    "print('-------------------------------')\n",
    "\n",
    "print(df1['WorkLifeBalance'].value_counts())\n",
    "print(df1['WorkLifeBalance'].mean())\n",
    "print(df1['WorkLifeBalance'].median())\n",
    "print('-------------------------------')"
   ]
  },
  {
   "cell_type": "code",
   "execution_count": 32,
   "metadata": {},
   "outputs": [],
   "source": [
    "##al ser el valor que mas aparece, la media sea 3 y la moda de un valor muy cercano a 3; los nulos de esta variable seran reemplazado por 3\n",
    "df1['EnvironmentSatisfaction'] = df1['EnvironmentSatisfaction'].fillna(3.0)\n",
    "df1['JobSatisfaction'] = df1['JobSatisfaction'].fillna(3.0)\n",
    "df1['WorkLifeBalance'] = df1['WorkLifeBalance'].fillna(3.0)"
   ]
  },
  {
   "cell_type": "code",
   "execution_count": 33,
   "metadata": {},
   "outputs": [
    {
     "data": {
      "text/html": [
       "<div>\n",
       "<style scoped>\n",
       "    .dataframe tbody tr th:only-of-type {\n",
       "        vertical-align: middle;\n",
       "    }\n",
       "\n",
       "    .dataframe tbody tr th {\n",
       "        vertical-align: top;\n",
       "    }\n",
       "\n",
       "    .dataframe thead th {\n",
       "        text-align: right;\n",
       "    }\n",
       "</style>\n",
       "<table border=\"1\" class=\"dataframe\">\n",
       "  <thead>\n",
       "    <tr style=\"text-align: right;\">\n",
       "      <th></th>\n",
       "      <th>Unnamed: 0</th>\n",
       "      <th>Age</th>\n",
       "      <th>BusinessTravel</th>\n",
       "      <th>Department</th>\n",
       "      <th>DistanceFromHome</th>\n",
       "      <th>Education</th>\n",
       "      <th>EducationField</th>\n",
       "      <th>EmployeeCount</th>\n",
       "      <th>EmployeeID</th>\n",
       "      <th>Gender</th>\n",
       "      <th>...</th>\n",
       "      <th>Over18</th>\n",
       "      <th>PercentSalaryHike</th>\n",
       "      <th>StandardHours</th>\n",
       "      <th>StockOptionLevel</th>\n",
       "      <th>TotalWorkingYears</th>\n",
       "      <th>TrainingTimesLastYear</th>\n",
       "      <th>YearsAtCompany</th>\n",
       "      <th>YearsSinceLastPromotion</th>\n",
       "      <th>YearsWithCurrManager</th>\n",
       "      <th>InfoDate</th>\n",
       "    </tr>\n",
       "  </thead>\n",
       "  <tbody>\n",
       "    <tr>\n",
       "      <th>0</th>\n",
       "      <td>0</td>\n",
       "      <td>51</td>\n",
       "      <td>Travel_Rarely</td>\n",
       "      <td>Sales</td>\n",
       "      <td>6</td>\n",
       "      <td>2</td>\n",
       "      <td>Life Sciences</td>\n",
       "      <td>1</td>\n",
       "      <td>1</td>\n",
       "      <td>Female</td>\n",
       "      <td>...</td>\n",
       "      <td>Y</td>\n",
       "      <td>11</td>\n",
       "      <td>8</td>\n",
       "      <td>0</td>\n",
       "      <td>1.0</td>\n",
       "      <td>6</td>\n",
       "      <td>1</td>\n",
       "      <td>0</td>\n",
       "      <td>0</td>\n",
       "      <td>2015-12-31</td>\n",
       "    </tr>\n",
       "    <tr>\n",
       "      <th>1</th>\n",
       "      <td>1</td>\n",
       "      <td>31</td>\n",
       "      <td>Travel_Frequently</td>\n",
       "      <td>Research &amp; Development</td>\n",
       "      <td>10</td>\n",
       "      <td>1</td>\n",
       "      <td>Life Sciences</td>\n",
       "      <td>1</td>\n",
       "      <td>2</td>\n",
       "      <td>Female</td>\n",
       "      <td>...</td>\n",
       "      <td>Y</td>\n",
       "      <td>23</td>\n",
       "      <td>8</td>\n",
       "      <td>1</td>\n",
       "      <td>6.0</td>\n",
       "      <td>3</td>\n",
       "      <td>5</td>\n",
       "      <td>1</td>\n",
       "      <td>4</td>\n",
       "      <td>2015-12-31</td>\n",
       "    </tr>\n",
       "    <tr>\n",
       "      <th>2</th>\n",
       "      <td>2</td>\n",
       "      <td>32</td>\n",
       "      <td>Travel_Frequently</td>\n",
       "      <td>Research &amp; Development</td>\n",
       "      <td>17</td>\n",
       "      <td>4</td>\n",
       "      <td>Other</td>\n",
       "      <td>1</td>\n",
       "      <td>3</td>\n",
       "      <td>Male</td>\n",
       "      <td>...</td>\n",
       "      <td>Y</td>\n",
       "      <td>15</td>\n",
       "      <td>8</td>\n",
       "      <td>3</td>\n",
       "      <td>5.0</td>\n",
       "      <td>2</td>\n",
       "      <td>5</td>\n",
       "      <td>0</td>\n",
       "      <td>3</td>\n",
       "      <td>2015-12-31</td>\n",
       "    </tr>\n",
       "  </tbody>\n",
       "</table>\n",
       "<p>3 rows × 25 columns</p>\n",
       "</div>"
      ],
      "text/plain": [
       "   Unnamed: 0  Age     BusinessTravel              Department  \\\n",
       "0           0   51      Travel_Rarely                   Sales   \n",
       "1           1   31  Travel_Frequently  Research & Development   \n",
       "2           2   32  Travel_Frequently  Research & Development   \n",
       "\n",
       "   DistanceFromHome  Education EducationField  EmployeeCount  EmployeeID  \\\n",
       "0                 6          2  Life Sciences              1           1   \n",
       "1                10          1  Life Sciences              1           2   \n",
       "2                17          4          Other              1           3   \n",
       "\n",
       "   Gender  ...  Over18 PercentSalaryHike StandardHours  StockOptionLevel  \\\n",
       "0  Female  ...       Y                11             8                 0   \n",
       "1  Female  ...       Y                23             8                 1   \n",
       "2    Male  ...       Y                15             8                 3   \n",
       "\n",
       "   TotalWorkingYears TrainingTimesLastYear  YearsAtCompany  \\\n",
       "0                1.0                     6               1   \n",
       "1                6.0                     3               5   \n",
       "2                5.0                     2               5   \n",
       "\n",
       "   YearsSinceLastPromotion  YearsWithCurrManager    InfoDate  \n",
       "0                        0                     0  2015-12-31  \n",
       "1                        1                     4  2015-12-31  \n",
       "2                        0                     3  2015-12-31  \n",
       "\n",
       "[3 rows x 25 columns]"
      ]
     },
     "execution_count": 33,
     "metadata": {},
     "output_type": "execute_result"
    }
   ],
   "source": [
    "df2.head(3)"
   ]
  },
  {
   "cell_type": "code",
   "execution_count": 35,
   "metadata": {},
   "outputs": [],
   "source": [
    "###Eliminacion de columna que no aportaria en el modelo\n",
    "df2.drop([\"Unnamed: 0\"], axis=1, inplace=True)"
   ]
  },
  {
   "cell_type": "code",
   "execution_count": 38,
   "metadata": {},
   "outputs": [
    {
     "name": "stdout",
     "output_type": "stream",
     "text": [
      "Age                         0\n",
      "BusinessTravel              0\n",
      "Department                  0\n",
      "DistanceFromHome            0\n",
      "Education                   0\n",
      "EducationField              0\n",
      "EmployeeCount               0\n",
      "EmployeeID                  0\n",
      "Gender                      0\n",
      "JobLevel                    0\n",
      "JobRole                     0\n",
      "MaritalStatus               0\n",
      "MonthlyIncome               0\n",
      "NumCompaniesWorked         38\n",
      "Over18                      0\n",
      "PercentSalaryHike           0\n",
      "StandardHours               0\n",
      "StockOptionLevel            0\n",
      "TotalWorkingYears          18\n",
      "TrainingTimesLastYear       0\n",
      "YearsAtCompany              0\n",
      "YearsSinceLastPromotion     0\n",
      "YearsWithCurrManager        0\n",
      "InfoDate                    0\n",
      "dtype: int64\n"
     ]
    }
   ],
   "source": [
    "## Verificación de valores nulos\n",
    "print(df2.isnull().sum())"
   ]
  }
 ],
 "metadata": {
  "kernelspec": {
   "display_name": "base",
   "language": "python",
   "name": "python3"
  },
  "language_info": {
   "codemirror_mode": {
    "name": "ipython",
    "version": 3
   },
   "file_extension": ".py",
   "mimetype": "text/x-python",
   "name": "python",
   "nbconvert_exporter": "python",
   "pygments_lexer": "ipython3",
   "version": "3.11.4"
  }
 },
 "nbformat": 4,
 "nbformat_minor": 2
}
