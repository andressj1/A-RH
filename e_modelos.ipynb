{
 "cells": [
  {
   "cell_type": "code",
   "execution_count": 23,
   "metadata": {},
   "outputs": [],
   "source": [
    "### Librerias\n",
    "\n",
    "import pandas as pd ### para manejo de datos\n",
    "import a_funciones as funciones  ###archivo de funciones propias\n",
    "import numpy as np #procesamiento eficiente de grandes conjuntos de datos y la realización de operaciones matemáticas\n",
    "import plotly.express as px # Graficas lindas\n",
    "from sklearn.model_selection import RandomizedSearchCV # búsqueda aleatoria de hiperparámetros \n",
    "import joblib  ### para guardar y cargar modelos\n",
    "from sklearn.preprocessing import StandardScaler ## escalar variables \n",
    "import openpyxl # trabajar con archivos de Excel\n",
    "from sklearn.metrics import mean_squared_error\n",
    "from sklearn.model_selection import train_test_split\n",
    "from sklearn.linear_model import LogisticRegression # Regresión logística\n",
    "from sklearn.ensemble import RandomForestClassifier  # Clasificador bosques aleatoriost \n",
    "from sklearn.tree import DecisionTreeClassifier # Arboles de decision \n",
    "from sklearn.model_selection import cross_val_predict, cross_val_score, cross_validate\n",
    "from sklearn.preprocessing import StandardScaler ## escalar variable\n",
    "from sklearn.ensemble import GradientBoostingClassifier #Modelo de clasificacion\n",
    "from sklearn.metrics import confusion_matrix #### Matriz de confusion \n",
    "import matplotlib.pyplot as plt #####Graficos\n",
    "import seaborn as sns #####Graficos\n",
    "from sklearn.metrics import accuracy_score #### medir precision del modelo "
   ]
  },
  {
   "cell_type": "code",
   "execution_count": 24,
   "metadata": {},
   "outputs": [],
   "source": [
    "### Cargar base desde github\n",
    "\n",
    "df_ = pd.read_csv(\"https://raw.githubusercontent.com/andressj1/A-RH/main/Bases/df_fin.csv\", sep=\",\")"
   ]
  },
  {
   "cell_type": "markdown",
   "metadata": {},
   "source": [
    "## **Tratamiento de nulos, y imputacíon**"
   ]
  },
  {
   "cell_type": "code",
   "execution_count": 25,
   "metadata": {},
   "outputs": [
    {
     "name": "stdout",
     "output_type": "stream",
     "text": [
      "<class 'pandas.core.frame.DataFrame'>\n",
      "RangeIndex: 4309 entries, 0 to 4308\n",
      "Data columns (total 22 columns):\n",
      " #   Column                   Non-Null Count  Dtype \n",
      "---  ------                   --------------  ----- \n",
      " 0   EnvironmentSatisfaction  4309 non-null   int64 \n",
      " 1   JobSatisfaction          4309 non-null   int64 \n",
      " 2   WorkLifeBalance          4309 non-null   int64 \n",
      " 3   Age                      4309 non-null   int64 \n",
      " 4   BusinessTravel           4309 non-null   object\n",
      " 5   Department               4309 non-null   object\n",
      " 6   DistanceFromHome         4309 non-null   int64 \n",
      " 7   Education                4309 non-null   int64 \n",
      " 8   EducationField           4309 non-null   object\n",
      " 9   Gender                   4309 non-null   object\n",
      " 10  JobLevel                 4309 non-null   int64 \n",
      " 11  JobRole                  4309 non-null   object\n",
      " 12  MaritalStatus            4309 non-null   object\n",
      " 13  MonthlyIncome            4309 non-null   int64 \n",
      " 14  NumCompaniesWorked       4309 non-null   int64 \n",
      " 15  PercentSalaryHike        4309 non-null   int64 \n",
      " 16  StockOptionLevel         4309 non-null   int64 \n",
      " 17  TrainingTimesLastYear    4309 non-null   int64 \n",
      " 18  YearsAtCompany           4309 non-null   int64 \n",
      " 19  JobInvolvement           4309 non-null   int64 \n",
      " 20  PerformanceRating        4309 non-null   int64 \n",
      " 21  Attrition                4309 non-null   int64 \n",
      "dtypes: int64(16), object(6)\n",
      "memory usage: 740.7+ KB\n"
     ]
    }
   ],
   "source": [
    "### Visualizacion de datos\n",
    "df_.info()"
   ]
  },
  {
   "cell_type": "code",
   "execution_count": 26,
   "metadata": {},
   "outputs": [],
   "source": [
    "\"\"\"Como no tiene nulos, no se hace ningun tratamiento\"\"\"\n",
    "\n",
    "### Crear lista de variables categoricas \n",
    "\n",
    "columnas = df_.columns\n",
    "#list_cat = [col for col in columnas if df4[col].dtype == 'object']\n",
    "#print(list_cat)\n",
    "\n",
    "list_cat =['BusinessTravel', 'Department', 'EducationField', 'Gender', 'JobRole', 'MaritalStatus']"
   ]
  },
  {
   "cell_type": "code",
   "execution_count": 27,
   "metadata": {},
   "outputs": [
    {
     "name": "stdout",
     "output_type": "stream",
     "text": [
      "<class 'pandas.core.frame.DataFrame'>\n",
      "RangeIndex: 4309 entries, 0 to 4308\n",
      "Data columns (total 6 columns):\n",
      " #   Column          Non-Null Count  Dtype \n",
      "---  ------          --------------  ----- \n",
      " 0   BusinessTravel  4309 non-null   object\n",
      " 1   Department      4309 non-null   object\n",
      " 2   EducationField  4309 non-null   object\n",
      " 3   Gender          4309 non-null   object\n",
      " 4   JobRole         4309 non-null   object\n",
      " 5   MaritalStatus   4309 non-null   object\n",
      "dtypes: object(6)\n",
      "memory usage: 202.1+ KB\n",
      "<class 'pandas.core.frame.DataFrame'>\n",
      "RangeIndex: 4309 entries, 0 to 4308\n",
      "Data columns (total 16 columns):\n",
      " #   Column                   Non-Null Count  Dtype  \n",
      "---  ------                   --------------  -----  \n",
      " 0   EnvironmentSatisfaction  4309 non-null   float64\n",
      " 1   JobSatisfaction          4309 non-null   float64\n",
      " 2   WorkLifeBalance          4309 non-null   float64\n",
      " 3   Age                      4309 non-null   float64\n",
      " 4   DistanceFromHome         4309 non-null   float64\n",
      " 5   Education                4309 non-null   float64\n",
      " 6   JobLevel                 4309 non-null   float64\n",
      " 7   MonthlyIncome            4309 non-null   float64\n",
      " 8   NumCompaniesWorked       4309 non-null   float64\n",
      " 9   PercentSalaryHike        4309 non-null   float64\n",
      " 10  StockOptionLevel         4309 non-null   float64\n",
      " 11  TrainingTimesLastYear    4309 non-null   float64\n",
      " 12  YearsAtCompany           4309 non-null   float64\n",
      " 13  JobInvolvement           4309 non-null   float64\n",
      " 14  PerformanceRating        4309 non-null   float64\n",
      " 15  Attrition                4309 non-null   float64\n",
      "dtypes: float64(16)\n",
      "memory usage: 538.8 KB\n",
      "<class 'pandas.core.frame.DataFrame'>\n",
      "RangeIndex: 4309 entries, 0 to 4308\n",
      "Data columns (total 22 columns):\n",
      " #   Column                   Non-Null Count  Dtype  \n",
      "---  ------                   --------------  -----  \n",
      " 0   EnvironmentSatisfaction  4309 non-null   float64\n",
      " 1   JobSatisfaction          4309 non-null   float64\n",
      " 2   WorkLifeBalance          4309 non-null   float64\n",
      " 3   Age                      4309 non-null   float64\n",
      " 4   DistanceFromHome         4309 non-null   float64\n",
      " 5   Education                4309 non-null   float64\n",
      " 6   JobLevel                 4309 non-null   float64\n",
      " 7   MonthlyIncome            4309 non-null   float64\n",
      " 8   NumCompaniesWorked       4309 non-null   float64\n",
      " 9   PercentSalaryHike        4309 non-null   float64\n",
      " 10  StockOptionLevel         4309 non-null   float64\n",
      " 11  TrainingTimesLastYear    4309 non-null   float64\n",
      " 12  YearsAtCompany           4309 non-null   float64\n",
      " 13  JobInvolvement           4309 non-null   float64\n",
      " 14  PerformanceRating        4309 non-null   float64\n",
      " 15  Attrition                4309 non-null   float64\n",
      " 16  BusinessTravel           4309 non-null   object \n",
      " 17  Department               4309 non-null   object \n",
      " 18  EducationField           4309 non-null   object \n",
      " 19  Gender                   4309 non-null   object \n",
      " 20  JobRole                  4309 non-null   object \n",
      " 21  MaritalStatus            4309 non-null   object \n",
      "dtypes: float64(16), object(6)\n",
      "memory usage: 740.7+ KB\n"
     ]
    }
   ],
   "source": [
    "### Imputación para variables categoricas y numericas\n",
    "\n",
    "df3 = funciones.imputar_f(df_,list_cat)\n",
    "df3.info()"
   ]
  },
  {
   "cell_type": "markdown",
   "metadata": {},
   "source": [
    "## **Obtener dummies**"
   ]
  },
  {
   "cell_type": "code",
   "execution_count": 28,
   "metadata": {},
   "outputs": [],
   "source": [
    "#### Creamos lista de dummies\n",
    "list_dummies = ['BusinessTravel', 'Department', 'EducationField', 'Gender', 'JobRole', 'MaritalStatus']"
   ]
  },
  {
   "cell_type": "code",
   "execution_count": 29,
   "metadata": {},
   "outputs": [],
   "source": [
    "### Conversion a categoricas a dummie\n",
    "df = pd.get_dummies(df3, columns=list_dummies)"
   ]
  },
  {
   "cell_type": "code",
   "execution_count": 30,
   "metadata": {},
   "outputs": [],
   "source": [
    "### Separamos nuestra variable objetivo de las demas\n",
    "y=df.Attrition\n",
    "X1= df.loc[:,~df.columns.isin(['Attrition'])]\n"
   ]
  },
  {
   "cell_type": "code",
   "execution_count": 31,
   "metadata": {},
   "outputs": [],
   "source": [
    "scaler=StandardScaler()\n",
    "scaler.fit(X1)\n",
    "X2=scaler.transform(X1)\n",
    "X=pd.DataFrame(X2,columns=X1.columns)"
   ]
  },
  {
   "cell_type": "markdown",
   "metadata": {},
   "source": [
    "## **Seleccion de variables**"
   ]
  },
  {
   "cell_type": "code",
   "execution_count": 32,
   "metadata": {},
   "outputs": [],
   "source": [
    "######Seleccion de modelos\n",
    "\n",
    "### 1. Regresion logistica --> se selecciono debido a su facil implementacion, no requiere ajuste de \n",
    "###                            hiperparametros; carga mas rapido, es bueno en problemas de clasificacion binaria.\n",
    "m_rl = LogisticRegression()\n",
    "\n",
    "### 2. Random forest       --> se selecciono porque su rendimiento generalmente es muy bueno, dando siempre \n",
    "###                            resultados satisfactorios, tambien porque es bueno en modelos que tienen muchas \n",
    "###                            variables categoricas como esté.\n",
    "m_rf = RandomForestClassifier()\n",
    "\n",
    "### 3 Arboles de decision  --> Se selecciono porque su estructura es facil de implementar, y su ajuste de  \n",
    "###                             hiperparametros no es muy pesado.\n",
    "m_add = DecisionTreeClassifier()\n",
    "\n",
    "### 4 GradientBoostingClassifier --> Se selecciono porque es un modelo muy usado en problemas de clasificacion, y nunca lo he\n",
    "###                                  probado \n",
    "m_gbc = GradientBoostingClassifier()\n"
   ]
  },
  {
   "cell_type": "code",
   "execution_count": 33,
   "metadata": {},
   "outputs": [],
   "source": [
    "### Lista de modelos\n",
    "modelos = list([m_rl, m_rf, m_add, m_gbc])"
   ]
  },
  {
   "cell_type": "code",
   "execution_count": 34,
   "metadata": {},
   "outputs": [
    {
     "data": {
      "text/plain": [
       "(5,)"
      ]
     },
     "execution_count": 34,
     "metadata": {},
     "output_type": "execute_result"
    }
   ],
   "source": [
    "#####Seleccion de variables \n",
    "var_names=funciones.sel_variables(modelos,X,y,threshold=\"2.8*mean\") ### 2.8 porque no es muy alto, \n",
    "###                                                       l         lo que permite una seleccion mas flexible\n",
    "var_names.shape\n"
   ]
  },
  {
   "cell_type": "code",
   "execution_count": 35,
   "metadata": {},
   "outputs": [
    {
     "name": "stdout",
     "output_type": "stream",
     "text": [
      "<class 'pandas.core.frame.DataFrame'>\n",
      "RangeIndex: 4309 entries, 0 to 4308\n",
      "Data columns (total 5 columns):\n",
      " #   Column                   Non-Null Count  Dtype  \n",
      "---  ------                   --------------  -----  \n",
      " 0   Age                      4309 non-null   float64\n",
      " 1   EnvironmentSatisfaction  4309 non-null   float64\n",
      " 2   JobSatisfaction          4309 non-null   float64\n",
      " 3   MonthlyIncome            4309 non-null   float64\n",
      " 4   YearsAtCompany           4309 non-null   float64\n",
      "dtypes: float64(5)\n",
      "memory usage: 168.4 KB\n",
      "<class 'pandas.core.frame.DataFrame'>\n",
      "RangeIndex: 4309 entries, 0 to 4308\n",
      "Data columns (total 41 columns):\n",
      " #   Column                             Non-Null Count  Dtype  \n",
      "---  ------                             --------------  -----  \n",
      " 0   EnvironmentSatisfaction            4309 non-null   float64\n",
      " 1   JobSatisfaction                    4309 non-null   float64\n",
      " 2   WorkLifeBalance                    4309 non-null   float64\n",
      " 3   Age                                4309 non-null   float64\n",
      " 4   DistanceFromHome                   4309 non-null   float64\n",
      " 5   Education                          4309 non-null   float64\n",
      " 6   JobLevel                           4309 non-null   float64\n",
      " 7   MonthlyIncome                      4309 non-null   float64\n",
      " 8   NumCompaniesWorked                 4309 non-null   float64\n",
      " 9   PercentSalaryHike                  4309 non-null   float64\n",
      " 10  StockOptionLevel                   4309 non-null   float64\n",
      " 11  TrainingTimesLastYear              4309 non-null   float64\n",
      " 12  YearsAtCompany                     4309 non-null   float64\n",
      " 13  JobInvolvement                     4309 non-null   float64\n",
      " 14  PerformanceRating                  4309 non-null   float64\n",
      " 15  BusinessTravel_Non-Travel          4309 non-null   float64\n",
      " 16  BusinessTravel_Travel_Frequently   4309 non-null   float64\n",
      " 17  BusinessTravel_Travel_Rarely       4309 non-null   float64\n",
      " 18  Department_Human Resources         4309 non-null   float64\n",
      " 19  Department_Research & Development  4309 non-null   float64\n",
      " 20  Department_Sales                   4309 non-null   float64\n",
      " 21  EducationField_Human Resources     4309 non-null   float64\n",
      " 22  EducationField_Life Sciences       4309 non-null   float64\n",
      " 23  EducationField_Marketing           4309 non-null   float64\n",
      " 24  EducationField_Medical             4309 non-null   float64\n",
      " 25  EducationField_Other               4309 non-null   float64\n",
      " 26  EducationField_Technical Degree    4309 non-null   float64\n",
      " 27  Gender_Female                      4309 non-null   float64\n",
      " 28  Gender_Male                        4309 non-null   float64\n",
      " 29  JobRole_Healthcare Representative  4309 non-null   float64\n",
      " 30  JobRole_Human Resources            4309 non-null   float64\n",
      " 31  JobRole_Laboratory Technician      4309 non-null   float64\n",
      " 32  JobRole_Manager                    4309 non-null   float64\n",
      " 33  JobRole_Manufacturing Director     4309 non-null   float64\n",
      " 34  JobRole_Research Director          4309 non-null   float64\n",
      " 35  JobRole_Research Scientist         4309 non-null   float64\n",
      " 36  JobRole_Sales Executive            4309 non-null   float64\n",
      " 37  JobRole_Sales Representative       4309 non-null   float64\n",
      " 38  MaritalStatus_Divorced             4309 non-null   float64\n",
      " 39  MaritalStatus_Married              4309 non-null   float64\n",
      " 40  MaritalStatus_Single               4309 non-null   float64\n",
      "dtypes: float64(41)\n",
      "memory usage: 1.3 MB\n"
     ]
    }
   ],
   "source": [
    "X2=X[var_names] ### matriz con variables seleccionadas\n",
    "X2.info()\n",
    "X.info()"
   ]
  },
  {
   "cell_type": "markdown",
   "metadata": {},
   "source": [
    "## **Modelo ganador**"
   ]
  },
  {
   "cell_type": "code",
   "execution_count": 36,
   "metadata": {},
   "outputs": [],
   "source": [
    "## base con todas las variables\n",
    "rmse_df = funciones.medir_modelos(modelos, \"f1\",X,y,10)\n",
    "## base con variables seleccionadas\n",
    "rmse_varsel = funciones.medir_modelos(modelos,\"f1\",X2,y,10)\n",
    "\n"
   ]
  },
  {
   "cell_type": "code",
   "execution_count": 37,
   "metadata": {},
   "outputs": [],
   "source": [
    "rmse=pd.concat([rmse_df,rmse_varsel],axis=1)\n",
    "rmse.columns=['rl', 'rf', 'add', 'm_gbc',\n",
    "       'rl_Sel', 'rf_sel', 'add_sel', 'm_gbc_sel']"
   ]
  },
  {
   "cell_type": "code",
   "execution_count": 38,
   "metadata": {},
   "outputs": [
    {
     "data": {
      "text/plain": [
       "<Axes: >"
      ]
     },
     "execution_count": 38,
     "metadata": {},
     "output_type": "execute_result"
    },
    {
     "data": {
      "image/png": "[encoded data removed]",
      "text/plain": [
       "<Figure size 640x480 with 1 Axes>"
      ]
     },
     "metadata": {},
     "output_type": "display_data"
    },
    {
     "data": {
      "image/png": "[encoded data removed]",
      "text/plain": [
       "<Figure size 640x480 with 1 Axes>"
      ]
     },
     "metadata": {},
     "output_type": "display_data"
    },
    {
     "data": {
      "image/png": "[encoded data removed]",
      "text/plain": [
       "<Figure size 640x480 with 1 Axes>"
      ]
     },
     "metadata": {},
     "output_type": "display_data"
    }
   ],
   "source": [
    "rmse_df.plot(kind='box') #### gráfico para modelos todas las varibles\n",
    "rmse_varsel.plot(kind='box') ### gráfico para modelo variables seleccionadas\n",
    "rmse.plot(kind='box') ### gráfico para modelos sel y todas las variables"
   ]
  },
  {
   "cell_type": "code",
   "execution_count": 39,
   "metadata": {},
   "outputs": [
    {
     "data": {
      "text/plain": [
       "rl           0.182399\n",
       "rf           0.854010\n",
       "add          0.826777\n",
       "m_gbc        0.438387\n",
       "rl_Sel       0.010169\n",
       "rf_sel       0.856520\n",
       "add_sel      0.824313\n",
       "m_gbc_sel    0.289384\n",
       "dtype: float64"
      ]
     },
     "execution_count": 39,
     "metadata": {},
     "output_type": "execute_result"
    },
    {
     "data": {
      "image/png": "[encoded data removed]",
      "text/plain": [
       "<Figure size 640x480 with 1 Axes>"
      ]
     },
     "metadata": {},
     "output_type": "display_data"
    }
   ],
   "source": [
    "rmse2=rmse[['rf', 'add', 'add_sel', 'rf_sel']]\n",
    "rmse2.plot(kind='box') ### gráfico para modelos sel y todas las variables\n",
    "rmse.mean() ### medias de mape"
   ]
  },
  {
   "cell_type": "markdown",
   "metadata": {},
   "source": [
    "Se selecciono el random forest porque en el mape de medias fue el mas alto, tambien porque en el grafico de\n",
    "cajas está muy cerca a \"1\" "
   ]
  },
  {
   "cell_type": "markdown",
   "metadata": {},
   "source": [
    "## **Afinamiento de hiperparámetros**"
   ]
  },
  {
   "cell_type": "markdown",
   "metadata": {},
   "source": [
    "**Random forest con selección de variables, antes de ajustes de hiperparámetros**"
   ]
  },
  {
   "cell_type": "code",
   "execution_count": 40,
   "metadata": {},
   "outputs": [],
   "source": [
    "# Dividir los datos en conjuntos de entrenamiento y prueba; 80% y 20% \n",
    "X_train, X_test, y_train, y_test = train_test_split(X2, y, test_size=0.2, random_state=42, stratify = y)\n",
    "\n",
    "# Entrenar el modelo de Random Forest\n",
    "m_rf.fit(X_train, y_train)\n",
    "\n",
    "# Hacer predicciones en el conjunto de datos de prueba\n",
    "y_pred = m_rf.predict(X_test)"
   ]
  },
  {
   "cell_type": "code",
   "execution_count": 41,
   "metadata": {},
   "outputs": [],
   "source": [
    "# Crear y ajustar el modelo Random Forest\n",
    "rf_sfs = RandomForestClassifier()\n",
    "rf_sfs.fit(X_train, y_train)\n",
    "\n",
    "# Hacer predicciones en el conjunto de prueba\n",
    "y_pred1 = rf_sfs.predict(X_test)"
   ]
  },
  {
   "cell_type": "code",
   "execution_count": 42,
   "metadata": {},
   "outputs": [
    {
     "data": {
      "image/png": "[encoded data removed]",
      "text/plain": [
       "<Figure size 800x600 with 1 Axes>"
      ]
     },
     "metadata": {},
     "output_type": "display_data"
    }
   ],
   "source": [
    "###Matriz de confusión \n",
    "\n",
    "conf_matrix = confusion_matrix(y_test, y_pred1)\n",
    "\n",
    "plt.figure(figsize=(8, 6))\n",
    "sns.heatmap(conf_matrix, annot=True, fmt='d', cmap='Blues', cbar=False)\n",
    "plt.xlabel('Predicted labels')\n",
    "plt.ylabel('True labels')\n",
    "plt.title('Confusion Matrix')\n",
    "plt.show()\n",
    "# Descargar imagen \n",
    "#plt.savefig('Matrizs\\\\confusion_matrix_antes_del_ajuste_de_hip.png')"
   ]
  },
  {
   "cell_type": "code",
   "execution_count": 43,
   "metadata": {},
   "outputs": [
    {
     "name": "stdout",
     "output_type": "stream",
     "text": [
      "Precisión del modelo: 0.9535962877030162\n"
     ]
    }
   ],
   "source": [
    "# Calcular la precisión del modelo\n",
    "accuracy = accuracy_score(y_test, y_pred1)\n",
    "print(f'Precisión del modelo: {accuracy}')\n"
   ]
  },
  {
   "cell_type": "markdown",
   "metadata": {},
   "source": [
    "Conclusiones: \n",
    "\n",
    "Matriz de confusión; \n",
    "1. El modelo ha identificado correctamente a 90 empleados que renunciaron.\n",
    "2. Hay 14 empleados que siguen en la empresa pero que fueron identificados incorrectamente como renunciantes. \n",
    "3. Hay 26 empleados que renunciaron pero que fueron identificados incorrectamente como que siguen en la empresa\n",
    "4. El modelo ha identificado correctamente a 734 empleados que siguen en la empresa \n",
    "\n",
    "Metrica de evaluación accuracy; \n",
    "La precisión del modelo es del 95.3%, lo que indica que clasifica correctamente casi el 95% de los casos en el conjunto de prueba. Esto sugiere que el modelo es efectivo para predecir la deserción de empleados en la empresa.\n",
    "\n"
   ]
  },
  {
   "cell_type": "markdown",
   "metadata": {},
   "source": [
    "**Random forest con selección de variables, con ajustes de hiperparámetros**"
   ]
  },
  {
   "cell_type": "code",
   "execution_count": 44,
   "metadata": {},
   "outputs": [],
   "source": [
    "# Hiperparameter tunning\n",
    "param_grid = [{'n_estimators': [3, 500, 100], 'max_features': [5,20],\n",
    "               'min_samples_split': [100, 20, 5]}]\n"
   ]
  },
  {
   "cell_type": "code",
   "execution_count": 45,
   "metadata": {},
   "outputs": [],
   "source": [
    "# Ajuste del modelo \n",
    "tun_rf=RandomizedSearchCV(m_rf,param_distributions=param_grid,n_iter=10,scoring=\"f1\")\n",
    "tun_rf.fit(X_train,y_train)\n",
    "\n",
    "# Hacer predicciones en el conjunto de prueba\n",
    "y_pred3 = tun_rf.predict(X_test)"
   ]
  },
  {
   "cell_type": "code",
   "execution_count": 46,
   "metadata": {},
   "outputs": [
    {
     "data": {
      "image/png": "[encoded data removed]",
      "text/plain": [
       "<Figure size 800x600 with 1 Axes>"
      ]
     },
     "metadata": {},
     "output_type": "display_data"
    }
   ],
   "source": [
    "# Matriz de confusión \n",
    "conf_matrix = confusion_matrix(y_test, y_pred3)\n",
    "\n",
    "# Crear un mapa de calor con seaborn\n",
    "plt.figure(figsize=(8, 6))\n",
    "sns.heatmap(conf_matrix, annot=True, fmt='d', cmap='Blues', cbar=False)\n",
    "plt.xlabel('Predicted labels')\n",
    "plt.ylabel('True labels')\n",
    "plt.title('Confusion Matrix')\n",
    "plt.show()\n",
    "# Descargar imagen \n",
    "#plt.savefig('Matrizs\\\\confusion_matrix_con_ajuste_de_hip.png')"
   ]
  },
  {
   "cell_type": "code",
   "execution_count": 47,
   "metadata": {},
   "outputs": [
    {
     "name": "stdout",
     "output_type": "stream",
     "text": [
      "Precisión del modelo: 0.9396751740139211\n"
     ]
    }
   ],
   "source": [
    "# Calcular la precisión del modelo\n",
    "accuracy = accuracy_score(y_test, y_pred3)\n",
    "print(f'Precisión del modelo: {accuracy}')"
   ]
  },
  {
   "cell_type": "markdown",
   "metadata": {},
   "source": [
    "Conclusiones; en este caso se concluira la comparación de los dos modelos, con y sin hiperparametros. No se \n",
    "dan conclusiones individuales para el modelo con hiperparametros, porque serian casi las mismas que sin \n",
    "hiperparametros. \n",
    "\n",
    "1. Ambas matrices muestran un buen rendimiento del modelo, con una cantidad relativamente baja de falsos positivos y falsos negativos. \n",
    "2. La precisión del modelo es alta en ambos casos, con un 95.3% sin afinamiento de hiperparámetros y un 94% con afinamiento de hiperparámetros. \n",
    "3. el afinamiento de hiperparámetros no ha tenido un impacto significativo en la precisión del modelo."
   ]
  },
  {
   "cell_type": "markdown",
   "metadata": {},
   "source": [
    "## **Exportación del modelo**"
   ]
  },
  {
   "cell_type": "code",
   "execution_count": 48,
   "metadata": {},
   "outputs": [],
   "source": [
    "### Guardar el modelo\n",
    "\n",
    "rf_final = tun_rf.best_estimator_ "
   ]
  },
  {
   "cell_type": "code",
   "execution_count": 49,
   "metadata": {},
   "outputs": [
    {
     "data": {
      "text/plain": [
       "['salidas\\\\scaler.pkl']"
      ]
     },
     "execution_count": 49,
     "metadata": {},
     "output_type": "execute_result"
    }
   ],
   "source": [
    "### Exportar funciones y modelo\n",
    "\n",
    "joblib.dump(rf_final, \"salidas\\\\rf_final.pkl\") ## modelo con afinamiento\n",
    "joblib.dump(list_cat, \"salidas\\\\list_cat.pkl\") ### para realizar imputacion\n",
    "joblib.dump(list_dummies, \"salidas\\\\list_dummies.pkl\")  ### para convertir a dummies\n",
    "joblib.dump(var_names, \"salidas\\\\var_names.pkl\")  ### para variables con que se entrena modelo\n",
    "joblib.dump(scaler, \"salidas\\\\scaler.pkl\") ## "
   ]
  },
  {
   "cell_type": "markdown",
   "metadata": {},
   "source": [
    "## **Importancia de las variables**"
   ]
  },
  {
   "cell_type": "code",
   "execution_count": 50,
   "metadata": {},
   "outputs": [
    {
     "name": "stdout",
     "output_type": "stream",
     "text": [
      "                  variable      peso\n",
      "3            MonthlyIncome  0.423735\n",
      "0                      Age  0.243619\n",
      "4           YearsAtCompany  0.160100\n",
      "1  EnvironmentSatisfaction  0.092449\n",
      "2          JobSatisfaction  0.080097\n"
     ]
    }
   ],
   "source": [
    "importancia = pd.DataFrame({'variable': X_train.columns, 'peso': rf_final.feature_importances_})\n",
    "\n",
    "# Ordenar por importancia\n",
    "importancia = importancia.sort_values('peso', ascending=False)\n",
    "\n",
    "# Mostrar las primeras filas (las más importantes)\n",
    "print(importancia.head())"
   ]
  },
  {
   "cell_type": "code",
   "execution_count": 51,
   "metadata": {},
   "outputs": [
    {
     "data": {
      "text/plain": [
       "array([0., 0., 0., ..., 0., 0., 0.])"
      ]
     },
     "execution_count": 51,
     "metadata": {},
     "output_type": "execute_result"
    }
   ],
   "source": [
    "importancia.sort_values(by=[\"peso\"], ascending=False)\n",
    "importancia.to_excel(\"salidas\\\\feature_importances.xlsx\")\n",
    "rf_final.predict(X_train)"
   ]
  },
  {
   "cell_type": "markdown",
   "metadata": {},
   "source": [
    "Conclusiones: \n",
    "\n",
    "1. El ingreso mensual de los empleados es un factor crucial en la predicción de la rotación del personal. Podría indicar que  no se esta pagando lo suficiente, tambien que los empleados con ingresos más altos muestran menos probabilidades de abandonar la empresa.\n",
    "2. La edad de los empleados influye en su decisión de quedarse o irse, indicando que los empleados con 31 años son los mas propensos.\n",
    "3. La cantidad de años que un empleado ha estado en la empresa también es un factor relevante en la rotación del personal. Se observa que muchos; en el analisis exploratorio, no aguantan mas de un año... quizas el ambiente laboral no es muy bueno y abria que mejorarlo"
   ]
  }
 ],
 "metadata": {
  "kernelspec": {
   "display_name": "base",
   "language": "python",
   "name": "python3"
  },
  "language_info": {
   "codemirror_mode": {
    "name": "ipython",
    "version": 3
   },
   "file_extension": ".py",
   "mimetype": "text/x-python",
   "name": "python",
   "nbconvert_exporter": "python",
   "pygments_lexer": "ipython3",
   "version": "3.11.4"
  }
 },
 "nbformat": 4,
 "nbformat_minor": 2
}
