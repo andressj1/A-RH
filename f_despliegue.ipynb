{
 "cells": [
  {
   "cell_type": "code",
   "execution_count": 1,
   "metadata": {},
   "outputs": [],
   "source": [
    "import a_funciones as funciones  ###archivo de funciones propias\n",
    "import pandas as pd ### para manejo de datos\n",
    "import joblib ### para guardar y cargar modelos\n",
    "import openpyxl ## para exportar a excel\n",
    "import numpy as np #procesamiento eficiente de grandes conjuntos de datos y la realización de operaciones matemáticas"
   ]
  },
  {
   "cell_type": "code",
   "execution_count": 2,
   "metadata": {},
   "outputs": [],
   "source": [
    "###cargar base desde github\n",
    "df = pd.read_csv(\"https://raw.githubusercontent.com/andressj1/A-RH/main/Bases/base2016.csv\", sep=\",\")"
   ]
  },
  {
   "cell_type": "markdown",
   "metadata": {},
   "source": [
    "## **Aplicación de funciones**"
   ]
  },
  {
   "cell_type": "code",
   "execution_count": 3,
   "metadata": {},
   "outputs": [],
   "source": [
    "###Elimina columnas spam\n",
    "df = funciones.eliminars(df)"
   ]
  },
  {
   "cell_type": "code",
   "execution_count": 4,
   "metadata": {},
   "outputs": [],
   "source": [
    "###convertir \n",
    "df = funciones.convertir(df)"
   ]
  },
  {
   "cell_type": "code",
   "execution_count": 5,
   "metadata": {},
   "outputs": [
    {
     "name": "stdout",
     "output_type": "stream",
     "text": [
      "<class 'pandas.core.frame.DataFrame'>\n",
      "RangeIndex: 4410 entries, 0 to 4409\n",
      "Data columns (total 6 columns):\n",
      " #   Column          Non-Null Count  Dtype \n",
      "---  ------          --------------  ----- \n",
      " 0   BusinessTravel  4410 non-null   object\n",
      " 1   Department      4410 non-null   object\n",
      " 2   EducationField  4410 non-null   object\n",
      " 3   Gender          4410 non-null   object\n",
      " 4   JobRole         4410 non-null   object\n",
      " 5   MaritalStatus   4410 non-null   object\n",
      "dtypes: object(6)\n",
      "memory usage: 206.8+ KB\n",
      "<class 'pandas.core.frame.DataFrame'>\n",
      "RangeIndex: 4410 entries, 0 to 4409\n",
      "Data columns (total 15 columns):\n",
      " #   Column                   Non-Null Count  Dtype  \n",
      "---  ------                   --------------  -----  \n",
      " 0   EnvironmentSatisfaction  4410 non-null   float64\n",
      " 1   JobSatisfaction          4410 non-null   float64\n",
      " 2   WorkLifeBalance          4410 non-null   float64\n",
      " 3   Age                      4410 non-null   float64\n",
      " 4   DistanceFromHome         4410 non-null   float64\n",
      " 5   Education                4410 non-null   float64\n",
      " 6   JobLevel                 4410 non-null   float64\n",
      " 7   MonthlyIncome            4410 non-null   float64\n",
      " 8   NumCompaniesWorked       4410 non-null   float64\n",
      " 9   PercentSalaryHike        4410 non-null   float64\n",
      " 10  StockOptionLevel         4410 non-null   float64\n",
      " 11  TrainingTimesLastYear    4410 non-null   float64\n",
      " 12  YearsAtCompany           4410 non-null   float64\n",
      " 13  JobInvolvement           4410 non-null   float64\n",
      " 14  PerformanceRating        4410 non-null   float64\n",
      "dtypes: float64(15)\n",
      "memory usage: 516.9 KB\n"
     ]
    }
   ],
   "source": [
    "###preparar datos \n",
    "df1 = funciones.preparar_datos(df)"
   ]
  },
  {
   "cell_type": "code",
   "execution_count": 8,
   "metadata": {},
   "outputs": [],
   "source": [
    " ##Cargar modelo y predecir\n",
    "rf_final = joblib.load(\"salidas\\\\rf_final.pkl\")\n",
    "predicciones = rf_final.predict(df1)\n",
    "pd_pred = pd.DataFrame(predicciones, columns=['pred_2017'])"
   ]
  },
  {
   "cell_type": "code",
   "execution_count": null,
   "metadata": {},
   "outputs": [],
   "source": [
    "   ###Crear base con predicciones ####\n",
    "perf_pred=pd.concat([df['EmpID2'],df_t,pd_pred],axis=1)\n",
    "   \n",
    "    ####LLevar a BD para despliegue \n",
    "    perf_pred.loc[:,['EmpID2', 'pred_perf_2024']].to_sql(\"perf_pred\",conn,if_exists=\"replace\") ## llevar predicciones a BD con ID Empleado"
   ]
  }
 ],
 "metadata": {
  "kernelspec": {
   "display_name": "base",
   "language": "python",
   "name": "python3"
  },
  "language_info": {
   "codemirror_mode": {
    "name": "ipython",
    "version": 3
   },
   "file_extension": ".py",
   "mimetype": "text/x-python",
   "name": "python",
   "nbconvert_exporter": "python",
   "pygments_lexer": "ipython3",
   "version": "3.11.4"
  }
 },
 "nbformat": 4,
 "nbformat_minor": 2
}
