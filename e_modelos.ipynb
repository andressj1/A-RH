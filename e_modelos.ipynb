{
 "cells": [
  {
   "cell_type": "code",
   "execution_count": 1,
   "metadata": {},
   "outputs": [],
   "source": [
    "import pandas as pd ### para manejo de datos\n",
    "import a_funciones as funciones  ###archivo de funciones propias\n",
    "import numpy as np #procesamiento eficiente de grandes conjuntos de datos y la realización de operaciones matemáticas\n",
    "import plotly.express as px # Graficas lindas\n",
    "from sklearn.model_selection import RandomizedSearchCV # búsqueda aleatoria de hiperparámetros \n",
    "import joblib  ### para guardar modelos\n",
    "from sklearn.preprocessing import StandardScaler ## escalar variables \n",
    "import openpyxl # trabajar con archivos de Excel\n",
    "from sklearn.linear_model import LogisticRegression # Regresión logística\n",
    "from sklearn.ensemble import RandomForestClassifier  # Clasificador bosques aleatoriost \n",
    "from sklearn.tree import DecisionTreeClassifier # Arboles de decision \n",
    "from sklearn.preprocessing import StandardScaler ## escalar variable\n",
    "from sklearn.ensemble import GradientBoostingClassifier #Modelo de clasificacion "
   ]
  },
  {
   "cell_type": "code",
   "execution_count": 2,
   "metadata": {},
   "outputs": [],
   "source": [
    "###Cargar base desde github\n",
    "df_ = pd.read_csv(\"https://raw.githubusercontent.com/andressj1/A-RH/main/Bases/df_fin.csv\", sep=\",\")"
   ]
  },
  {
   "cell_type": "markdown",
   "metadata": {},
   "source": [
    "## **Tratamiento de nulos**"
   ]
  },
  {
   "cell_type": "code",
   "execution_count": 3,
   "metadata": {},
   "outputs": [],
   "source": [
    "####Convertimos VO a binaria \n",
    "df_['Attrition'] = df_['Attrition'].map({'No': 0, 'Yes': 1}).astype(int)"
   ]
  },
  {
   "cell_type": "code",
   "execution_count": 4,
   "metadata": {},
   "outputs": [
    {
     "name": "stdout",
     "output_type": "stream",
     "text": [
      "<class 'pandas.core.frame.DataFrame'>\n",
      "RangeIndex: 4284 entries, 0 to 4283\n",
      "Data columns (total 22 columns):\n",
      " #   Column                   Non-Null Count  Dtype \n",
      "---  ------                   --------------  ----- \n",
      " 0   EnvironmentSatisfaction  4284 non-null   int64 \n",
      " 1   JobSatisfaction          4284 non-null   int64 \n",
      " 2   WorkLifeBalance          4284 non-null   int64 \n",
      " 3   Age                      4284 non-null   int64 \n",
      " 4   BusinessTravel           4284 non-null   object\n",
      " 5   Department               4284 non-null   object\n",
      " 6   DistanceFromHome         4284 non-null   int64 \n",
      " 7   Education                4284 non-null   int64 \n",
      " 8   EducationField           4284 non-null   object\n",
      " 9   Gender                   4284 non-null   object\n",
      " 10  JobLevel                 4284 non-null   int64 \n",
      " 11  JobRole                  4284 non-null   object\n",
      " 12  MaritalStatus            4284 non-null   object\n",
      " 13  MonthlyIncome            4284 non-null   int64 \n",
      " 14  NumCompaniesWorked       4284 non-null   int64 \n",
      " 15  PercentSalaryHike        4284 non-null   int64 \n",
      " 16  StockOptionLevel         4284 non-null   int64 \n",
      " 17  TotalWorkingYears        4284 non-null   int64 \n",
      " 18  TrainingTimesLastYear    4284 non-null   int64 \n",
      " 19  JobInvolvement           4284 non-null   int64 \n",
      " 20  PerformanceRating        4284 non-null   int64 \n",
      " 21  Attrition                4284 non-null   int32 \n",
      "dtypes: int32(1), int64(15), object(6)\n",
      "memory usage: 719.7+ KB\n",
      "<class 'pandas.core.frame.DataFrame'>\n",
      "RangeIndex: 4284 entries, 0 to 4283\n",
      "Data columns (total 22 columns):\n",
      " #   Column                   Non-Null Count  Dtype  \n",
      "---  ------                   --------------  -----  \n",
      " 0   EnvironmentSatisfaction  4284 non-null   int64  \n",
      " 1   JobSatisfaction          4284 non-null   int64  \n",
      " 2   WorkLifeBalance          4283 non-null   float64\n",
      " 3   Age                      4284 non-null   int64  \n",
      " 4   BusinessTravel           4284 non-null   object \n",
      " 5   Department               4284 non-null   object \n",
      " 6   DistanceFromHome         4284 non-null   int64  \n",
      " 7   Education                4284 non-null   int64  \n",
      " 8   EducationField           4284 non-null   object \n",
      " 9   Gender                   4284 non-null   object \n",
      " 10  JobLevel                 4283 non-null   float64\n",
      " 11  JobRole                  4284 non-null   object \n",
      " 12  MaritalStatus            4284 non-null   object \n",
      " 13  MonthlyIncome            4284 non-null   int64  \n",
      " 14  NumCompaniesWorked       4284 non-null   int64  \n",
      " 15  PercentSalaryHike        4284 non-null   int64  \n",
      " 16  StockOptionLevel         4284 non-null   int64  \n",
      " 17  TotalWorkingYears        4284 non-null   int64  \n",
      " 18  TrainingTimesLastYear    4284 non-null   int64  \n",
      " 19  JobInvolvement           4284 non-null   int64  \n",
      " 20  PerformanceRating        4284 non-null   int64  \n",
      " 21  Attrition                4284 non-null   int32  \n",
      "dtypes: float64(2), int32(1), int64(13), object(6)\n",
      "memory usage: 719.7+ KB\n"
     ]
    }
   ],
   "source": [
    "df_.info() ### no tiene faltantes pero crearemos unos para trabajar\n",
    "df_.iloc[1,2] =np.nan  ### crear faltante en numérica\n",
    "df_.iloc[1,10] =np.nan ### crear faltante en categórica\n",
    "df_.info()"
   ]
  },
  {
   "cell_type": "code",
   "execution_count": 5,
   "metadata": {},
   "outputs": [
    {
     "name": "stdout",
     "output_type": "stream",
     "text": [
      "<class 'pandas.core.frame.DataFrame'>\n",
      "Int64Index: 4283 entries, 0 to 4283\n",
      "Data columns (total 22 columns):\n",
      " #   Column                   Non-Null Count  Dtype  \n",
      "---  ------                   --------------  -----  \n",
      " 0   EnvironmentSatisfaction  4283 non-null   int64  \n",
      " 1   JobSatisfaction          4283 non-null   int64  \n",
      " 2   WorkLifeBalance          4283 non-null   float64\n",
      " 3   Age                      4283 non-null   int64  \n",
      " 4   BusinessTravel           4283 non-null   object \n",
      " 5   Department               4283 non-null   object \n",
      " 6   DistanceFromHome         4283 non-null   int64  \n",
      " 7   Education                4283 non-null   int64  \n",
      " 8   EducationField           4283 non-null   object \n",
      " 9   Gender                   4283 non-null   object \n",
      " 10  JobLevel                 4283 non-null   float64\n",
      " 11  JobRole                  4283 non-null   object \n",
      " 12  MaritalStatus            4283 non-null   object \n",
      " 13  MonthlyIncome            4283 non-null   int64  \n",
      " 14  NumCompaniesWorked       4283 non-null   int64  \n",
      " 15  PercentSalaryHike        4283 non-null   int64  \n",
      " 16  StockOptionLevel         4283 non-null   int64  \n",
      " 17  TotalWorkingYears        4283 non-null   int64  \n",
      " 18  TrainingTimesLastYear    4283 non-null   int64  \n",
      " 19  JobInvolvement           4283 non-null   int64  \n",
      " 20  PerformanceRating        4283 non-null   int64  \n",
      " 21  Attrition                4283 non-null   int32  \n",
      "dtypes: float64(2), int32(1), int64(13), object(6)\n",
      "memory usage: 752.9+ KB\n"
     ]
    }
   ],
   "source": [
    "dff=df_.dropna(axis=0) ### si se pone 1 se borra la columna con na si se pone 0, o se deja vacío, se borra la fila\n",
    "dff.info()"
   ]
  },
  {
   "cell_type": "code",
   "execution_count": 6,
   "metadata": {},
   "outputs": [],
   "source": [
    "### generamos copia del df \n",
    "columnas = dff.columns\n",
    "#list_cat = [col for col in columnas if df4[col].dtype == 'object']\n",
    "#print(list_cat)\n",
    "list_cat =['BusinessTravel', 'Department', 'EducationField', 'Gender', 'JobRole', 'MaritalStatus']"
   ]
  },
  {
   "cell_type": "code",
   "execution_count": 7,
   "metadata": {},
   "outputs": [
    {
     "name": "stdout",
     "output_type": "stream",
     "text": [
      "<class 'pandas.core.frame.DataFrame'>\n",
      "RangeIndex: 4284 entries, 0 to 4283\n",
      "Data columns (total 6 columns):\n",
      " #   Column          Non-Null Count  Dtype \n",
      "---  ------          --------------  ----- \n",
      " 0   BusinessTravel  4284 non-null   object\n",
      " 1   Department      4284 non-null   object\n",
      " 2   EducationField  4284 non-null   object\n",
      " 3   Gender          4284 non-null   object\n",
      " 4   JobRole         4284 non-null   object\n",
      " 5   MaritalStatus   4284 non-null   object\n",
      "dtypes: object(6)\n",
      "memory usage: 200.9+ KB\n",
      "<class 'pandas.core.frame.DataFrame'>\n",
      "RangeIndex: 4284 entries, 0 to 4283\n",
      "Data columns (total 16 columns):\n",
      " #   Column                   Non-Null Count  Dtype  \n",
      "---  ------                   --------------  -----  \n",
      " 0   EnvironmentSatisfaction  4284 non-null   float64\n",
      " 1   JobSatisfaction          4284 non-null   float64\n",
      " 2   WorkLifeBalance          4284 non-null   float64\n",
      " 3   Age                      4284 non-null   float64\n",
      " 4   DistanceFromHome         4284 non-null   float64\n",
      " 5   Education                4284 non-null   float64\n",
      " 6   JobLevel                 4284 non-null   float64\n",
      " 7   MonthlyIncome            4284 non-null   float64\n",
      " 8   NumCompaniesWorked       4284 non-null   float64\n",
      " 9   PercentSalaryHike        4284 non-null   float64\n",
      " 10  StockOptionLevel         4284 non-null   float64\n",
      " 11  TotalWorkingYears        4284 non-null   float64\n",
      " 12  TrainingTimesLastYear    4284 non-null   float64\n",
      " 13  JobInvolvement           4284 non-null   float64\n",
      " 14  PerformanceRating        4284 non-null   float64\n",
      " 15  Attrition                4284 non-null   float64\n",
      "dtypes: float64(16)\n",
      "memory usage: 535.6 KB\n",
      "<class 'pandas.core.frame.DataFrame'>\n",
      "RangeIndex: 4284 entries, 0 to 4283\n",
      "Data columns (total 22 columns):\n",
      " #   Column                   Non-Null Count  Dtype  \n",
      "---  ------                   --------------  -----  \n",
      " 0   EnvironmentSatisfaction  4284 non-null   float64\n",
      " 1   JobSatisfaction          4284 non-null   float64\n",
      " 2   WorkLifeBalance          4284 non-null   float64\n",
      " 3   Age                      4284 non-null   float64\n",
      " 4   DistanceFromHome         4284 non-null   float64\n",
      " 5   Education                4284 non-null   float64\n",
      " 6   JobLevel                 4284 non-null   float64\n",
      " 7   MonthlyIncome            4284 non-null   float64\n",
      " 8   NumCompaniesWorked       4284 non-null   float64\n",
      " 9   PercentSalaryHike        4284 non-null   float64\n",
      " 10  StockOptionLevel         4284 non-null   float64\n",
      " 11  TotalWorkingYears        4284 non-null   float64\n",
      " 12  TrainingTimesLastYear    4284 non-null   float64\n",
      " 13  JobInvolvement           4284 non-null   float64\n",
      " 14  PerformanceRating        4284 non-null   float64\n",
      " 15  Attrition                4284 non-null   float64\n",
      " 16  BusinessTravel           4284 non-null   object \n",
      " 17  Department               4284 non-null   object \n",
      " 18  EducationField           4284 non-null   object \n",
      " 19  Gender                   4284 non-null   object \n",
      " 20  JobRole                  4284 non-null   object \n",
      " 21  MaritalStatus            4284 non-null   object \n",
      "dtypes: float64(16), object(6)\n",
      "memory usage: 736.4+ KB\n"
     ]
    }
   ],
   "source": [
    "df3=funciones.imputar_f(df_,list_cat)\n",
    "df3.info()"
   ]
  },
  {
   "cell_type": "markdown",
   "metadata": {},
   "source": [
    "## **Obtener dummies**"
   ]
  },
  {
   "cell_type": "code",
   "execution_count": 8,
   "metadata": {},
   "outputs": [],
   "source": [
    "#### dummies\n",
    "list_dummies = ['BusinessTravel', 'Department', 'EducationField', 'Gender', 'JobRole', 'MaritalStatus']"
   ]
  },
  {
   "cell_type": "code",
   "execution_count": 9,
   "metadata": {},
   "outputs": [],
   "source": [
    "####Conversion a categoricas a dummie\n",
    "df = pd.get_dummies(df3, columns=list_dummies)"
   ]
  },
  {
   "cell_type": "code",
   "execution_count": 10,
   "metadata": {},
   "outputs": [],
   "source": [
    "#####Separamos nuestra variable de las demas variables\n",
    "y=df.Attrition\n",
    "X1= df.loc[:,~df.columns.isin(['Attrition'])]\n"
   ]
  },
  {
   "cell_type": "markdown",
   "metadata": {},
   "source": [
    "## **Seleccion de variables**"
   ]
  },
  {
   "cell_type": "code",
   "execution_count": 11,
   "metadata": {},
   "outputs": [],
   "source": [
    "### \n",
    "scaler=StandardScaler()\n",
    "scaler.fit(X1)\n",
    "X2=scaler.transform(X1)\n",
    "X=pd.DataFrame(X2,columns=X1.columns)"
   ]
  },
  {
   "cell_type": "code",
   "execution_count": 12,
   "metadata": {},
   "outputs": [],
   "source": [
    "######Seleccion de modelos\n",
    "### 1. Regresion logistica \n",
    "m_rl = LogisticRegression()\n",
    "\n",
    "### 2. Random forest\n",
    "m_rf = RandomForestClassifier()\n",
    "\n",
    "### 3 Arboles de decision\n",
    "m_add = DecisionTreeClassifier()\n",
    "\n",
    "### 4 GradientBoostingClassifieraa\n",
    "m_gbc = GradientBoostingClassifier()\n"
   ]
  },
  {
   "cell_type": "code",
   "execution_count": 13,
   "metadata": {},
   "outputs": [],
   "source": [
    "####Modelos\n",
    "modelos = list([m_rl, m_rf, m_add, m_gbc])"
   ]
  },
  {
   "cell_type": "code",
   "execution_count": 14,
   "metadata": {},
   "outputs": [
    {
     "data": {
      "text/plain": [
       "(5,)"
      ]
     },
     "execution_count": 14,
     "metadata": {},
     "output_type": "execute_result"
    }
   ],
   "source": [
    "#####Seleccion de variables \n",
    "var_names=funciones.sel_variables(modelos,X,y,threshold=\"2.8*mean\")\n",
    "var_names.shape\n"
   ]
  },
  {
   "cell_type": "code",
   "execution_count": 15,
   "metadata": {},
   "outputs": [
    {
     "name": "stdout",
     "output_type": "stream",
     "text": [
      "<class 'pandas.core.frame.DataFrame'>\n",
      "RangeIndex: 4284 entries, 0 to 4283\n",
      "Data columns (total 5 columns):\n",
      " #   Column              Non-Null Count  Dtype  \n",
      "---  ------              --------------  -----  \n",
      " 0   Age                 4284 non-null   float64\n",
      " 1   JobSatisfaction     4284 non-null   float64\n",
      " 2   MonthlyIncome       4284 non-null   float64\n",
      " 3   NumCompaniesWorked  4284 non-null   float64\n",
      " 4   TotalWorkingYears   4284 non-null   float64\n",
      "dtypes: float64(5)\n",
      "memory usage: 167.5 KB\n",
      "<class 'pandas.core.frame.DataFrame'>\n",
      "RangeIndex: 4284 entries, 0 to 4283\n",
      "Data columns (total 41 columns):\n",
      " #   Column                             Non-Null Count  Dtype  \n",
      "---  ------                             --------------  -----  \n",
      " 0   EnvironmentSatisfaction            4284 non-null   float64\n",
      " 1   JobSatisfaction                    4284 non-null   float64\n",
      " 2   WorkLifeBalance                    4284 non-null   float64\n",
      " 3   Age                                4284 non-null   float64\n",
      " 4   DistanceFromHome                   4284 non-null   float64\n",
      " 5   Education                          4284 non-null   float64\n",
      " 6   JobLevel                           4284 non-null   float64\n",
      " 7   MonthlyIncome                      4284 non-null   float64\n",
      " 8   NumCompaniesWorked                 4284 non-null   float64\n",
      " 9   PercentSalaryHike                  4284 non-null   float64\n",
      " 10  StockOptionLevel                   4284 non-null   float64\n",
      " 11  TotalWorkingYears                  4284 non-null   float64\n",
      " 12  TrainingTimesLastYear              4284 non-null   float64\n",
      " 13  JobInvolvement                     4284 non-null   float64\n",
      " 14  PerformanceRating                  4284 non-null   float64\n",
      " 15  BusinessTravel_Non-Travel          4284 non-null   float64\n",
      " 16  BusinessTravel_Travel_Frequently   4284 non-null   float64\n",
      " 17  BusinessTravel_Travel_Rarely       4284 non-null   float64\n",
      " 18  Department_Human Resources         4284 non-null   float64\n",
      " 19  Department_Research & Development  4284 non-null   float64\n",
      " 20  Department_Sales                   4284 non-null   float64\n",
      " 21  EducationField_Human Resources     4284 non-null   float64\n",
      " 22  EducationField_Life Sciences       4284 non-null   float64\n",
      " 23  EducationField_Marketing           4284 non-null   float64\n",
      " 24  EducationField_Medical             4284 non-null   float64\n",
      " 25  EducationField_Other               4284 non-null   float64\n",
      " 26  EducationField_Technical Degree    4284 non-null   float64\n",
      " 27  Gender_Female                      4284 non-null   float64\n",
      " 28  Gender_Male                        4284 non-null   float64\n",
      " 29  JobRole_Healthcare Representative  4284 non-null   float64\n",
      " 30  JobRole_Human Resources            4284 non-null   float64\n",
      " 31  JobRole_Laboratory Technician      4284 non-null   float64\n",
      " 32  JobRole_Manager                    4284 non-null   float64\n",
      " 33  JobRole_Manufacturing Director     4284 non-null   float64\n",
      " 34  JobRole_Research Director          4284 non-null   float64\n",
      " 35  JobRole_Research Scientist         4284 non-null   float64\n",
      " 36  JobRole_Sales Executive            4284 non-null   float64\n",
      " 37  JobRole_Sales Representative       4284 non-null   float64\n",
      " 38  MaritalStatus_Divorced             4284 non-null   float64\n",
      " 39  MaritalStatus_Married              4284 non-null   float64\n",
      " 40  MaritalStatus_Single               4284 non-null   float64\n",
      "dtypes: float64(41)\n",
      "memory usage: 1.3 MB\n"
     ]
    }
   ],
   "source": [
    "X2=X[var_names] ### matriz con variables seleccionadas\n",
    "X2.info()\n",
    "X.info()"
   ]
  },
  {
   "cell_type": "markdown",
   "metadata": {},
   "source": [
    "## **Selección de modelo**"
   ]
  },
  {
   "cell_type": "code",
   "execution_count": 16,
   "metadata": {},
   "outputs": [],
   "source": [
    "## base con todas las variables\n",
    "rmse_df = funciones.medir_modelos(modelos, \"f1\",X,y,10)\n",
    "## base con variables seleccionadas\n",
    "rmse_varsel = funciones.medir_modelos(modelos,\"f1\",X2,y,10)\n",
    "\n"
   ]
  },
  {
   "cell_type": "code",
   "execution_count": 17,
   "metadata": {},
   "outputs": [],
   "source": [
    "rmse=pd.concat([rmse_df,rmse_varsel],axis=1)\n",
    "rmse.columns=['rl', 'rf', 'add', 'm_gbc',\n",
    "       'rl_Sel', 'rf_sel', 'add_sel', 'm_gbc_sel']"
   ]
  },
  {
   "cell_type": "code",
   "execution_count": 18,
   "metadata": {},
   "outputs": [
    {
     "data": {
      "text/plain": [
       "<Axes: >"
      ]
     },
     "execution_count": 18,
     "metadata": {},
     "output_type": "execute_result"
    },
    {
     "data": {
      "image/png": "[encoded data removed]",
      "text/plain": [
       "<Figure size 640x480 with 1 Axes>"
      ]
     },
     "metadata": {},
     "output_type": "display_data"
    },
    {
     "data": {
      "image/png": "[encoded data removed]",
      "text/plain": [
       "<Figure size 640x480 with 1 Axes>"
      ]
     },
     "metadata": {},
     "output_type": "display_data"
    },
    {
     "data": {
      "image/png": "[encoded data removed]",
      "text/plain": [
       "<Figure size 640x480 with 1 Axes>"
      ]
     },
     "metadata": {},
     "output_type": "display_data"
    }
   ],
   "source": [
    "rmse_df.plot(kind='box') #### gráfico para modelos todas las varibles\n",
    "rmse_varsel.plot(kind='box') ### gráfico para modelo variables seleccionadas\n",
    "rmse.plot(kind='box') ### gráfico para modelos sel y todas las variables"
   ]
  },
  {
   "cell_type": "code",
   "execution_count": 35,
   "metadata": {},
   "outputs": [
    {
     "data": {
      "text/plain": [
       "rl           0.180266\n",
       "rf           0.858391\n",
       "add          0.826331\n",
       "m_gbc        0.421620\n",
       "rl_Sel       0.000000\n",
       "rf_sel       0.854746\n",
       "add_sel      0.825274\n",
       "m_gbc_sel    0.301511\n",
       "dtype: float64"
      ]
     },
     "execution_count": 35,
     "metadata": {},
     "output_type": "execute_result"
    },
    {
     "data": {
      "image/png": "[encoded data removed]",
      "text/plain": [
       "<Figure size 640x480 with 1 Axes>"
      ]
     },
     "metadata": {},
     "output_type": "display_data"
    }
   ],
   "source": [
    "rmse2=rmse[['rf', 'add', 'add_sel', 'rf_sel']]\n",
    "rmse2.plot(kind='box') ### gráfico para modelos sel y todas las variables\n",
    "rmse.mean() ### medias de mape"
   ]
  },
  {
   "cell_type": "code",
   "execution_count": 37,
   "metadata": {},
   "outputs": [],
   "source": [
    "####Modelos ganadores; random forest; sin seleccion de variables ... arboles de decision; con seleccion de variables\n",
    "\n",
    "####Arboles de decision\n",
    "\n",
    "param_grid_add = {\n",
    "    'max_depth': [3, 5, 10, None],\n",
    "    'min_samples_split': [2, 5, 10],\n",
    "    'min_samples_leaf': [1, 2, 4],\n",
    "    'criterion': ['gini', 'entropy']\n",
    "}\n"
   ]
  },
  {
   "cell_type": "code",
   "execution_count": 38,
   "metadata": {},
   "outputs": [
    {
     "data": {
      "text/html": [
       "<style>#sk-container-id-2 {color: black;}#sk-container-id-2 pre{padding: 0;}#sk-container-id-2 div.sk-toggleable {background-color: white;}#sk-container-id-2 label.sk-toggleable__label {cursor: pointer;display: block;width: 100%;margin-bottom: 0;padding: 0.3em;box-sizing: border-box;text-align: center;}#sk-container-id-2 label.sk-toggleable__label-arrow:before {content: \"▸\";float: left;margin-right: 0.25em;color: #696969;}#sk-container-id-2 label.sk-toggleable__label-arrow:hover:before {color: black;}#sk-container-id-2 div.sk-estimator:hover label.sk-toggleable__label-arrow:before {color: black;}#sk-container-id-2 div.sk-toggleable__content {max-height: 0;max-width: 0;overflow: hidden;text-align: left;background-color: #f0f8ff;}#sk-container-id-2 div.sk-toggleable__content pre {margin: 0.2em;color: black;border-radius: 0.25em;background-color: #f0f8ff;}#sk-container-id-2 input.sk-toggleable__control:checked~div.sk-toggleable__content {max-height: 200px;max-width: 100%;overflow: auto;}#sk-container-id-2 input.sk-toggleable__control:checked~label.sk-toggleable__label-arrow:before {content: \"▾\";}#sk-container-id-2 div.sk-estimator input.sk-toggleable__control:checked~label.sk-toggleable__label {background-color: #d4ebff;}#sk-container-id-2 div.sk-label input.sk-toggleable__control:checked~label.sk-toggleable__label {background-color: #d4ebff;}#sk-container-id-2 input.sk-hidden--visually {border: 0;clip: rect(1px 1px 1px 1px);clip: rect(1px, 1px, 1px, 1px);height: 1px;margin: -1px;overflow: hidden;padding: 0;position: absolute;width: 1px;}#sk-container-id-2 div.sk-estimator {font-family: monospace;background-color: #f0f8ff;border: 1px dotted black;border-radius: 0.25em;box-sizing: border-box;margin-bottom: 0.5em;}#sk-container-id-2 div.sk-estimator:hover {background-color: #d4ebff;}#sk-container-id-2 div.sk-parallel-item::after {content: \"\";width: 100%;border-bottom: 1px solid gray;flex-grow: 1;}#sk-container-id-2 div.sk-label:hover label.sk-toggleable__label {background-color: #d4ebff;}#sk-container-id-2 div.sk-serial::before {content: \"\";position: absolute;border-left: 1px solid gray;box-sizing: border-box;top: 0;bottom: 0;left: 50%;z-index: 0;}#sk-container-id-2 div.sk-serial {display: flex;flex-direction: column;align-items: center;background-color: white;padding-right: 0.2em;padding-left: 0.2em;position: relative;}#sk-container-id-2 div.sk-item {position: relative;z-index: 1;}#sk-container-id-2 div.sk-parallel {display: flex;align-items: stretch;justify-content: center;background-color: white;position: relative;}#sk-container-id-2 div.sk-item::before, #sk-container-id-2 div.sk-parallel-item::before {content: \"\";position: absolute;border-left: 1px solid gray;box-sizing: border-box;top: 0;bottom: 0;left: 50%;z-index: -1;}#sk-container-id-2 div.sk-parallel-item {display: flex;flex-direction: column;z-index: 1;position: relative;background-color: white;}#sk-container-id-2 div.sk-parallel-item:first-child::after {align-self: flex-end;width: 50%;}#sk-container-id-2 div.sk-parallel-item:last-child::after {align-self: flex-start;width: 50%;}#sk-container-id-2 div.sk-parallel-item:only-child::after {width: 0;}#sk-container-id-2 div.sk-dashed-wrapped {border: 1px dashed gray;margin: 0 0.4em 0.5em 0.4em;box-sizing: border-box;padding-bottom: 0.4em;background-color: white;}#sk-container-id-2 div.sk-label label {font-family: monospace;font-weight: bold;display: inline-block;line-height: 1.2em;}#sk-container-id-2 div.sk-label-container {text-align: center;}#sk-container-id-2 div.sk-container {/* jupyter's `normalize.less` sets `[hidden] { display: none; }` but bootstrap.min.css set `[hidden] { display: none !important; }` so we also need the `!important` here to be able to override the default hidden behavior on the sphinx rendered scikit-learn.org. See: https://github.com/scikit-learn/scikit-learn/issues/21755 */display: inline-block !important;position: relative;}#sk-container-id-2 div.sk-text-repr-fallback {display: none;}</style><div id=\"sk-container-id-2\" class=\"sk-top-container\"><div class=\"sk-text-repr-fallback\"><pre>RandomizedSearchCV(estimator=DecisionTreeClassifier(), n_iter=30,\n",
       "                   param_distributions={&#x27;criterion&#x27;: [&#x27;gini&#x27;, &#x27;entropy&#x27;],\n",
       "                                        &#x27;max_depth&#x27;: [3, 5, 10, None],\n",
       "                                        &#x27;min_samples_leaf&#x27;: [1, 2, 4],\n",
       "                                        &#x27;min_samples_split&#x27;: [2, 5, 10]},\n",
       "                   scoring=&#x27;f1&#x27;)</pre><b>In a Jupyter environment, please rerun this cell to show the HTML representation or trust the notebook. <br />On GitHub, the HTML representation is unable to render, please try loading this page with nbviewer.org.</b></div><div class=\"sk-container\" hidden><div class=\"sk-item sk-dashed-wrapped\"><div class=\"sk-label-container\"><div class=\"sk-label sk-toggleable\"><input class=\"sk-toggleable__control sk-hidden--visually\" id=\"sk-estimator-id-4\" type=\"checkbox\" ><label for=\"sk-estimator-id-4\" class=\"sk-toggleable__label sk-toggleable__label-arrow\">RandomizedSearchCV</label><div class=\"sk-toggleable__content\"><pre>RandomizedSearchCV(estimator=DecisionTreeClassifier(), n_iter=30,\n",
       "                   param_distributions={&#x27;criterion&#x27;: [&#x27;gini&#x27;, &#x27;entropy&#x27;],\n",
       "                                        &#x27;max_depth&#x27;: [3, 5, 10, None],\n",
       "                                        &#x27;min_samples_leaf&#x27;: [1, 2, 4],\n",
       "                                        &#x27;min_samples_split&#x27;: [2, 5, 10]},\n",
       "                   scoring=&#x27;f1&#x27;)</pre></div></div></div><div class=\"sk-parallel\"><div class=\"sk-parallel-item\"><div class=\"sk-item\"><div class=\"sk-label-container\"><div class=\"sk-label sk-toggleable\"><input class=\"sk-toggleable__control sk-hidden--visually\" id=\"sk-estimator-id-5\" type=\"checkbox\" ><label for=\"sk-estimator-id-5\" class=\"sk-toggleable__label sk-toggleable__label-arrow\">estimator: DecisionTreeClassifier</label><div class=\"sk-toggleable__content\"><pre>DecisionTreeClassifier()</pre></div></div></div><div class=\"sk-serial\"><div class=\"sk-item\"><div class=\"sk-estimator sk-toggleable\"><input class=\"sk-toggleable__control sk-hidden--visually\" id=\"sk-estimator-id-6\" type=\"checkbox\" ><label for=\"sk-estimator-id-6\" class=\"sk-toggleable__label sk-toggleable__label-arrow\">DecisionTreeClassifier</label><div class=\"sk-toggleable__content\"><pre>DecisionTreeClassifier()</pre></div></div></div></div></div></div></div></div></div></div>"
      ],
      "text/plain": [
       "RandomizedSearchCV(estimator=DecisionTreeClassifier(), n_iter=30,\n",
       "                   param_distributions={'criterion': ['gini', 'entropy'],\n",
       "                                        'max_depth': [3, 5, 10, None],\n",
       "                                        'min_samples_leaf': [1, 2, 4],\n",
       "                                        'min_samples_split': [2, 5, 10]},\n",
       "                   scoring='f1')"
      ]
     },
     "execution_count": 38,
     "metadata": {},
     "output_type": "execute_result"
    }
   ],
   "source": [
    "tun_add=RandomizedSearchCV(m_add,param_distributions=param_grid_add,n_iter=30,scoring=\"f1\")\n",
    "tun_add.fit(X2, y)"
   ]
  },
  {
   "cell_type": "code",
   "execution_count": 22,
   "metadata": {},
   "outputs": [
    {
     "data": {
      "text/html": [
       "<div>\n",
       "<style scoped>\n",
       "    .dataframe tbody tr th:only-of-type {\n",
       "        vertical-align: middle;\n",
       "    }\n",
       "\n",
       "    .dataframe tbody tr th {\n",
       "        vertical-align: top;\n",
       "    }\n",
       "\n",
       "    .dataframe thead th {\n",
       "        text-align: right;\n",
       "    }\n",
       "</style>\n",
       "<table border=\"1\" class=\"dataframe\">\n",
       "  <thead>\n",
       "    <tr style=\"text-align: right;\">\n",
       "      <th></th>\n",
       "      <th>params</th>\n",
       "      <th>mean_test_score</th>\n",
       "    </tr>\n",
       "  </thead>\n",
       "  <tbody>\n",
       "    <tr>\n",
       "      <th>29</th>\n",
       "      <td>{'min_samples_split': 2, 'min_samples_leaf': 1, 'max_depth': None, 'criterion': 'entropy'}</td>\n",
       "      <td>0.828496</td>\n",
       "    </tr>\n",
       "    <tr>\n",
       "      <th>13</th>\n",
       "      <td>{'min_samples_split': 2, 'min_samples_leaf': 2, 'max_depth': None, 'criterion': 'entropy'}</td>\n",
       "      <td>0.802680</td>\n",
       "    </tr>\n",
       "    <tr>\n",
       "      <th>9</th>\n",
       "      <td>{'min_samples_split': 5, 'min_samples_leaf': 1, 'max_depth': None, 'criterion': 'gini'}</td>\n",
       "      <td>0.799393</td>\n",
       "    </tr>\n",
       "    <tr>\n",
       "      <th>25</th>\n",
       "      <td>{'min_samples_split': 2, 'min_samples_leaf': 2, 'max_depth': None, 'criterion': 'gini'}</td>\n",
       "      <td>0.782864</td>\n",
       "    </tr>\n",
       "    <tr>\n",
       "      <th>12</th>\n",
       "      <td>{'min_samples_split': 10, 'min_samples_leaf': 2, 'max_depth': None, 'criterion': 'gini'}</td>\n",
       "      <td>0.672251</td>\n",
       "    </tr>\n",
       "    <tr>\n",
       "      <th>4</th>\n",
       "      <td>{'min_samples_split': 5, 'min_samples_leaf': 4, 'max_depth': None, 'criterion': 'entropy'}</td>\n",
       "      <td>0.630787</td>\n",
       "    </tr>\n",
       "    <tr>\n",
       "      <th>1</th>\n",
       "      <td>{'min_samples_split': 2, 'min_samples_leaf': 4, 'max_depth': None, 'criterion': 'entropy'}</td>\n",
       "      <td>0.629059</td>\n",
       "    </tr>\n",
       "    <tr>\n",
       "      <th>10</th>\n",
       "      <td>{'min_samples_split': 2, 'min_samples_leaf': 4, 'max_depth': None, 'criterion': 'gini'}</td>\n",
       "      <td>0.605457</td>\n",
       "    </tr>\n",
       "    <tr>\n",
       "      <th>20</th>\n",
       "      <td>{'min_samples_split': 10, 'min_samples_leaf': 4, 'max_depth': None, 'criterion': 'gini'}</td>\n",
       "      <td>0.599706</td>\n",
       "    </tr>\n",
       "    <tr>\n",
       "      <th>24</th>\n",
       "      <td>{'min_samples_split': 5, 'min_samples_leaf': 1, 'max_depth': 10, 'criterion': 'gini'}</td>\n",
       "      <td>0.582152</td>\n",
       "    </tr>\n",
       "    <tr>\n",
       "      <th>18</th>\n",
       "      <td>{'min_samples_split': 5, 'min_samples_leaf': 2, 'max_depth': 10, 'criterion': 'gini'}</td>\n",
       "      <td>0.566280</td>\n",
       "    </tr>\n",
       "    <tr>\n",
       "      <th>28</th>\n",
       "      <td>{'min_samples_split': 2, 'min_samples_leaf': 1, 'max_depth': 10, 'criterion': 'entropy'}</td>\n",
       "      <td>0.518481</td>\n",
       "    </tr>\n",
       "    <tr>\n",
       "      <th>5</th>\n",
       "      <td>{'min_samples_split': 2, 'min_samples_leaf': 4, 'max_depth': 10, 'criterion': 'entropy'}</td>\n",
       "      <td>0.477112</td>\n",
       "    </tr>\n",
       "    <tr>\n",
       "      <th>16</th>\n",
       "      <td>{'min_samples_split': 5, 'min_samples_leaf': 4, 'max_depth': 10, 'criterion': 'entropy'}</td>\n",
       "      <td>0.476059</td>\n",
       "    </tr>\n",
       "    <tr>\n",
       "      <th>15</th>\n",
       "      <td>{'min_samples_split': 5, 'min_samples_leaf': 2, 'max_depth': 5, 'criterion': 'gini'}</td>\n",
       "      <td>0.273115</td>\n",
       "    </tr>\n",
       "    <tr>\n",
       "      <th>17</th>\n",
       "      <td>{'min_samples_split': 5, 'min_samples_leaf': 4, 'max_depth': 5, 'criterion': 'gini'}</td>\n",
       "      <td>0.271832</td>\n",
       "    </tr>\n",
       "    <tr>\n",
       "      <th>0</th>\n",
       "      <td>{'min_samples_split': 10, 'min_samples_leaf': 1, 'max_depth': 5, 'criterion': 'gini'}</td>\n",
       "      <td>0.268576</td>\n",
       "    </tr>\n",
       "    <tr>\n",
       "      <th>7</th>\n",
       "      <td>{'min_samples_split': 10, 'min_samples_leaf': 4, 'max_depth': 5, 'criterion': 'gini'}</td>\n",
       "      <td>0.260790</td>\n",
       "    </tr>\n",
       "    <tr>\n",
       "      <th>11</th>\n",
       "      <td>{'min_samples_split': 5, 'min_samples_leaf': 1, 'max_depth': 5, 'criterion': 'entropy'}</td>\n",
       "      <td>0.173798</td>\n",
       "    </tr>\n",
       "    <tr>\n",
       "      <th>3</th>\n",
       "      <td>{'min_samples_split': 2, 'min_samples_leaf': 1, 'max_depth': 5, 'criterion': 'entropy'}</td>\n",
       "      <td>0.173798</td>\n",
       "    </tr>\n",
       "    <tr>\n",
       "      <th>26</th>\n",
       "      <td>{'min_samples_split': 2, 'min_samples_leaf': 2, 'max_depth': 5, 'criterion': 'entropy'}</td>\n",
       "      <td>0.173798</td>\n",
       "    </tr>\n",
       "    <tr>\n",
       "      <th>2</th>\n",
       "      <td>{'min_samples_split': 5, 'min_samples_leaf': 2, 'max_depth': 5, 'criterion': 'entropy'}</td>\n",
       "      <td>0.173798</td>\n",
       "    </tr>\n",
       "    <tr>\n",
       "      <th>8</th>\n",
       "      <td>{'min_samples_split': 10, 'min_samples_leaf': 2, 'max_depth': 5, 'criterion': 'entropy'}</td>\n",
       "      <td>0.173618</td>\n",
       "    </tr>\n",
       "    <tr>\n",
       "      <th>23</th>\n",
       "      <td>{'min_samples_split': 10, 'min_samples_leaf': 1, 'max_depth': 5, 'criterion': 'entropy'}</td>\n",
       "      <td>0.173618</td>\n",
       "    </tr>\n",
       "    <tr>\n",
       "      <th>21</th>\n",
       "      <td>{'min_samples_split': 10, 'min_samples_leaf': 4, 'max_depth': 5, 'criterion': 'entropy'}</td>\n",
       "      <td>0.170877</td>\n",
       "    </tr>\n",
       "    <tr>\n",
       "      <th>22</th>\n",
       "      <td>{'min_samples_split': 2, 'min_samples_leaf': 4, 'max_depth': 5, 'criterion': 'entropy'}</td>\n",
       "      <td>0.170877</td>\n",
       "    </tr>\n",
       "    <tr>\n",
       "      <th>14</th>\n",
       "      <td>{'min_samples_split': 5, 'min_samples_leaf': 2, 'max_depth': 3, 'criterion': 'gini'}</td>\n",
       "      <td>0.113811</td>\n",
       "    </tr>\n",
       "    <tr>\n",
       "      <th>27</th>\n",
       "      <td>{'min_samples_split': 5, 'min_samples_leaf': 4, 'max_depth': 3, 'criterion': 'gini'}</td>\n",
       "      <td>0.111370</td>\n",
       "    </tr>\n",
       "    <tr>\n",
       "      <th>19</th>\n",
       "      <td>{'min_samples_split': 2, 'min_samples_leaf': 1, 'max_depth': 3, 'criterion': 'entropy'}</td>\n",
       "      <td>0.003390</td>\n",
       "    </tr>\n",
       "    <tr>\n",
       "      <th>6</th>\n",
       "      <td>{'min_samples_split': 5, 'min_samples_leaf': 2, 'max_depth': 3, 'criterion': 'entropy'}</td>\n",
       "      <td>0.003390</td>\n",
       "    </tr>\n",
       "  </tbody>\n",
       "</table>\n",
       "</div>"
      ],
      "text/plain": [
       "                                                                                        params  \\\n",
       "29  {'min_samples_split': 2, 'min_samples_leaf': 1, 'max_depth': None, 'criterion': 'entropy'}   \n",
       "13  {'min_samples_split': 2, 'min_samples_leaf': 2, 'max_depth': None, 'criterion': 'entropy'}   \n",
       "9      {'min_samples_split': 5, 'min_samples_leaf': 1, 'max_depth': None, 'criterion': 'gini'}   \n",
       "25     {'min_samples_split': 2, 'min_samples_leaf': 2, 'max_depth': None, 'criterion': 'gini'}   \n",
       "12    {'min_samples_split': 10, 'min_samples_leaf': 2, 'max_depth': None, 'criterion': 'gini'}   \n",
       "4   {'min_samples_split': 5, 'min_samples_leaf': 4, 'max_depth': None, 'criterion': 'entropy'}   \n",
       "1   {'min_samples_split': 2, 'min_samples_leaf': 4, 'max_depth': None, 'criterion': 'entropy'}   \n",
       "10     {'min_samples_split': 2, 'min_samples_leaf': 4, 'max_depth': None, 'criterion': 'gini'}   \n",
       "20    {'min_samples_split': 10, 'min_samples_leaf': 4, 'max_depth': None, 'criterion': 'gini'}   \n",
       "24       {'min_samples_split': 5, 'min_samples_leaf': 1, 'max_depth': 10, 'criterion': 'gini'}   \n",
       "18       {'min_samples_split': 5, 'min_samples_leaf': 2, 'max_depth': 10, 'criterion': 'gini'}   \n",
       "28    {'min_samples_split': 2, 'min_samples_leaf': 1, 'max_depth': 10, 'criterion': 'entropy'}   \n",
       "5     {'min_samples_split': 2, 'min_samples_leaf': 4, 'max_depth': 10, 'criterion': 'entropy'}   \n",
       "16    {'min_samples_split': 5, 'min_samples_leaf': 4, 'max_depth': 10, 'criterion': 'entropy'}   \n",
       "15        {'min_samples_split': 5, 'min_samples_leaf': 2, 'max_depth': 5, 'criterion': 'gini'}   \n",
       "17        {'min_samples_split': 5, 'min_samples_leaf': 4, 'max_depth': 5, 'criterion': 'gini'}   \n",
       "0        {'min_samples_split': 10, 'min_samples_leaf': 1, 'max_depth': 5, 'criterion': 'gini'}   \n",
       "7        {'min_samples_split': 10, 'min_samples_leaf': 4, 'max_depth': 5, 'criterion': 'gini'}   \n",
       "11     {'min_samples_split': 5, 'min_samples_leaf': 1, 'max_depth': 5, 'criterion': 'entropy'}   \n",
       "3      {'min_samples_split': 2, 'min_samples_leaf': 1, 'max_depth': 5, 'criterion': 'entropy'}   \n",
       "26     {'min_samples_split': 2, 'min_samples_leaf': 2, 'max_depth': 5, 'criterion': 'entropy'}   \n",
       "2      {'min_samples_split': 5, 'min_samples_leaf': 2, 'max_depth': 5, 'criterion': 'entropy'}   \n",
       "8     {'min_samples_split': 10, 'min_samples_leaf': 2, 'max_depth': 5, 'criterion': 'entropy'}   \n",
       "23    {'min_samples_split': 10, 'min_samples_leaf': 1, 'max_depth': 5, 'criterion': 'entropy'}   \n",
       "21    {'min_samples_split': 10, 'min_samples_leaf': 4, 'max_depth': 5, 'criterion': 'entropy'}   \n",
       "22     {'min_samples_split': 2, 'min_samples_leaf': 4, 'max_depth': 5, 'criterion': 'entropy'}   \n",
       "14        {'min_samples_split': 5, 'min_samples_leaf': 2, 'max_depth': 3, 'criterion': 'gini'}   \n",
       "27        {'min_samples_split': 5, 'min_samples_leaf': 4, 'max_depth': 3, 'criterion': 'gini'}   \n",
       "19     {'min_samples_split': 2, 'min_samples_leaf': 1, 'max_depth': 3, 'criterion': 'entropy'}   \n",
       "6      {'min_samples_split': 5, 'min_samples_leaf': 2, 'max_depth': 3, 'criterion': 'entropy'}   \n",
       "\n",
       "    mean_test_score  \n",
       "29         0.828496  \n",
       "13         0.802680  \n",
       "9          0.799393  \n",
       "25         0.782864  \n",
       "12         0.672251  \n",
       "4          0.630787  \n",
       "1          0.629059  \n",
       "10         0.605457  \n",
       "20         0.599706  \n",
       "24         0.582152  \n",
       "18         0.566280  \n",
       "28         0.518481  \n",
       "5          0.477112  \n",
       "16         0.476059  \n",
       "15         0.273115  \n",
       "17         0.271832  \n",
       "0          0.268576  \n",
       "7          0.260790  \n",
       "11         0.173798  \n",
       "3          0.173798  \n",
       "26         0.173798  \n",
       "2          0.173798  \n",
       "8          0.173618  \n",
       "23         0.173618  \n",
       "21         0.170877  \n",
       "22         0.170877  \n",
       "14         0.113811  \n",
       "27         0.111370  \n",
       "19         0.003390  \n",
       "6          0.003390  "
      ]
     },
     "execution_count": 22,
     "metadata": {},
     "output_type": "execute_result"
    }
   ],
   "source": [
    "pd.set_option('display.max_colwidth', 100)\n",
    "resultados=tun_add.cv_results_\n",
    "tun_add.best_params_\n",
    "pd_resultados=pd.DataFrame(resultados)\n",
    "pd_resultados[[\"params\",\"mean_test_score\"]].sort_values(by=\"mean_test_score\", ascending=False)"
   ]
  },
  {
   "cell_type": "code",
   "execution_count": 23,
   "metadata": {},
   "outputs": [],
   "source": [
    "add_final=tun_add.best_estimator_ ### Guardar el modelo con hyperparameter tunning\n",
    "m_add=m_add.fit(X2,y)\n"
   ]
  },
  {
   "cell_type": "markdown",
   "metadata": {},
   "source": [
    "**Random forest**"
   ]
  },
  {
   "cell_type": "code",
   "execution_count": 48,
   "metadata": {},
   "outputs": [],
   "source": [
    "param_grid_2 = [{'n_estimators': [3, 500, 100], 'max_features': [5,20],\n",
    "               'min_samples_split': [100, 20, 5]}]\n"
   ]
  },
  {
   "cell_type": "code",
   "execution_count": 51,
   "metadata": {},
   "outputs": [
    {
     "data": {
      "text/html": [
       "<style>#sk-container-id-6 {color: black;}#sk-container-id-6 pre{padding: 0;}#sk-container-id-6 div.sk-toggleable {background-color: white;}#sk-container-id-6 label.sk-toggleable__label {cursor: pointer;display: block;width: 100%;margin-bottom: 0;padding: 0.3em;box-sizing: border-box;text-align: center;}#sk-container-id-6 label.sk-toggleable__label-arrow:before {content: \"▸\";float: left;margin-right: 0.25em;color: #696969;}#sk-container-id-6 label.sk-toggleable__label-arrow:hover:before {color: black;}#sk-container-id-6 div.sk-estimator:hover label.sk-toggleable__label-arrow:before {color: black;}#sk-container-id-6 div.sk-toggleable__content {max-height: 0;max-width: 0;overflow: hidden;text-align: left;background-color: #f0f8ff;}#sk-container-id-6 div.sk-toggleable__content pre {margin: 0.2em;color: black;border-radius: 0.25em;background-color: #f0f8ff;}#sk-container-id-6 input.sk-toggleable__control:checked~div.sk-toggleable__content {max-height: 200px;max-width: 100%;overflow: auto;}#sk-container-id-6 input.sk-toggleable__control:checked~label.sk-toggleable__label-arrow:before {content: \"▾\";}#sk-container-id-6 div.sk-estimator input.sk-toggleable__control:checked~label.sk-toggleable__label {background-color: #d4ebff;}#sk-container-id-6 div.sk-label input.sk-toggleable__control:checked~label.sk-toggleable__label {background-color: #d4ebff;}#sk-container-id-6 input.sk-hidden--visually {border: 0;clip: rect(1px 1px 1px 1px);clip: rect(1px, 1px, 1px, 1px);height: 1px;margin: -1px;overflow: hidden;padding: 0;position: absolute;width: 1px;}#sk-container-id-6 div.sk-estimator {font-family: monospace;background-color: #f0f8ff;border: 1px dotted black;border-radius: 0.25em;box-sizing: border-box;margin-bottom: 0.5em;}#sk-container-id-6 div.sk-estimator:hover {background-color: #d4ebff;}#sk-container-id-6 div.sk-parallel-item::after {content: \"\";width: 100%;border-bottom: 1px solid gray;flex-grow: 1;}#sk-container-id-6 div.sk-label:hover label.sk-toggleable__label {background-color: #d4ebff;}#sk-container-id-6 div.sk-serial::before {content: \"\";position: absolute;border-left: 1px solid gray;box-sizing: border-box;top: 0;bottom: 0;left: 50%;z-index: 0;}#sk-container-id-6 div.sk-serial {display: flex;flex-direction: column;align-items: center;background-color: white;padding-right: 0.2em;padding-left: 0.2em;position: relative;}#sk-container-id-6 div.sk-item {position: relative;z-index: 1;}#sk-container-id-6 div.sk-parallel {display: flex;align-items: stretch;justify-content: center;background-color: white;position: relative;}#sk-container-id-6 div.sk-item::before, #sk-container-id-6 div.sk-parallel-item::before {content: \"\";position: absolute;border-left: 1px solid gray;box-sizing: border-box;top: 0;bottom: 0;left: 50%;z-index: -1;}#sk-container-id-6 div.sk-parallel-item {display: flex;flex-direction: column;z-index: 1;position: relative;background-color: white;}#sk-container-id-6 div.sk-parallel-item:first-child::after {align-self: flex-end;width: 50%;}#sk-container-id-6 div.sk-parallel-item:last-child::after {align-self: flex-start;width: 50%;}#sk-container-id-6 div.sk-parallel-item:only-child::after {width: 0;}#sk-container-id-6 div.sk-dashed-wrapped {border: 1px dashed gray;margin: 0 0.4em 0.5em 0.4em;box-sizing: border-box;padding-bottom: 0.4em;background-color: white;}#sk-container-id-6 div.sk-label label {font-family: monospace;font-weight: bold;display: inline-block;line-height: 1.2em;}#sk-container-id-6 div.sk-label-container {text-align: center;}#sk-container-id-6 div.sk-container {/* jupyter's `normalize.less` sets `[hidden] { display: none; }` but bootstrap.min.css set `[hidden] { display: none !important; }` so we also need the `!important` here to be able to override the default hidden behavior on the sphinx rendered scikit-learn.org. See: https://github.com/scikit-learn/scikit-learn/issues/21755 */display: inline-block !important;position: relative;}#sk-container-id-6 div.sk-text-repr-fallback {display: none;}</style><div id=\"sk-container-id-6\" class=\"sk-top-container\"><div class=\"sk-text-repr-fallback\"><pre>RandomizedSearchCV(estimator=RandomForestClassifier(), n_iter=15,\n",
       "                   param_distributions=[{&#x27;max_features&#x27;: [5, 20],\n",
       "                                         &#x27;min_samples_split&#x27;: [100, 20, 5],\n",
       "                                         &#x27;n_estimators&#x27;: [3, 500, 100]}],\n",
       "                   scoring=&#x27;f1&#x27;)</pre><b>In a Jupyter environment, please rerun this cell to show the HTML representation or trust the notebook. <br />On GitHub, the HTML representation is unable to render, please try loading this page with nbviewer.org.</b></div><div class=\"sk-container\" hidden><div class=\"sk-item sk-dashed-wrapped\"><div class=\"sk-label-container\"><div class=\"sk-label sk-toggleable\"><input class=\"sk-toggleable__control sk-hidden--visually\" id=\"sk-estimator-id-16\" type=\"checkbox\" ><label for=\"sk-estimator-id-16\" class=\"sk-toggleable__label sk-toggleable__label-arrow\">RandomizedSearchCV</label><div class=\"sk-toggleable__content\"><pre>RandomizedSearchCV(estimator=RandomForestClassifier(), n_iter=15,\n",
       "                   param_distributions=[{&#x27;max_features&#x27;: [5, 20],\n",
       "                                         &#x27;min_samples_split&#x27;: [100, 20, 5],\n",
       "                                         &#x27;n_estimators&#x27;: [3, 500, 100]}],\n",
       "                   scoring=&#x27;f1&#x27;)</pre></div></div></div><div class=\"sk-parallel\"><div class=\"sk-parallel-item\"><div class=\"sk-item\"><div class=\"sk-label-container\"><div class=\"sk-label sk-toggleable\"><input class=\"sk-toggleable__control sk-hidden--visually\" id=\"sk-estimator-id-17\" type=\"checkbox\" ><label for=\"sk-estimator-id-17\" class=\"sk-toggleable__label sk-toggleable__label-arrow\">estimator: RandomForestClassifier</label><div class=\"sk-toggleable__content\"><pre>RandomForestClassifier()</pre></div></div></div><div class=\"sk-serial\"><div class=\"sk-item\"><div class=\"sk-estimator sk-toggleable\"><input class=\"sk-toggleable__control sk-hidden--visually\" id=\"sk-estimator-id-18\" type=\"checkbox\" ><label for=\"sk-estimator-id-18\" class=\"sk-toggleable__label sk-toggleable__label-arrow\">RandomForestClassifier</label><div class=\"sk-toggleable__content\"><pre>RandomForestClassifier()</pre></div></div></div></div></div></div></div></div></div></div>"
      ],
      "text/plain": [
       "RandomizedSearchCV(estimator=RandomForestClassifier(), n_iter=15,\n",
       "                   param_distributions=[{'max_features': [5, 20],\n",
       "                                         'min_samples_split': [100, 20, 5],\n",
       "                                         'n_estimators': [3, 500, 100]}],\n",
       "                   scoring='f1')"
      ]
     },
     "execution_count": 51,
     "metadata": {},
     "output_type": "execute_result"
    }
   ],
   "source": [
    "tun_rf=RandomizedSearchCV(m_rf,param_distributions=param_grid_2,n_iter=15,scoring=\"f1\")\n",
    "tun_rf.fit(X2,y)"
   ]
  },
  {
   "cell_type": "code",
   "execution_count": 52,
   "metadata": {},
   "outputs": [
    {
     "data": {
      "text/html": [
       "<div>\n",
       "<style scoped>\n",
       "    .dataframe tbody tr th:only-of-type {\n",
       "        vertical-align: middle;\n",
       "    }\n",
       "\n",
       "    .dataframe tbody tr th {\n",
       "        vertical-align: top;\n",
       "    }\n",
       "\n",
       "    .dataframe thead th {\n",
       "        text-align: right;\n",
       "    }\n",
       "</style>\n",
       "<table border=\"1\" class=\"dataframe\">\n",
       "  <thead>\n",
       "    <tr style=\"text-align: right;\">\n",
       "      <th></th>\n",
       "      <th>params</th>\n",
       "      <th>mean_test_score</th>\n",
       "    </tr>\n",
       "  </thead>\n",
       "  <tbody>\n",
       "    <tr>\n",
       "      <th>8</th>\n",
       "      <td>{'n_estimators': 100, 'min_samples_split': 5, 'max_features': 20}</td>\n",
       "      <td>0.843185</td>\n",
       "    </tr>\n",
       "    <tr>\n",
       "      <th>12</th>\n",
       "      <td>{'n_estimators': 500, 'min_samples_split': 5, 'max_features': 5}</td>\n",
       "      <td>0.840981</td>\n",
       "    </tr>\n",
       "    <tr>\n",
       "      <th>4</th>\n",
       "      <td>{'n_estimators': 100, 'min_samples_split': 5, 'max_features': 5}</td>\n",
       "      <td>0.839042</td>\n",
       "    </tr>\n",
       "    <tr>\n",
       "      <th>14</th>\n",
       "      <td>{'n_estimators': 500, 'min_samples_split': 5, 'max_features': 20}</td>\n",
       "      <td>0.828208</td>\n",
       "    </tr>\n",
       "    <tr>\n",
       "      <th>5</th>\n",
       "      <td>{'n_estimators': 3, 'min_samples_split': 5, 'max_features': 20}</td>\n",
       "      <td>0.793285</td>\n",
       "    </tr>\n",
       "    <tr>\n",
       "      <th>6</th>\n",
       "      <td>{'n_estimators': 3, 'min_samples_split': 5, 'max_features': 5}</td>\n",
       "      <td>0.775916</td>\n",
       "    </tr>\n",
       "    <tr>\n",
       "      <th>3</th>\n",
       "      <td>{'n_estimators': 3, 'min_samples_split': 20, 'max_features': 20}</td>\n",
       "      <td>0.565531</td>\n",
       "    </tr>\n",
       "    <tr>\n",
       "      <th>10</th>\n",
       "      <td>{'n_estimators': 3, 'min_samples_split': 20, 'max_features': 5}</td>\n",
       "      <td>0.522402</td>\n",
       "    </tr>\n",
       "    <tr>\n",
       "      <th>2</th>\n",
       "      <td>{'n_estimators': 100, 'min_samples_split': 20, 'max_features': 5}</td>\n",
       "      <td>0.492956</td>\n",
       "    </tr>\n",
       "    <tr>\n",
       "      <th>0</th>\n",
       "      <td>{'n_estimators': 500, 'min_samples_split': 20, 'max_features': 20}</td>\n",
       "      <td>0.488730</td>\n",
       "    </tr>\n",
       "    <tr>\n",
       "      <th>9</th>\n",
       "      <td>{'n_estimators': 100, 'min_samples_split': 20, 'max_features': 20}</td>\n",
       "      <td>0.486054</td>\n",
       "    </tr>\n",
       "    <tr>\n",
       "      <th>13</th>\n",
       "      <td>{'n_estimators': 500, 'min_samples_split': 20, 'max_features': 5}</td>\n",
       "      <td>0.482938</td>\n",
       "    </tr>\n",
       "    <tr>\n",
       "      <th>1</th>\n",
       "      <td>{'n_estimators': 3, 'min_samples_split': 100, 'max_features': 5}</td>\n",
       "      <td>0.172492</td>\n",
       "    </tr>\n",
       "    <tr>\n",
       "      <th>7</th>\n",
       "      <td>{'n_estimators': 500, 'min_samples_split': 100, 'max_features': 5}</td>\n",
       "      <td>0.162712</td>\n",
       "    </tr>\n",
       "    <tr>\n",
       "      <th>11</th>\n",
       "      <td>{'n_estimators': 100, 'min_samples_split': 100, 'max_features': 20}</td>\n",
       "      <td>0.162602</td>\n",
       "    </tr>\n",
       "  </tbody>\n",
       "</table>\n",
       "</div>"
      ],
      "text/plain": [
       "                                                                 params  \\\n",
       "8     {'n_estimators': 100, 'min_samples_split': 5, 'max_features': 20}   \n",
       "12     {'n_estimators': 500, 'min_samples_split': 5, 'max_features': 5}   \n",
       "4      {'n_estimators': 100, 'min_samples_split': 5, 'max_features': 5}   \n",
       "14    {'n_estimators': 500, 'min_samples_split': 5, 'max_features': 20}   \n",
       "5       {'n_estimators': 3, 'min_samples_split': 5, 'max_features': 20}   \n",
       "6        {'n_estimators': 3, 'min_samples_split': 5, 'max_features': 5}   \n",
       "3      {'n_estimators': 3, 'min_samples_split': 20, 'max_features': 20}   \n",
       "10      {'n_estimators': 3, 'min_samples_split': 20, 'max_features': 5}   \n",
       "2     {'n_estimators': 100, 'min_samples_split': 20, 'max_features': 5}   \n",
       "0    {'n_estimators': 500, 'min_samples_split': 20, 'max_features': 20}   \n",
       "9    {'n_estimators': 100, 'min_samples_split': 20, 'max_features': 20}   \n",
       "13    {'n_estimators': 500, 'min_samples_split': 20, 'max_features': 5}   \n",
       "1      {'n_estimators': 3, 'min_samples_split': 100, 'max_features': 5}   \n",
       "7    {'n_estimators': 500, 'min_samples_split': 100, 'max_features': 5}   \n",
       "11  {'n_estimators': 100, 'min_samples_split': 100, 'max_features': 20}   \n",
       "\n",
       "    mean_test_score  \n",
       "8          0.843185  \n",
       "12         0.840981  \n",
       "4          0.839042  \n",
       "14         0.828208  \n",
       "5          0.793285  \n",
       "6          0.775916  \n",
       "3          0.565531  \n",
       "10         0.522402  \n",
       "2          0.492956  \n",
       "0          0.488730  \n",
       "9          0.486054  \n",
       "13         0.482938  \n",
       "1          0.172492  \n",
       "7          0.162712  \n",
       "11         0.162602  "
      ]
     },
     "execution_count": 52,
     "metadata": {},
     "output_type": "execute_result"
    }
   ],
   "source": [
    "pd.set_option('display.max_colwidth', 100)\n",
    "resultados=tun_rf.cv_results_\n",
    "tun_rf.best_params_\n",
    "pd_resultados=pd.DataFrame(resultados)\n",
    "pd_resultados[[\"params\",\"mean_test_score\"]].sort_values(by=\"mean_test_score\", ascending=False)"
   ]
  },
  {
   "cell_type": "code",
   "execution_count": 53,
   "metadata": {},
   "outputs": [],
   "source": [
    "rf_final=tun_rf.best_estimator_ ### Guardar el modelo con hyperparameter tunning\n",
    "m_rf=m_rf.fit(X2,y)"
   ]
  },
  {
   "cell_type": "code",
   "execution_count": 54,
   "metadata": {},
   "outputs": [
    {
     "data": {
      "text/plain": [
       "['salidas\\\\scaler.pkl']"
      ]
     },
     "execution_count": 54,
     "metadata": {},
     "output_type": "execute_result"
    }
   ],
   "source": [
    "### función para exportar y guardar objetos de python (cualqueira)\n",
    "\n",
    "joblib.dump(add_final, \"salidas\\\\add_final.pkl\") ## \n",
    "joblib.dump(rf_final, \"salidas\\\\rf_final.pkl\") ## \n",
    "joblib.dump(list_cat, \"salidas\\\\list_cat.pkl\") ### para realizar imputacion\n",
    "joblib.dump(list_dummies, \"salidas\\\\list_dummies.pkl\")  ### para convertir a dummies\n",
    "joblib.dump(var_names, \"salidas\\\\var_names.pkl\")  ### para variables con que se entrena modelo\n",
    "joblib.dump(scaler, \"salidas\\\\scaler.pkl\") ## "
   ]
  },
  {
   "cell_type": "code",
   "execution_count": 56,
   "metadata": {},
   "outputs": [],
   "source": [
    "### funcion para cargar objeto guardado ###\n",
    "add_final = joblib.load(\"salidas\\\\add_final.pkl\")\n",
    "m_add = joblib.load(\"salidas\\\\rf_final.pkl\")\n",
    "list_cat=joblib.load(\"salidas\\\\list_cat.pkl\")\n",
    "list_dummies=joblib.load(\"salidas\\\\list_dummies.pkl\")\n",
    "var_names=joblib.load(\"salidas\\\\var_names.pkl\")\n",
    "scaler=joblib.load(\"salidas\\\\scaler.pkl\")"
   ]
  },
  {
   "cell_type": "code",
   "execution_count": 57,
   "metadata": {},
   "outputs": [],
   "source": [
    "\n",
    "#####Evaluar métrica de entrenamiento y evaluación para mirar sobre ajuste ####\n",
    "from sklearn.model_selection import cross_val_predict, cross_val_score, cross_validate\n",
    "eval=cross_validate(add_final,X2,y,cv=5,scoring=\"f1\",return_train_score=True)\n",
    "eval2=cross_validate(rf_final,X2,y,cv=5,scoring=\"f1\",return_train_score=True)"
   ]
  },
  {
   "cell_type": "code",
   "execution_count": 58,
   "metadata": {},
   "outputs": [],
   "source": [
    "#### convertir resultado de evaluacion entrenamiento y evaluacion en data frame para ADD\n",
    "train_add=pd.DataFrame(eval['train_score'])\n",
    "test_add=pd.DataFrame(eval['test_score'])\n",
    "train_test_rf=pd.concat([train_add, test_add],axis=1)\n",
    "train_test_rf.columns=['train_score','test_score']"
   ]
  },
  {
   "cell_type": "code",
   "execution_count": 31,
   "metadata": {},
   "outputs": [],
   "source": [
    "#### convertir resultado de evaluacion entrenamiento y evaluacion en data frame para RF\n",
    "train_rf=pd.DataFrame(eval2['train_score'])\n",
    "test_rf=pd.DataFrame(eval2['test_score'])\n",
    "train_test_add=pd.concat([train_rf, test_rf],axis=1)\n",
    "train_test_add.columns=['train_score','test_score']"
   ]
  },
  {
   "cell_type": "code",
   "execution_count": 59,
   "metadata": {},
   "outputs": [
    {
     "data": {
      "text/plain": [
       "0.8276375277590278"
      ]
     },
     "execution_count": 59,
     "metadata": {},
     "output_type": "execute_result"
    }
   ],
   "source": [
    "train_test_add[\"test_score\"].mean()\n",
    "train_test_rf[\"test_score\"].mean()"
   ]
  }
 ],
 "metadata": {
  "kernelspec": {
   "display_name": "base",
   "language": "python",
   "name": "python3"
  },
  "language_info": {
   "codemirror_mode": {
    "name": "ipython",
    "version": 3
   },
   "file_extension": ".py",
   "mimetype": "text/x-python",
   "name": "python",
   "nbconvert_exporter": "python",
   "pygments_lexer": "ipython3",
   "version": "3.11.4"
  }
 },
 "nbformat": 4,
 "nbformat_minor": 2
}
