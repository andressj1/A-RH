{
 "cells": [
  {
   "cell_type": "markdown",
   "metadata": {},
   "source": [
    "**Exploración de datos**"
   ]
  },
  {
   "cell_type": "code",
   "execution_count": 1,
   "metadata": {},
   "outputs": [],
   "source": [
    "##Librerias\n",
    "import matplotlib.pyplot as plt  # gráficos\n",
    "import pandas as pd ### para manejo de datos\n",
    "import a_funciones as funciones  ###archivo de funciones propias\n",
    "import matplotlib.pyplot as plt  # gráficos"
   ]
  },
  {
   "cell_type": "code",
   "execution_count": 2,
   "metadata": {},
   "outputs": [],
   "source": [
    "df = pd.read_csv(\"https://raw.githubusercontent.com/andressj1/A-RH/main/Bases/basefinal.csv\", sep=\",\")"
   ]
  },
  {
   "cell_type": "markdown",
   "metadata": {},
   "source": [
    "## **Analisis univariado**"
   ]
  },
  {
   "cell_type": "code",
   "execution_count": 18,
   "metadata": {},
   "outputs": [
    {
     "name": "stdout",
     "output_type": "stream",
     "text": [
      "<class 'pandas.core.frame.DataFrame'>\n",
      "RangeIndex: 4345 entries, 0 to 4344\n",
      "Data columns (total 27 columns):\n",
      " #   Column                   Non-Null Count  Dtype  \n",
      "---  ------                   --------------  -----  \n",
      " 0   EnvironmentSatisfaction  4345 non-null   float64\n",
      " 1   JobSatisfaction          4345 non-null   float64\n",
      " 2   WorkLifeBalance          4345 non-null   float64\n",
      " 3   Age                      4345 non-null   int64  \n",
      " 4   BusinessTravel           4345 non-null   object \n",
      " 5   Department               4345 non-null   object \n",
      " 6   DistanceFromHome         4345 non-null   int64  \n",
      " 7   Education                4345 non-null   int64  \n",
      " 8   EducationField           4345 non-null   object \n",
      " 9   Gender                   4345 non-null   object \n",
      " 10  JobLevel                 4345 non-null   int64  \n",
      " 11  JobRole                  4345 non-null   object \n",
      " 12  MaritalStatus            4345 non-null   object \n",
      " 13  MonthlyIncome            4345 non-null   int64  \n",
      " 14  NumCompaniesWorked       4345 non-null   float64\n",
      " 15  PercentSalaryHike        4345 non-null   int64  \n",
      " 16  StockOptionLevel         4345 non-null   int64  \n",
      " 17  TotalWorkingYears        4345 non-null   float64\n",
      " 18  TrainingTimesLastYear    4345 non-null   int64  \n",
      " 19  YearsAtCompany           4345 non-null   int64  \n",
      " 20  YearsSinceLastPromotion  4345 non-null   int64  \n",
      " 21  YearsWithCurrManager     4345 non-null   int64  \n",
      " 22  JobInvolvement           4345 non-null   int64  \n",
      " 23  PerformanceRating        4345 non-null   int64  \n",
      " 24  Attrition                4345 non-null   object \n",
      " 25  retirementType           4345 non-null   object \n",
      " 26  resignationReason        4345 non-null   object \n",
      "dtypes: float64(5), int64(13), object(9)\n",
      "memory usage: 916.7+ KB\n"
     ]
    }
   ],
   "source": [
    "df.info()"
   ]
  },
  {
   "cell_type": "code",
   "execution_count": 43,
   "metadata": {},
   "outputs": [
    {
     "data": {
      "text/plain": [
       "23420    12\n",
       "26100     9\n",
       "61420     9\n",
       "23800     9\n",
       "63470     9\n",
       "         ..\n",
       "62880     2\n",
       "34230     2\n",
       "41890     2\n",
       "68540     2\n",
       "76540     1\n",
       "Name: MonthlyIncome, Length: 1348, dtype: int64"
      ]
     },
     "execution_count": 43,
     "metadata": {},
     "output_type": "execute_result"
    }
   ],
   "source": [
    "df['MonthlyIncome'].value_counts()\n"
   ]
  },
  {
   "cell_type": "code",
   "execution_count": null,
   "metadata": {},
   "outputs": [],
   "source": [
    "##### ajustar edad\n",
    "##### ajustar distance from home  \n",
    "#### ajustar NumCompaniesWorked\n",
    "#### ajustar PercentSalaryHike\n",
    "##### ajustar  TotalWorkingYears\n",
    "#### ajustar YearsWithCurrManager\n",
    "##### ajustar YearsAtCompany\n",
    "#### ajustar MonthlyIncome"
   ]
  }
 ],
 "metadata": {
  "kernelspec": {
   "display_name": "base",
   "language": "python",
   "name": "python3"
  },
  "language_info": {
   "codemirror_mode": {
    "name": "ipython",
    "version": 3
   },
   "file_extension": ".py",
   "mimetype": "text/x-python",
   "name": "python",
   "nbconvert_exporter": "python",
   "pygments_lexer": "ipython3",
   "version": "3.11.4"
  }
 },
 "nbformat": 4,
 "nbformat_minor": 2
}
