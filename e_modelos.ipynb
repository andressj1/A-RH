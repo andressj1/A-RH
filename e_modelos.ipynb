{
 "cells": [
  {
   "cell_type": "code",
   "execution_count": 170,
   "metadata": {},
   "outputs": [],
   "source": [
    "import pandas as pd ### para manejo de datos\n",
    "import sqlite3 as sql\n",
    "import a_funciones as funciones  ###archivo de funciones propias\n",
    "import numpy as np\n",
    "import plotly.express as px\n",
    "from sklearn.model_selection import RandomizedSearchCV\n",
    "import joblib  ### para guardar modelos\n",
    "from sklearn.preprocessing import StandardScaler ## escalar variables \n",
    "import openpyxl\n",
    "from sklearn.linear_model import LogisticRegression # Regresión logística\n",
    "from sklearn.ensemble import RandomForestClassifier  # Clasificador bosques aleatoriost \n",
    "from sklearn.tree import DecisionTreeClassifier\n",
    "from sklearn.preprocessing import StandardScaler ## escalar variable\n",
    "\n"
   ]
  },
  {
   "cell_type": "code",
   "execution_count": 171,
   "metadata": {},
   "outputs": [],
   "source": [
    "df4 = pd.read_csv(\"https://raw.githubusercontent.com/andressj1/A-RH/main/Bases/df_fin.csv\", sep=\",\")\n",
    "df0 = pd.read_csv(\"https://raw.githubusercontent.com/andressj1/A-RH/main/Bases/base16.csv\", sep=\",\")"
   ]
  },
  {
   "cell_type": "code",
   "execution_count": 172,
   "metadata": {},
   "outputs": [
    {
     "data": {
      "text/html": [
       "<div>\n",
       "<style scoped>\n",
       "    .dataframe tbody tr th:only-of-type {\n",
       "        vertical-align: middle;\n",
       "    }\n",
       "\n",
       "    .dataframe tbody tr th {\n",
       "        vertical-align: top;\n",
       "    }\n",
       "\n",
       "    .dataframe thead th {\n",
       "        text-align: right;\n",
       "    }\n",
       "</style>\n",
       "<table border=\"1\" class=\"dataframe\">\n",
       "  <thead>\n",
       "    <tr style=\"text-align: right;\">\n",
       "      <th></th>\n",
       "      <th>EnvironmentSatisfaction</th>\n",
       "      <th>JobSatisfaction</th>\n",
       "      <th>WorkLifeBalance</th>\n",
       "      <th>Age</th>\n",
       "      <th>BusinessTravel</th>\n",
       "      <th>Department</th>\n",
       "      <th>DistanceFromHome</th>\n",
       "      <th>Education</th>\n",
       "      <th>EducationField</th>\n",
       "      <th>Gender</th>\n",
       "      <th>...</th>\n",
       "      <th>MonthlyIncome</th>\n",
       "      <th>NumCompaniesWorked</th>\n",
       "      <th>PercentSalaryHike</th>\n",
       "      <th>StockOptionLevel</th>\n",
       "      <th>TotalWorkingYears</th>\n",
       "      <th>TrainingTimesLastYear</th>\n",
       "      <th>JobInvolvement</th>\n",
       "      <th>PerformanceRating</th>\n",
       "      <th>Attrition</th>\n",
       "      <th>resignationReason</th>\n",
       "    </tr>\n",
       "  </thead>\n",
       "  <tbody>\n",
       "    <tr>\n",
       "      <th>0</th>\n",
       "      <td>3</td>\n",
       "      <td>4</td>\n",
       "      <td>2</td>\n",
       "      <td>51</td>\n",
       "      <td>Travel_Rarely</td>\n",
       "      <td>Sales</td>\n",
       "      <td>6</td>\n",
       "      <td>2</td>\n",
       "      <td>Life Sciences</td>\n",
       "      <td>Female</td>\n",
       "      <td>...</td>\n",
       "      <td>131160</td>\n",
       "      <td>1</td>\n",
       "      <td>11</td>\n",
       "      <td>0</td>\n",
       "      <td>1</td>\n",
       "      <td>6</td>\n",
       "      <td>3</td>\n",
       "      <td>3</td>\n",
       "      <td>No</td>\n",
       "      <td>NaN</td>\n",
       "    </tr>\n",
       "    <tr>\n",
       "      <th>1</th>\n",
       "      <td>3</td>\n",
       "      <td>2</td>\n",
       "      <td>4</td>\n",
       "      <td>31</td>\n",
       "      <td>Travel_Frequently</td>\n",
       "      <td>Research &amp; Development</td>\n",
       "      <td>10</td>\n",
       "      <td>1</td>\n",
       "      <td>Life Sciences</td>\n",
       "      <td>Female</td>\n",
       "      <td>...</td>\n",
       "      <td>41890</td>\n",
       "      <td>0</td>\n",
       "      <td>23</td>\n",
       "      <td>1</td>\n",
       "      <td>6</td>\n",
       "      <td>3</td>\n",
       "      <td>2</td>\n",
       "      <td>4</td>\n",
       "      <td>Yes</td>\n",
       "      <td>Others</td>\n",
       "    </tr>\n",
       "    <tr>\n",
       "      <th>2</th>\n",
       "      <td>2</td>\n",
       "      <td>2</td>\n",
       "      <td>1</td>\n",
       "      <td>32</td>\n",
       "      <td>Travel_Frequently</td>\n",
       "      <td>Research &amp; Development</td>\n",
       "      <td>17</td>\n",
       "      <td>4</td>\n",
       "      <td>Other</td>\n",
       "      <td>Male</td>\n",
       "      <td>...</td>\n",
       "      <td>193280</td>\n",
       "      <td>1</td>\n",
       "      <td>15</td>\n",
       "      <td>3</td>\n",
       "      <td>5</td>\n",
       "      <td>2</td>\n",
       "      <td>3</td>\n",
       "      <td>3</td>\n",
       "      <td>No</td>\n",
       "      <td>NaN</td>\n",
       "    </tr>\n",
       "  </tbody>\n",
       "</table>\n",
       "<p>3 rows × 23 columns</p>\n",
       "</div>"
      ],
      "text/plain": [
       "   EnvironmentSatisfaction  JobSatisfaction  WorkLifeBalance  Age  \\\n",
       "0                        3                4                2   51   \n",
       "1                        3                2                4   31   \n",
       "2                        2                2                1   32   \n",
       "\n",
       "      BusinessTravel              Department  DistanceFromHome  Education  \\\n",
       "0      Travel_Rarely                   Sales                 6          2   \n",
       "1  Travel_Frequently  Research & Development                10          1   \n",
       "2  Travel_Frequently  Research & Development                17          4   \n",
       "\n",
       "  EducationField  Gender  ...  MonthlyIncome NumCompaniesWorked  \\\n",
       "0  Life Sciences  Female  ...         131160                  1   \n",
       "1  Life Sciences  Female  ...          41890                  0   \n",
       "2          Other    Male  ...         193280                  1   \n",
       "\n",
       "  PercentSalaryHike  StockOptionLevel  TotalWorkingYears  \\\n",
       "0                11                 0                  1   \n",
       "1                23                 1                  6   \n",
       "2                15                 3                  5   \n",
       "\n",
       "   TrainingTimesLastYear  JobInvolvement  PerformanceRating  Attrition  \\\n",
       "0                      6               3                  3         No   \n",
       "1                      3               2                  4        Yes   \n",
       "2                      2               3                  3         No   \n",
       "\n",
       "   resignationReason  \n",
       "0                NaN  \n",
       "1             Others  \n",
       "2                NaN  \n",
       "\n",
       "[3 rows x 23 columns]"
      ]
     },
     "execution_count": 172,
     "metadata": {},
     "output_type": "execute_result"
    }
   ],
   "source": [
    "df4.head(3)"
   ]
  },
  {
   "cell_type": "code",
   "execution_count": 173,
   "metadata": {},
   "outputs": [
    {
     "name": "stdout",
     "output_type": "stream",
     "text": [
      "['BusinessTravel', 'Department', 'EducationField', 'Gender', 'JobRole', 'MaritalStatus', 'Attrition', 'resignationReason']\n"
     ]
    }
   ],
   "source": [
    "columnas = df4.columns\n",
    "list_num = [col for col in columnas if df4[col].dtype in ['int64', 'float64']]\n",
    "list_cat = [col for col in columnas if df4[col].dtype == 'object']\n",
    "list_dummies = ['BusinessTravel', 'Department', 'EducationField', 'Gender', 'JobRole', 'MaritalStatus', 'resignationReason']\n",
    "print(list_cat)\n",
    "scaler=StandardScaler()"
   ]
  },
  {
   "cell_type": "markdown",
   "metadata": {},
   "source": [
    "## **Obtener dummies**"
   ]
  },
  {
   "cell_type": "code",
   "execution_count": 174,
   "metadata": {},
   "outputs": [],
   "source": [
    "# Obtener variables dummy para las columnas categóricas excepto 'Attrition'\n",
    "df_dum = pd.get_dummies(df4.drop('Attrition', axis=1))\n",
    "\n",
    "# Añadir la variable 'Attrition' de nuevo al DataFrame\n",
    "df_dum['Attrition'] = df4['Attrition']"
   ]
  },
  {
   "cell_type": "code",
   "execution_count": 175,
   "metadata": {},
   "outputs": [],
   "source": [
    "# Agregar 'Attrition' de nuevo al DataFrame\n",
    "df_dum['Attrition'] = df4['Attrition']"
   ]
  },
  {
   "cell_type": "code",
   "execution_count": 176,
   "metadata": {},
   "outputs": [],
   "source": [
    "### conversion a entero \n",
    "df_dum['Attrition'] = df_dum['Attrition'].map({'No': 0, 'Yes': 1}).astype(int)\n"
   ]
  },
  {
   "cell_type": "markdown",
   "metadata": {},
   "source": [
    "## **Seleccion de variables**"
   ]
  },
  {
   "cell_type": "code",
   "execution_count": 177,
   "metadata": {},
   "outputs": [],
   "source": [
    "#####Separamos nuestra variable de las demas variables\n",
    "X = df_dum.drop('Attrition',axis=1)\n",
    "y = df_dum['Attrition']"
   ]
  },
  {
   "cell_type": "code",
   "execution_count": 178,
   "metadata": {},
   "outputs": [],
   "source": [
    "######Seleccion de modelos\n",
    "### 1. Regresion logistica \n",
    "m_rl = LogisticRegression()\n",
    "### 2. Random forest\n",
    "m_rf = RandomForestClassifier()\n",
    "### 3 Arboles de decision\n",
    "m_add = DecisionTreeClassifier()\n"
   ]
  },
  {
   "cell_type": "code",
   "execution_count": 179,
   "metadata": {},
   "outputs": [],
   "source": [
    "####Modelos\n",
    "modelos = list([m_rl, m_rf, m_add])"
   ]
  },
  {
   "cell_type": "code",
   "execution_count": 180,
   "metadata": {},
   "outputs": [
    {
     "data": {
      "text/plain": [
       "(6,)"
      ]
     },
     "execution_count": 180,
     "metadata": {},
     "output_type": "execute_result"
    }
   ],
   "source": [
    "#####Seleccion de variables \n",
    "var_names=funciones.sel_variables(modelos,X,y,threshold=\"2.9*mean\")\n",
    "var_names.shape\n"
   ]
  },
  {
   "cell_type": "code",
   "execution_count": 181,
   "metadata": {},
   "outputs": [
    {
     "name": "stdout",
     "output_type": "stream",
     "text": [
      "<class 'pandas.core.frame.DataFrame'>\n",
      "RangeIndex: 4284 entries, 0 to 4283\n",
      "Data columns (total 6 columns):\n",
      " #   Column                    Non-Null Count  Dtype\n",
      "---  ------                    --------------  -----\n",
      " 0   JobSatisfaction           4284 non-null   int64\n",
      " 1   NumCompaniesWorked        4284 non-null   int64\n",
      " 2   TotalWorkingYears         4284 non-null   int64\n",
      " 3   resignationReason_Others  4284 non-null   uint8\n",
      " 4   resignationReason_Salary  4284 non-null   uint8\n",
      " 5   resignationReason_Stress  4284 non-null   uint8\n",
      "dtypes: int64(3), uint8(3)\n",
      "memory usage: 113.1 KB\n",
      "<class 'pandas.core.frame.DataFrame'>\n",
      "RangeIndex: 4284 entries, 0 to 4283\n",
      "Data columns (total 44 columns):\n",
      " #   Column                             Non-Null Count  Dtype\n",
      "---  ------                             --------------  -----\n",
      " 0   EnvironmentSatisfaction            4284 non-null   int64\n",
      " 1   JobSatisfaction                    4284 non-null   int64\n",
      " 2   WorkLifeBalance                    4284 non-null   int64\n",
      " 3   Age                                4284 non-null   int64\n",
      " 4   DistanceFromHome                   4284 non-null   int64\n",
      " 5   Education                          4284 non-null   int64\n",
      " 6   JobLevel                           4284 non-null   int64\n",
      " 7   MonthlyIncome                      4284 non-null   int64\n",
      " 8   NumCompaniesWorked                 4284 non-null   int64\n",
      " 9   PercentSalaryHike                  4284 non-null   int64\n",
      " 10  StockOptionLevel                   4284 non-null   int64\n",
      " 11  TotalWorkingYears                  4284 non-null   int64\n",
      " 12  TrainingTimesLastYear              4284 non-null   int64\n",
      " 13  JobInvolvement                     4284 non-null   int64\n",
      " 14  PerformanceRating                  4284 non-null   int64\n",
      " 15  BusinessTravel_Non-Travel          4284 non-null   uint8\n",
      " 16  BusinessTravel_Travel_Frequently   4284 non-null   uint8\n",
      " 17  BusinessTravel_Travel_Rarely       4284 non-null   uint8\n",
      " 18  Department_Human Resources         4284 non-null   uint8\n",
      " 19  Department_Research & Development  4284 non-null   uint8\n",
      " 20  Department_Sales                   4284 non-null   uint8\n",
      " 21  EducationField_Human Resources     4284 non-null   uint8\n",
      " 22  EducationField_Life Sciences       4284 non-null   uint8\n",
      " 23  EducationField_Marketing           4284 non-null   uint8\n",
      " 24  EducationField_Medical             4284 non-null   uint8\n",
      " 25  EducationField_Other               4284 non-null   uint8\n",
      " 26  EducationField_Technical Degree    4284 non-null   uint8\n",
      " 27  Gender_Female                      4284 non-null   uint8\n",
      " 28  Gender_Male                        4284 non-null   uint8\n",
      " 29  JobRole_Healthcare Representative  4284 non-null   uint8\n",
      " 30  JobRole_Human Resources            4284 non-null   uint8\n",
      " 31  JobRole_Laboratory Technician      4284 non-null   uint8\n",
      " 32  JobRole_Manager                    4284 non-null   uint8\n",
      " 33  JobRole_Manufacturing Director     4284 non-null   uint8\n",
      " 34  JobRole_Research Director          4284 non-null   uint8\n",
      " 35  JobRole_Research Scientist         4284 non-null   uint8\n",
      " 36  JobRole_Sales Executive            4284 non-null   uint8\n",
      " 37  JobRole_Sales Representative       4284 non-null   uint8\n",
      " 38  MaritalStatus_Divorced             4284 non-null   uint8\n",
      " 39  MaritalStatus_Married              4284 non-null   uint8\n",
      " 40  MaritalStatus_Single               4284 non-null   uint8\n",
      " 41  resignationReason_Others           4284 non-null   uint8\n",
      " 42  resignationReason_Salary           4284 non-null   uint8\n",
      " 43  resignationReason_Stress           4284 non-null   uint8\n",
      "dtypes: int64(15), uint8(29)\n",
      "memory usage: 623.5 KB\n"
     ]
    }
   ],
   "source": [
    "### matriz con variables seleccionadas\n",
    "X2=X[var_names]\n",
    "X2.info()\n",
    "X.info()"
   ]
  },
  {
   "cell_type": "markdown",
   "metadata": {},
   "source": [
    "## **Selección de modelo**"
   ]
  },
  {
   "cell_type": "code",
   "execution_count": 182,
   "metadata": {},
   "outputs": [
    {
     "name": "stderr",
     "output_type": "stream",
     "text": [
      "c:\\Users\\luisa\\anaconda3\\Lib\\site-packages\\sklearn\\linear_model\\_logistic.py:460: ConvergenceWarning: lbfgs failed to converge (status=1):\n",
      "STOP: TOTAL NO. of ITERATIONS REACHED LIMIT.\n",
      "\n",
      "Increase the number of iterations (max_iter) or scale the data as shown in:\n",
      "    https://scikit-learn.org/stable/modules/preprocessing.html\n",
      "Please also refer to the documentation for alternative solver options:\n",
      "    https://scikit-learn.org/stable/modules/linear_model.html#logistic-regression\n",
      "  n_iter_i = _check_optimize_result(\n"
     ]
    }
   ],
   "source": [
    "## base con todas las variables\n",
    "rmse_df=funciones.medir_modelos(modelos,\"f1\",X,y,10)  \n",
    "## base con variables seleccionadas\n",
    "rmse_varsel=funciones.medir_modelos(modelos,\"f1\",X2,y,10)\n",
    "\n",
    "rmse=pd.concat([rmse_df,rmse_varsel],axis=1)\n",
    "rmse.columns=['rl', 'rf', 'add',\n",
    "       'rl_Sel', 'rf_sel', 'add_sel']\n",
    "\n",
    "\n"
   ]
  },
  {
   "cell_type": "code",
   "execution_count": 183,
   "metadata": {},
   "outputs": [
    {
     "data": {
      "text/plain": [
       "<Axes: >"
      ]
     },
     "execution_count": 183,
     "metadata": {},
     "output_type": "execute_result"
    },
    {
     "data": {
      "image/png": "[encoded data removed]",
      "text/plain": [
       "<Figure size 640x480 with 1 Axes>"
      ]
     },
     "metadata": {},
     "output_type": "display_data"
    },
    {
     "data": {
      "image/png": "[encoded data removed]",
      "text/plain": [
       "<Figure size 640x480 with 1 Axes>"
      ]
     },
     "metadata": {},
     "output_type": "display_data"
    },
    {
     "data": {
      "image/png": "[encoded data removed]",
      "text/plain": [
       "<Figure size 640x480 with 1 Axes>"
      ]
     },
     "metadata": {},
     "output_type": "display_data"
    }
   ],
   "source": [
    "rmse_df.plot(kind='box') #### gráfico para modelos todas las varibles\n",
    "rmse_varsel.plot(kind='box') ### gráfico para modelo variables seleccionadas\n",
    "rmse.plot(kind='box') ### gráfico para modelos sel y todas las variables"
   ]
  },
  {
   "cell_type": "code",
   "execution_count": 184,
   "metadata": {},
   "outputs": [
    {
     "data": {
      "text/plain": [
       "rl         0.006667\n",
       "rf         0.997479\n",
       "add        1.000000\n",
       "rl_Sel     1.000000\n",
       "rf_sel     1.000000\n",
       "add_sel    1.000000\n",
       "dtype: float64"
      ]
     },
     "execution_count": 184,
     "metadata": {},
     "output_type": "execute_result"
    },
    {
     "data": {
      "image/png": "[encoded data removed]",
      "text/plain": [
       "<Figure size 640x480 with 1 Axes>"
      ]
     },
     "metadata": {},
     "output_type": "display_data"
    }
   ],
   "source": [
    "rmse2=rmse[ ['rf', 'add','rl_Sel', 'rf_sel', 'add_sel']]\n",
    "rmse2.plot(kind='box') ### gráfico para modelos sel y todas las variables\n",
    "\n",
    "rmse.mean() ### medias de mape"
   ]
  },
  {
   "cell_type": "code",
   "execution_count": 185,
   "metadata": {},
   "outputs": [],
   "source": [
    "##### Ajuste de modelo ganador; Arboles de decision usando todas las variables\n",
    "param_grid = {\n",
    "    'max_depth': [3, 5, 10, None],\n",
    "    'min_samples_split': [2, 5, 10],\n",
    "    'min_samples_leaf': [1, 2, 4],\n",
    "    'criterion': ['gini', 'entropy']\n",
    "}\n"
   ]
  },
  {
   "cell_type": "code",
   "execution_count": 186,
   "metadata": {},
   "outputs": [
    {
     "data": {
      "text/html": [
       "<style>#sk-container-id-9 {color: black;}#sk-container-id-9 pre{padding: 0;}#sk-container-id-9 div.sk-toggleable {background-color: white;}#sk-container-id-9 label.sk-toggleable__label {cursor: pointer;display: block;width: 100%;margin-bottom: 0;padding: 0.3em;box-sizing: border-box;text-align: center;}#sk-container-id-9 label.sk-toggleable__label-arrow:before {content: \"▸\";float: left;margin-right: 0.25em;color: #696969;}#sk-container-id-9 label.sk-toggleable__label-arrow:hover:before {color: black;}#sk-container-id-9 div.sk-estimator:hover label.sk-toggleable__label-arrow:before {color: black;}#sk-container-id-9 div.sk-toggleable__content {max-height: 0;max-width: 0;overflow: hidden;text-align: left;background-color: #f0f8ff;}#sk-container-id-9 div.sk-toggleable__content pre {margin: 0.2em;color: black;border-radius: 0.25em;background-color: #f0f8ff;}#sk-container-id-9 input.sk-toggleable__control:checked~div.sk-toggleable__content {max-height: 200px;max-width: 100%;overflow: auto;}#sk-container-id-9 input.sk-toggleable__control:checked~label.sk-toggleable__label-arrow:before {content: \"▾\";}#sk-container-id-9 div.sk-estimator input.sk-toggleable__control:checked~label.sk-toggleable__label {background-color: #d4ebff;}#sk-container-id-9 div.sk-label input.sk-toggleable__control:checked~label.sk-toggleable__label {background-color: #d4ebff;}#sk-container-id-9 input.sk-hidden--visually {border: 0;clip: rect(1px 1px 1px 1px);clip: rect(1px, 1px, 1px, 1px);height: 1px;margin: -1px;overflow: hidden;padding: 0;position: absolute;width: 1px;}#sk-container-id-9 div.sk-estimator {font-family: monospace;background-color: #f0f8ff;border: 1px dotted black;border-radius: 0.25em;box-sizing: border-box;margin-bottom: 0.5em;}#sk-container-id-9 div.sk-estimator:hover {background-color: #d4ebff;}#sk-container-id-9 div.sk-parallel-item::after {content: \"\";width: 100%;border-bottom: 1px solid gray;flex-grow: 1;}#sk-container-id-9 div.sk-label:hover label.sk-toggleable__label {background-color: #d4ebff;}#sk-container-id-9 div.sk-serial::before {content: \"\";position: absolute;border-left: 1px solid gray;box-sizing: border-box;top: 0;bottom: 0;left: 50%;z-index: 0;}#sk-container-id-9 div.sk-serial {display: flex;flex-direction: column;align-items: center;background-color: white;padding-right: 0.2em;padding-left: 0.2em;position: relative;}#sk-container-id-9 div.sk-item {position: relative;z-index: 1;}#sk-container-id-9 div.sk-parallel {display: flex;align-items: stretch;justify-content: center;background-color: white;position: relative;}#sk-container-id-9 div.sk-item::before, #sk-container-id-9 div.sk-parallel-item::before {content: \"\";position: absolute;border-left: 1px solid gray;box-sizing: border-box;top: 0;bottom: 0;left: 50%;z-index: -1;}#sk-container-id-9 div.sk-parallel-item {display: flex;flex-direction: column;z-index: 1;position: relative;background-color: white;}#sk-container-id-9 div.sk-parallel-item:first-child::after {align-self: flex-end;width: 50%;}#sk-container-id-9 div.sk-parallel-item:last-child::after {align-self: flex-start;width: 50%;}#sk-container-id-9 div.sk-parallel-item:only-child::after {width: 0;}#sk-container-id-9 div.sk-dashed-wrapped {border: 1px dashed gray;margin: 0 0.4em 0.5em 0.4em;box-sizing: border-box;padding-bottom: 0.4em;background-color: white;}#sk-container-id-9 div.sk-label label {font-family: monospace;font-weight: bold;display: inline-block;line-height: 1.2em;}#sk-container-id-9 div.sk-label-container {text-align: center;}#sk-container-id-9 div.sk-container {/* jupyter's `normalize.less` sets `[hidden] { display: none; }` but bootstrap.min.css set `[hidden] { display: none !important; }` so we also need the `!important` here to be able to override the default hidden behavior on the sphinx rendered scikit-learn.org. See: https://github.com/scikit-learn/scikit-learn/issues/21755 */display: inline-block !important;position: relative;}#sk-container-id-9 div.sk-text-repr-fallback {display: none;}</style><div id=\"sk-container-id-9\" class=\"sk-top-container\"><div class=\"sk-text-repr-fallback\"><pre>RandomizedSearchCV(estimator=DecisionTreeClassifier(), n_iter=25,\n",
       "                   param_distributions={&#x27;criterion&#x27;: [&#x27;gini&#x27;, &#x27;entropy&#x27;],\n",
       "                                        &#x27;max_depth&#x27;: [3, 5, 10, None],\n",
       "                                        &#x27;min_samples_leaf&#x27;: [1, 2, 4],\n",
       "                                        &#x27;min_samples_split&#x27;: [2, 5, 10]},\n",
       "                   scoring=&#x27;f1_macro&#x27;)</pre><b>In a Jupyter environment, please rerun this cell to show the HTML representation or trust the notebook. <br />On GitHub, the HTML representation is unable to render, please try loading this page with nbviewer.org.</b></div><div class=\"sk-container\" hidden><div class=\"sk-item sk-dashed-wrapped\"><div class=\"sk-label-container\"><div class=\"sk-label sk-toggleable\"><input class=\"sk-toggleable__control sk-hidden--visually\" id=\"sk-estimator-id-25\" type=\"checkbox\" ><label for=\"sk-estimator-id-25\" class=\"sk-toggleable__label sk-toggleable__label-arrow\">RandomizedSearchCV</label><div class=\"sk-toggleable__content\"><pre>RandomizedSearchCV(estimator=DecisionTreeClassifier(), n_iter=25,\n",
       "                   param_distributions={&#x27;criterion&#x27;: [&#x27;gini&#x27;, &#x27;entropy&#x27;],\n",
       "                                        &#x27;max_depth&#x27;: [3, 5, 10, None],\n",
       "                                        &#x27;min_samples_leaf&#x27;: [1, 2, 4],\n",
       "                                        &#x27;min_samples_split&#x27;: [2, 5, 10]},\n",
       "                   scoring=&#x27;f1_macro&#x27;)</pre></div></div></div><div class=\"sk-parallel\"><div class=\"sk-parallel-item\"><div class=\"sk-item\"><div class=\"sk-label-container\"><div class=\"sk-label sk-toggleable\"><input class=\"sk-toggleable__control sk-hidden--visually\" id=\"sk-estimator-id-26\" type=\"checkbox\" ><label for=\"sk-estimator-id-26\" class=\"sk-toggleable__label sk-toggleable__label-arrow\">estimator: DecisionTreeClassifier</label><div class=\"sk-toggleable__content\"><pre>DecisionTreeClassifier()</pre></div></div></div><div class=\"sk-serial\"><div class=\"sk-item\"><div class=\"sk-estimator sk-toggleable\"><input class=\"sk-toggleable__control sk-hidden--visually\" id=\"sk-estimator-id-27\" type=\"checkbox\" ><label for=\"sk-estimator-id-27\" class=\"sk-toggleable__label sk-toggleable__label-arrow\">DecisionTreeClassifier</label><div class=\"sk-toggleable__content\"><pre>DecisionTreeClassifier()</pre></div></div></div></div></div></div></div></div></div></div>"
      ],
      "text/plain": [
       "RandomizedSearchCV(estimator=DecisionTreeClassifier(), n_iter=25,\n",
       "                   param_distributions={'criterion': ['gini', 'entropy'],\n",
       "                                        'max_depth': [3, 5, 10, None],\n",
       "                                        'min_samples_leaf': [1, 2, 4],\n",
       "                                        'min_samples_split': [2, 5, 10]},\n",
       "                   scoring='f1_macro')"
      ]
     },
     "execution_count": 186,
     "metadata": {},
     "output_type": "execute_result"
    }
   ],
   "source": [
    "tun_add=RandomizedSearchCV(m_add,param_distributions=param_grid,n_iter=25,scoring=\"f1_macro\")\n",
    "tun_add.fit(X2, y)"
   ]
  },
  {
   "cell_type": "code",
   "execution_count": 187,
   "metadata": {},
   "outputs": [
    {
     "data": {
      "text/html": [
       "<div>\n",
       "<style scoped>\n",
       "    .dataframe tbody tr th:only-of-type {\n",
       "        vertical-align: middle;\n",
       "    }\n",
       "\n",
       "    .dataframe tbody tr th {\n",
       "        vertical-align: top;\n",
       "    }\n",
       "\n",
       "    .dataframe thead th {\n",
       "        text-align: right;\n",
       "    }\n",
       "</style>\n",
       "<table border=\"1\" class=\"dataframe\">\n",
       "  <thead>\n",
       "    <tr style=\"text-align: right;\">\n",
       "      <th></th>\n",
       "      <th>params</th>\n",
       "      <th>mean_test_score</th>\n",
       "    </tr>\n",
       "  </thead>\n",
       "  <tbody>\n",
       "    <tr>\n",
       "      <th>0</th>\n",
       "      <td>{'min_samples_split': 5, 'min_samples_leaf': 4, 'max_depth': 10, 'criterion': 'entropy'}</td>\n",
       "      <td>1.0</td>\n",
       "    </tr>\n",
       "    <tr>\n",
       "      <th>13</th>\n",
       "      <td>{'min_samples_split': 5, 'min_samples_leaf': 4, 'max_depth': 3, 'criterion': 'entropy'}</td>\n",
       "      <td>1.0</td>\n",
       "    </tr>\n",
       "    <tr>\n",
       "      <th>23</th>\n",
       "      <td>{'min_samples_split': 5, 'min_samples_leaf': 1, 'max_depth': None, 'criterion': 'gini'}</td>\n",
       "      <td>1.0</td>\n",
       "    </tr>\n",
       "    <tr>\n",
       "      <th>22</th>\n",
       "      <td>{'min_samples_split': 2, 'min_samples_leaf': 1, 'max_depth': 3, 'criterion': 'gini'}</td>\n",
       "      <td>1.0</td>\n",
       "    </tr>\n",
       "    <tr>\n",
       "      <th>21</th>\n",
       "      <td>{'min_samples_split': 2, 'min_samples_leaf': 2, 'max_depth': 10, 'criterion': 'gini'}</td>\n",
       "      <td>1.0</td>\n",
       "    </tr>\n",
       "    <tr>\n",
       "      <th>20</th>\n",
       "      <td>{'min_samples_split': 10, 'min_samples_leaf': 1, 'max_depth': 5, 'criterion': 'gini'}</td>\n",
       "      <td>1.0</td>\n",
       "    </tr>\n",
       "    <tr>\n",
       "      <th>19</th>\n",
       "      <td>{'min_samples_split': 5, 'min_samples_leaf': 2, 'max_depth': 10, 'criterion': 'entropy'}</td>\n",
       "      <td>1.0</td>\n",
       "    </tr>\n",
       "    <tr>\n",
       "      <th>18</th>\n",
       "      <td>{'min_samples_split': 10, 'min_samples_leaf': 2, 'max_depth': None, 'criterion': 'entropy'}</td>\n",
       "      <td>1.0</td>\n",
       "    </tr>\n",
       "    <tr>\n",
       "      <th>17</th>\n",
       "      <td>{'min_samples_split': 5, 'min_samples_leaf': 4, 'max_depth': 5, 'criterion': 'gini'}</td>\n",
       "      <td>1.0</td>\n",
       "    </tr>\n",
       "    <tr>\n",
       "      <th>16</th>\n",
       "      <td>{'min_samples_split': 10, 'min_samples_leaf': 1, 'max_depth': 3, 'criterion': 'entropy'}</td>\n",
       "      <td>1.0</td>\n",
       "    </tr>\n",
       "    <tr>\n",
       "      <th>15</th>\n",
       "      <td>{'min_samples_split': 5, 'min_samples_leaf': 2, 'max_depth': None, 'criterion': 'entropy'}</td>\n",
       "      <td>1.0</td>\n",
       "    </tr>\n",
       "    <tr>\n",
       "      <th>14</th>\n",
       "      <td>{'min_samples_split': 5, 'min_samples_leaf': 1, 'max_depth': 10, 'criterion': 'entropy'}</td>\n",
       "      <td>1.0</td>\n",
       "    </tr>\n",
       "    <tr>\n",
       "      <th>12</th>\n",
       "      <td>{'min_samples_split': 5, 'min_samples_leaf': 1, 'max_depth': 10, 'criterion': 'gini'}</td>\n",
       "      <td>1.0</td>\n",
       "    </tr>\n",
       "    <tr>\n",
       "      <th>1</th>\n",
       "      <td>{'min_samples_split': 5, 'min_samples_leaf': 2, 'max_depth': 5, 'criterion': 'gini'}</td>\n",
       "      <td>1.0</td>\n",
       "    </tr>\n",
       "    <tr>\n",
       "      <th>11</th>\n",
       "      <td>{'min_samples_split': 2, 'min_samples_leaf': 1, 'max_depth': 10, 'criterion': 'entropy'}</td>\n",
       "      <td>1.0</td>\n",
       "    </tr>\n",
       "    <tr>\n",
       "      <th>10</th>\n",
       "      <td>{'min_samples_split': 2, 'min_samples_leaf': 2, 'max_depth': 5, 'criterion': 'entropy'}</td>\n",
       "      <td>1.0</td>\n",
       "    </tr>\n",
       "    <tr>\n",
       "      <th>9</th>\n",
       "      <td>{'min_samples_split': 2, 'min_samples_leaf': 4, 'max_depth': 10, 'criterion': 'gini'}</td>\n",
       "      <td>1.0</td>\n",
       "    </tr>\n",
       "    <tr>\n",
       "      <th>8</th>\n",
       "      <td>{'min_samples_split': 10, 'min_samples_leaf': 1, 'max_depth': 10, 'criterion': 'entropy'}</td>\n",
       "      <td>1.0</td>\n",
       "    </tr>\n",
       "    <tr>\n",
       "      <th>7</th>\n",
       "      <td>{'min_samples_split': 2, 'min_samples_leaf': 2, 'max_depth': 5, 'criterion': 'gini'}</td>\n",
       "      <td>1.0</td>\n",
       "    </tr>\n",
       "    <tr>\n",
       "      <th>6</th>\n",
       "      <td>{'min_samples_split': 2, 'min_samples_leaf': 1, 'max_depth': 5, 'criterion': 'gini'}</td>\n",
       "      <td>1.0</td>\n",
       "    </tr>\n",
       "    <tr>\n",
       "      <th>5</th>\n",
       "      <td>{'min_samples_split': 10, 'min_samples_leaf': 4, 'max_depth': 3, 'criterion': 'gini'}</td>\n",
       "      <td>1.0</td>\n",
       "    </tr>\n",
       "    <tr>\n",
       "      <th>4</th>\n",
       "      <td>{'min_samples_split': 10, 'min_samples_leaf': 1, 'max_depth': 10, 'criterion': 'gini'}</td>\n",
       "      <td>1.0</td>\n",
       "    </tr>\n",
       "    <tr>\n",
       "      <th>3</th>\n",
       "      <td>{'min_samples_split': 2, 'min_samples_leaf': 2, 'max_depth': 3, 'criterion': 'gini'}</td>\n",
       "      <td>1.0</td>\n",
       "    </tr>\n",
       "    <tr>\n",
       "      <th>2</th>\n",
       "      <td>{'min_samples_split': 2, 'min_samples_leaf': 2, 'max_depth': 3, 'criterion': 'entropy'}</td>\n",
       "      <td>1.0</td>\n",
       "    </tr>\n",
       "    <tr>\n",
       "      <th>24</th>\n",
       "      <td>{'min_samples_split': 10, 'min_samples_leaf': 2, 'max_depth': 5, 'criterion': 'gini'}</td>\n",
       "      <td>1.0</td>\n",
       "    </tr>\n",
       "  </tbody>\n",
       "</table>\n",
       "</div>"
      ],
      "text/plain": [
       "                                                                                         params  \\\n",
       "0      {'min_samples_split': 5, 'min_samples_leaf': 4, 'max_depth': 10, 'criterion': 'entropy'}   \n",
       "13      {'min_samples_split': 5, 'min_samples_leaf': 4, 'max_depth': 3, 'criterion': 'entropy'}   \n",
       "23      {'min_samples_split': 5, 'min_samples_leaf': 1, 'max_depth': None, 'criterion': 'gini'}   \n",
       "22         {'min_samples_split': 2, 'min_samples_leaf': 1, 'max_depth': 3, 'criterion': 'gini'}   \n",
       "21        {'min_samples_split': 2, 'min_samples_leaf': 2, 'max_depth': 10, 'criterion': 'gini'}   \n",
       "20        {'min_samples_split': 10, 'min_samples_leaf': 1, 'max_depth': 5, 'criterion': 'gini'}   \n",
       "19     {'min_samples_split': 5, 'min_samples_leaf': 2, 'max_depth': 10, 'criterion': 'entropy'}   \n",
       "18  {'min_samples_split': 10, 'min_samples_leaf': 2, 'max_depth': None, 'criterion': 'entropy'}   \n",
       "17         {'min_samples_split': 5, 'min_samples_leaf': 4, 'max_depth': 5, 'criterion': 'gini'}   \n",
       "16     {'min_samples_split': 10, 'min_samples_leaf': 1, 'max_depth': 3, 'criterion': 'entropy'}   \n",
       "15   {'min_samples_split': 5, 'min_samples_leaf': 2, 'max_depth': None, 'criterion': 'entropy'}   \n",
       "14     {'min_samples_split': 5, 'min_samples_leaf': 1, 'max_depth': 10, 'criterion': 'entropy'}   \n",
       "12        {'min_samples_split': 5, 'min_samples_leaf': 1, 'max_depth': 10, 'criterion': 'gini'}   \n",
       "1          {'min_samples_split': 5, 'min_samples_leaf': 2, 'max_depth': 5, 'criterion': 'gini'}   \n",
       "11     {'min_samples_split': 2, 'min_samples_leaf': 1, 'max_depth': 10, 'criterion': 'entropy'}   \n",
       "10      {'min_samples_split': 2, 'min_samples_leaf': 2, 'max_depth': 5, 'criterion': 'entropy'}   \n",
       "9         {'min_samples_split': 2, 'min_samples_leaf': 4, 'max_depth': 10, 'criterion': 'gini'}   \n",
       "8     {'min_samples_split': 10, 'min_samples_leaf': 1, 'max_depth': 10, 'criterion': 'entropy'}   \n",
       "7          {'min_samples_split': 2, 'min_samples_leaf': 2, 'max_depth': 5, 'criterion': 'gini'}   \n",
       "6          {'min_samples_split': 2, 'min_samples_leaf': 1, 'max_depth': 5, 'criterion': 'gini'}   \n",
       "5         {'min_samples_split': 10, 'min_samples_leaf': 4, 'max_depth': 3, 'criterion': 'gini'}   \n",
       "4        {'min_samples_split': 10, 'min_samples_leaf': 1, 'max_depth': 10, 'criterion': 'gini'}   \n",
       "3          {'min_samples_split': 2, 'min_samples_leaf': 2, 'max_depth': 3, 'criterion': 'gini'}   \n",
       "2       {'min_samples_split': 2, 'min_samples_leaf': 2, 'max_depth': 3, 'criterion': 'entropy'}   \n",
       "24        {'min_samples_split': 10, 'min_samples_leaf': 2, 'max_depth': 5, 'criterion': 'gini'}   \n",
       "\n",
       "    mean_test_score  \n",
       "0               1.0  \n",
       "13              1.0  \n",
       "23              1.0  \n",
       "22              1.0  \n",
       "21              1.0  \n",
       "20              1.0  \n",
       "19              1.0  \n",
       "18              1.0  \n",
       "17              1.0  \n",
       "16              1.0  \n",
       "15              1.0  \n",
       "14              1.0  \n",
       "12              1.0  \n",
       "1               1.0  \n",
       "11              1.0  \n",
       "10              1.0  \n",
       "9               1.0  \n",
       "8               1.0  \n",
       "7               1.0  \n",
       "6               1.0  \n",
       "5               1.0  \n",
       "4               1.0  \n",
       "3               1.0  \n",
       "2               1.0  \n",
       "24              1.0  "
      ]
     },
     "execution_count": 187,
     "metadata": {},
     "output_type": "execute_result"
    }
   ],
   "source": [
    "pd.set_option('display.max_colwidth', 100)\n",
    "resultados=tun_add.cv_results_\n",
    "tun_add.best_params_\n",
    "pd_resultados=pd.DataFrame(resultados)\n",
    "pd_resultados[[\"params\",\"mean_test_score\"]].sort_values(by=\"mean_test_score\", ascending=False)"
   ]
  },
  {
   "cell_type": "code",
   "execution_count": 188,
   "metadata": {},
   "outputs": [],
   "source": [
    "rf_final=tun_add.best_estimator_ ### Guardar el modelo con hyperparameter tunning\n",
    "m_lreg=m_rf.fit(X2,y)\n"
   ]
  },
  {
   "cell_type": "code",
   "execution_count": 189,
   "metadata": {},
   "outputs": [
    {
     "ename": "FileNotFoundError",
     "evalue": "[Errno 2] No such file or directory: 'salidas\\\\rf_final.pkl'",
     "output_type": "error",
     "traceback": [
      "\u001b[1;31m---------------------------------------------------------------------------\u001b[0m",
      "\u001b[1;31mFileNotFoundError\u001b[0m                         Traceback (most recent call last)",
      "Cell \u001b[1;32mIn[189], line 3\u001b[0m\n\u001b[0;32m      1\u001b[0m \u001b[38;5;66;03m### función para exportar y guardar objetos de python (cualqueira)\u001b[39;00m\n\u001b[1;32m----> 3\u001b[0m joblib\u001b[38;5;241m.\u001b[39mdump(rf_final, \u001b[38;5;124m\"\u001b[39m\u001b[38;5;124msalidas\u001b[39m\u001b[38;5;130;01m\\\\\u001b[39;00m\u001b[38;5;124mrf_final.pkl\u001b[39m\u001b[38;5;124m\"\u001b[39m) \u001b[38;5;66;03m## \u001b[39;00m\n\u001b[0;32m      4\u001b[0m joblib\u001b[38;5;241m.\u001b[39mdump(m_lreg, \u001b[38;5;124m\"\u001b[39m\u001b[38;5;124msalidas\u001b[39m\u001b[38;5;130;01m\\\\\u001b[39;00m\u001b[38;5;124mm_lreg.pkl\u001b[39m\u001b[38;5;124m\"\u001b[39m) \u001b[38;5;66;03m## \u001b[39;00m\n\u001b[0;32m      5\u001b[0m joblib\u001b[38;5;241m.\u001b[39mdump(list_cat, \u001b[38;5;124m\"\u001b[39m\u001b[38;5;124msalidas\u001b[39m\u001b[38;5;130;01m\\\\\u001b[39;00m\u001b[38;5;124mlist_cat.pkl\u001b[39m\u001b[38;5;124m\"\u001b[39m) \u001b[38;5;66;03m### para realizar imputacion\u001b[39;00m\n",
      "File \u001b[1;32mc:\\Users\\luisa\\anaconda3\\Lib\\site-packages\\joblib\\numpy_pickle.py:552\u001b[0m, in \u001b[0;36mdump\u001b[1;34m(value, filename, compress, protocol, cache_size)\u001b[0m\n\u001b[0;32m    550\u001b[0m         NumpyPickler(f, protocol\u001b[38;5;241m=\u001b[39mprotocol)\u001b[38;5;241m.\u001b[39mdump(value)\n\u001b[0;32m    551\u001b[0m \u001b[38;5;28;01melif\u001b[39;00m is_filename:\n\u001b[1;32m--> 552\u001b[0m     \u001b[38;5;28;01mwith\u001b[39;00m \u001b[38;5;28mopen\u001b[39m(filename, \u001b[38;5;124m'\u001b[39m\u001b[38;5;124mwb\u001b[39m\u001b[38;5;124m'\u001b[39m) \u001b[38;5;28;01mas\u001b[39;00m f:\n\u001b[0;32m    553\u001b[0m         NumpyPickler(f, protocol\u001b[38;5;241m=\u001b[39mprotocol)\u001b[38;5;241m.\u001b[39mdump(value)\n\u001b[0;32m    554\u001b[0m \u001b[38;5;28;01melse\u001b[39;00m:\n",
      "\u001b[1;31mFileNotFoundError\u001b[0m: [Errno 2] No such file or directory: 'salidas\\\\rf_final.pkl'"
     ]
    }
   ],
   "source": [
    "### función para exportar y guardar objetos de python (cualqueira)\n",
    "\n",
    "joblib.dump(rf_final, \"salidas\\\\rf_final.pkl\") ## \n",
    "joblib.dump(m_lreg, \"salidas\\\\m_lreg.pkl\") ## \n",
    "joblib.dump(list_cat, \"salidas\\\\list_cat.pkl\") ### para realizar imputacion\n",
    "joblib.dump(list_dummies, \"salidas\\\\list_dummies.pkl\")  ### para convertir a dummies\n",
    "joblib.dump(var_names, \"salidas\\\\var_names.pkl\")  ### para variables con que se entrena modelo\n",
    "joblib.dump(scaler, \"salidas\\\\scaler.pkl\") ## "
   ]
  },
  {
   "cell_type": "code",
   "execution_count": null,
   "metadata": {},
   "outputs": [
    {
     "ename": "FileNotFoundError",
     "evalue": "[Errno 2] No such file or directory: 'salidas\\\\rf_final.pkl'",
     "output_type": "error",
     "traceback": [
      "\u001b[1;31m---------------------------------------------------------------------------\u001b[0m",
      "\u001b[1;31mFileNotFoundError\u001b[0m                         Traceback (most recent call last)",
      "Cell \u001b[1;32mIn[146], line 2\u001b[0m\n\u001b[0;32m      1\u001b[0m \u001b[38;5;66;03m### funcion para cargar objeto guardado ###\u001b[39;00m\n\u001b[1;32m----> 2\u001b[0m rf_final \u001b[38;5;241m=\u001b[39m joblib\u001b[38;5;241m.\u001b[39mload(\u001b[38;5;124m\"\u001b[39m\u001b[38;5;124msalidas\u001b[39m\u001b[38;5;130;01m\\\\\u001b[39;00m\u001b[38;5;124mrf_final.pkl\u001b[39m\u001b[38;5;124m\"\u001b[39m)\n\u001b[0;32m      3\u001b[0m m_lreg \u001b[38;5;241m=\u001b[39m joblib\u001b[38;5;241m.\u001b[39mload(\u001b[38;5;124m\"\u001b[39m\u001b[38;5;124msalidas\u001b[39m\u001b[38;5;130;01m\\\\\u001b[39;00m\u001b[38;5;124mm_lreg.pkl\u001b[39m\u001b[38;5;124m\"\u001b[39m)\n\u001b[0;32m      4\u001b[0m list_cat\u001b[38;5;241m=\u001b[39mjoblib\u001b[38;5;241m.\u001b[39mload(\u001b[38;5;124m\"\u001b[39m\u001b[38;5;124msalidas\u001b[39m\u001b[38;5;130;01m\\\\\u001b[39;00m\u001b[38;5;124mlist_cat.pkl\u001b[39m\u001b[38;5;124m\"\u001b[39m)\n",
      "File \u001b[1;32mc:\\Users\\luisa\\anaconda3\\Lib\\site-packages\\joblib\\numpy_pickle.py:650\u001b[0m, in \u001b[0;36mload\u001b[1;34m(filename, mmap_mode)\u001b[0m\n\u001b[0;32m    648\u001b[0m         obj \u001b[38;5;241m=\u001b[39m _unpickle(fobj)\n\u001b[0;32m    649\u001b[0m \u001b[38;5;28;01melse\u001b[39;00m:\n\u001b[1;32m--> 650\u001b[0m     \u001b[38;5;28;01mwith\u001b[39;00m \u001b[38;5;28mopen\u001b[39m(filename, \u001b[38;5;124m'\u001b[39m\u001b[38;5;124mrb\u001b[39m\u001b[38;5;124m'\u001b[39m) \u001b[38;5;28;01mas\u001b[39;00m f:\n\u001b[0;32m    651\u001b[0m         \u001b[38;5;28;01mwith\u001b[39;00m _read_fileobject(f, filename, mmap_mode) \u001b[38;5;28;01mas\u001b[39;00m fobj:\n\u001b[0;32m    652\u001b[0m             \u001b[38;5;28;01mif\u001b[39;00m \u001b[38;5;28misinstance\u001b[39m(fobj, \u001b[38;5;28mstr\u001b[39m):\n\u001b[0;32m    653\u001b[0m                 \u001b[38;5;66;03m# if the returned file object is a string, this means we\u001b[39;00m\n\u001b[0;32m    654\u001b[0m                 \u001b[38;5;66;03m# try to load a pickle file generated with an version of\u001b[39;00m\n\u001b[0;32m    655\u001b[0m                 \u001b[38;5;66;03m# Joblib so we load it with joblib compatibility function.\u001b[39;00m\n",
      "\u001b[1;31mFileNotFoundError\u001b[0m: [Errno 2] No such file or directory: 'salidas\\\\rf_final.pkl'"
     ]
    }
   ],
   "source": [
    "### funcion para cargar objeto guardado ###\n",
    "rf_final = joblib.load(\"salidas\\\\rf_final.pkl\")\n",
    "m_lreg = joblib.load(\"salidas\\\\m_lreg.pkl\")\n",
    "list_cat=joblib.load(\"salidas\\\\list_cat.pkl\")\n",
    "list_dummies=joblib.load(\"salidas\\\\list_dummies.pkl\")\n",
    "var_names=joblib.load(\"salidas\\\\var_names.pkl\")\n",
    "scaler=joblib.load(\"salidas\\\\scaler.pkl\")"
   ]
  },
  {
   "cell_type": "code",
   "execution_count": null,
   "metadata": {},
   "outputs": [],
   "source": [
    "\n",
    "#####Evaluar métrica de entrenamiento y evaluación para mirar sobre ajuste ####\n",
    "from sklearn.model_selection import cross_val_predict, cross_val_score, cross_validate\n",
    "eval=cross_validate(rf_final,X2,y,cv=5,scoring=\"f1\",return_train_score=True)"
   ]
  },
  {
   "cell_type": "code",
   "execution_count": null,
   "metadata": {},
   "outputs": [
    {
     "data": {
      "text/plain": [
       "1.0"
      ]
     },
     "execution_count": 98,
     "metadata": {},
     "output_type": "execute_result"
    }
   ],
   "source": [
    "train_rf=pd.DataFrame(eval['train_score'])\n",
    "test_rf=pd.DataFrame(eval['test_score'])\n",
    "train_test_rf=pd.concat([train_rf, test_rf],axis=1)\n",
    "train_test_rf.columns=['train_score','test_score']\n",
    "train_test_rf\n",
    "train_test_rf[\"test_score\"].mean()"
   ]
  }
 ],
 "metadata": {
  "kernelspec": {
   "display_name": "base",
   "language": "python",
   "name": "python3"
  },
  "language_info": {
   "codemirror_mode": {
    "name": "ipython",
    "version": 3
   },
   "file_extension": ".py",
   "mimetype": "text/x-python",
   "name": "python",
   "nbconvert_exporter": "python",
   "pygments_lexer": "ipython3",
   "version": "3.11.4"
  }
 },
 "nbformat": 4,
 "nbformat_minor": 2
}
