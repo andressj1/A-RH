{
 "cells": [
  {
   "cell_type": "code",
   "execution_count": 1,
   "metadata": {},
   "outputs": [],
   "source": [
    "import warnings ## funciones para imprimir y registrar advertencias.\n",
    "warnings.filterwarnings(\"ignore\") #suprimir cualquier advertencia que pueda ser generada por el código."
   ]
  },
  {
   "cell_type": "code",
   "execution_count": 2,
   "metadata": {},
   "outputs": [],
   "source": [
    "###Librerias\n",
    "\n",
    "import pandas as pd ### para manejo de datos\n",
    "import a_funciones as funciones  ###archivo de funciones propias\n",
    "\n",
    "%matplotlib inline"
   ]
  },
  {
   "cell_type": "code",
   "execution_count": 3,
   "metadata": {},
   "outputs": [],
   "source": [
    "###Lectura de datos \n",
    "\n",
    "base = pd.read_csv(\"https://raw.githubusercontent.com/andressj1/A-RH/main/Bases/base2015.csv\", sep=\",\")\n"
   ]
  },
  {
   "cell_type": "markdown",
   "metadata": {},
   "source": [
    "## **Preprocesamiento para la base final**"
   ]
  },
  {
   "cell_type": "code",
   "execution_count": 4,
   "metadata": {},
   "outputs": [
    {
     "name": "stdout",
     "output_type": "stream",
     "text": [
      "<class 'pandas.core.frame.DataFrame'>\n",
      "RangeIndex: 4410 entries, 0 to 4409\n",
      "Data columns (total 33 columns):\n",
      " #   Column                   Non-Null Count  Dtype  \n",
      "---  ------                   --------------  -----  \n",
      " 0   EmployeeID               4410 non-null   int64  \n",
      " 1   EnvironmentSatisfaction  4410 non-null   float64\n",
      " 2   JobSatisfaction          4410 non-null   float64\n",
      " 3   WorkLifeBalance          4410 non-null   float64\n",
      " 4   año_x                    4410 non-null   int64  \n",
      " 5   Age                      4410 non-null   int64  \n",
      " 6   BusinessTravel           4410 non-null   object \n",
      " 7   Department               4410 non-null   object \n",
      " 8   DistanceFromHome         4410 non-null   int64  \n",
      " 9   Education                4410 non-null   int64  \n",
      " 10  EducationField           4410 non-null   object \n",
      " 11  Gender                   4410 non-null   object \n",
      " 12  JobLevel                 4410 non-null   int64  \n",
      " 13  JobRole                  4410 non-null   object \n",
      " 14  MaritalStatus            4410 non-null   object \n",
      " 15  MonthlyIncome            4410 non-null   int64  \n",
      " 16  NumCompaniesWorked       4410 non-null   float64\n",
      " 17  PercentSalaryHike        4410 non-null   int64  \n",
      " 18  StockOptionLevel         4410 non-null   int64  \n",
      " 19  TotalWorkingYears        4410 non-null   float64\n",
      " 20  TrainingTimesLastYear    4410 non-null   int64  \n",
      " 21  YearsAtCompany           4410 non-null   int64  \n",
      " 22  YearsSinceLastPromotion  4410 non-null   int64  \n",
      " 23  YearsWithCurrManager     4410 non-null   int64  \n",
      " 24  año_y                    4410 non-null   int64  \n",
      " 25  JobInvolvement           4410 non-null   int64  \n",
      " 26  PerformanceRating        4410 non-null   int64  \n",
      " 27  año_x.1                  4410 non-null   int64  \n",
      " 28  Unnamed: 0               650 non-null    float64\n",
      " 29  Attrition                650 non-null    object \n",
      " 30  retirementType           650 non-null    object \n",
      " 31  resignationReason        650 non-null    object \n",
      " 32  año_y.1                  650 non-null    float64\n",
      "dtypes: float64(7), int64(17), object(9)\n",
      "memory usage: 1.1+ MB\n"
     ]
    }
   ],
   "source": [
    "### Visualizacion de datos \n",
    "\n",
    "base.head(3)\n",
    "base.info()"
   ]
  },
  {
   "cell_type": "code",
   "execution_count": 5,
   "metadata": {},
   "outputs": [
    {
     "name": "stdout",
     "output_type": "stream",
     "text": [
      "Variables con un único valor:  Index(['año_x', 'año_y', 'año_x.1', 'Attrition', 'año_y.1'], dtype='object')\n"
     ]
    }
   ],
   "source": [
    "### Variables con una categoria \n",
    "\n",
    "\"\"\"Encontrar las variables con una sóla categoria, para luego eliminarlas\"\"\"\n",
    "\n",
    "nunique_values = base.nunique()\n",
    "single_value_columns = nunique_values[nunique_values == 1].index\n",
    "print(\"Variables con un único valor: \", single_value_columns)"
   ]
  },
  {
   "cell_type": "code",
   "execution_count": 6,
   "metadata": {},
   "outputs": [],
   "source": [
    "### Eliminacion de variables\n",
    "\n",
    "\"\"\"Se quitan de las variables a eliminar \"Attrition\"; desgaste, ya que es nuestra variable objetivo, \n",
    "tambien se elimina el ID del empleado porque no aporta nada al objetivo del modelo\"\"\"\n",
    "\n",
    "columns_to_drop = ['año_x', 'año_y', 'año_x.1', 'Unnamed: 0','año_y.1']\n",
    "base = base.drop(columns=columns_to_drop)"
   ]
  },
  {
   "cell_type": "code",
   "execution_count": 7,
   "metadata": {},
   "outputs": [
    {
     "name": "stdout",
     "output_type": "stream",
     "text": [
      "EmployeeID                    0\n",
      "EnvironmentSatisfaction       0\n",
      "JobSatisfaction               0\n",
      "WorkLifeBalance               0\n",
      "Age                           0\n",
      "BusinessTravel                0\n",
      "Department                    0\n",
      "DistanceFromHome              0\n",
      "Education                     0\n",
      "EducationField                0\n",
      "Gender                        0\n",
      "JobLevel                      0\n",
      "JobRole                       0\n",
      "MaritalStatus                 0\n",
      "MonthlyIncome                 0\n",
      "NumCompaniesWorked            0\n",
      "PercentSalaryHike             0\n",
      "StockOptionLevel              0\n",
      "TotalWorkingYears             0\n",
      "TrainingTimesLastYear         0\n",
      "YearsAtCompany                0\n",
      "YearsSinceLastPromotion       0\n",
      "YearsWithCurrManager          0\n",
      "JobInvolvement                0\n",
      "PerformanceRating             0\n",
      "Attrition                  3760\n",
      "retirementType             3760\n",
      "resignationReason          3760\n",
      "dtype: int64\n"
     ]
    }
   ],
   "source": [
    "## Verificación de valores nulos\n",
    "\n",
    "print(base.isnull().sum())"
   ]
  },
  {
   "cell_type": "code",
   "execution_count": 8,
   "metadata": {},
   "outputs": [],
   "source": [
    "# Rellenar los datos faltantes en la variable objetivo \n",
    "\n",
    "\"\"\"No = No renuncio\n",
    "Si = Renuncio \"\"\"\n",
    "\n",
    "base['Attrition'] = base['Attrition'].fillna('No')"
   ]
  },
  {
   "cell_type": "code",
   "execution_count": 9,
   "metadata": {},
   "outputs": [
    {
     "data": {
      "text/plain": [
       "Resignation    585\n",
       "Fired           65\n",
       "Name: retirementType, dtype: int64"
      ]
     },
     "execution_count": 9,
     "metadata": {},
     "output_type": "execute_result"
    }
   ],
   "source": [
    "### Contar los datos de la variable por obetivo \n",
    "\n",
    "base['retirementType'].value_counts()"
   ]
  },
  {
   "cell_type": "code",
   "execution_count": 10,
   "metadata": {},
   "outputs": [
    {
     "data": {
      "text/plain": [
       "'Al hacer esto, solo quedaria la categoria \"Resignation\" y rellenando los nulos con \"No Resignation\" tendria\\nel mismo comportamiento que nuestra variable objetivo, aparte la otra categoria tendria mas del 85% de los \\ndatos, por ende se elimina'"
      ]
     },
     "execution_count": 10,
     "metadata": {},
     "output_type": "execute_result"
    }
   ],
   "source": [
    "#### Eliminación de categoria\n",
    "\n",
    "\"\"\"La categoria fired; despedido, no aportaria nada al modelo, ya que el objetivo es la retención de empleados,\n",
    "y no queremos retener alguien que se va despedir\"\"\"\n",
    "\n",
    "base = base[base['retirementType'] != 'Fired']\n",
    "\n",
    "\"\"\"Al hacer esto, solo quedaria la categoria \"Resignation\" y rellenando los nulos con \"No Resignation\" tendria\n",
    "el mismo comportamiento que nuestra variable objetivo, aparte la otra categoria tendria mas del 85% de los \n",
    "datos, por ende se elimina\"\"\""
   ]
  },
  {
   "cell_type": "code",
   "execution_count": 11,
   "metadata": {},
   "outputs": [],
   "source": [
    "### Eliminación de variable \n",
    "\n",
    "base.drop([\"retirementType\"], axis=1, inplace=True)"
   ]
  },
  {
   "cell_type": "code",
   "execution_count": 12,
   "metadata": {},
   "outputs": [
    {
     "data": {
      "text/plain": [
       "Others    296\n",
       "Salary    173\n",
       "Stress    116\n",
       "Name: resignationReason, dtype: int64"
      ]
     },
     "execution_count": 12,
     "metadata": {},
     "output_type": "execute_result"
    }
   ],
   "source": [
    "### Contar los datos de la variable por obetivo \n",
    "\n",
    "base['resignationReason'].value_counts()"
   ]
  },
  {
   "cell_type": "code",
   "execution_count": 13,
   "metadata": {},
   "outputs": [],
   "source": [
    "### Eliminación de variable \n",
    "\n",
    "\"\"\"La categoria \"others\" no nos dice nada; nos deja en la insertidumbre, igual \"desconocido\", solo tendriamos\n",
    "salary y stress que realmente podrian aportar al modelo, pero tienen muy pocos datos\"\"\"\n",
    "\n",
    "base.drop([\"resignationReason\"], axis=1, inplace=True)\n"
   ]
  },
  {
   "cell_type": "code",
   "execution_count": 14,
   "metadata": {},
   "outputs": [
    {
     "data": {
      "text/html": [
       "<div>\n",
       "<style scoped>\n",
       "    .dataframe tbody tr th:only-of-type {\n",
       "        vertical-align: middle;\n",
       "    }\n",
       "\n",
       "    .dataframe tbody tr th {\n",
       "        vertical-align: top;\n",
       "    }\n",
       "\n",
       "    .dataframe thead th {\n",
       "        text-align: right;\n",
       "    }\n",
       "</style>\n",
       "<table border=\"1\" class=\"dataframe\">\n",
       "  <thead>\n",
       "    <tr style=\"text-align: right;\">\n",
       "      <th></th>\n",
       "      <th>EmployeeID</th>\n",
       "      <th>EnvironmentSatisfaction</th>\n",
       "      <th>JobSatisfaction</th>\n",
       "      <th>WorkLifeBalance</th>\n",
       "      <th>Age</th>\n",
       "      <th>BusinessTravel</th>\n",
       "      <th>Department</th>\n",
       "      <th>DistanceFromHome</th>\n",
       "      <th>Education</th>\n",
       "      <th>EducationField</th>\n",
       "      <th>...</th>\n",
       "      <th>PercentSalaryHike</th>\n",
       "      <th>StockOptionLevel</th>\n",
       "      <th>TotalWorkingYears</th>\n",
       "      <th>TrainingTimesLastYear</th>\n",
       "      <th>YearsAtCompany</th>\n",
       "      <th>YearsSinceLastPromotion</th>\n",
       "      <th>YearsWithCurrManager</th>\n",
       "      <th>JobInvolvement</th>\n",
       "      <th>PerformanceRating</th>\n",
       "      <th>Attrition</th>\n",
       "    </tr>\n",
       "  </thead>\n",
       "  <tbody>\n",
       "    <tr>\n",
       "      <th>0</th>\n",
       "      <td>1</td>\n",
       "      <td>3.0</td>\n",
       "      <td>4.0</td>\n",
       "      <td>2.0</td>\n",
       "      <td>51</td>\n",
       "      <td>Travel_Rarely</td>\n",
       "      <td>Sales</td>\n",
       "      <td>6</td>\n",
       "      <td>2</td>\n",
       "      <td>Life Sciences</td>\n",
       "      <td>...</td>\n",
       "      <td>11</td>\n",
       "      <td>0</td>\n",
       "      <td>1.0</td>\n",
       "      <td>6</td>\n",
       "      <td>1</td>\n",
       "      <td>0</td>\n",
       "      <td>0</td>\n",
       "      <td>3</td>\n",
       "      <td>3</td>\n",
       "      <td>No</td>\n",
       "    </tr>\n",
       "    <tr>\n",
       "      <th>1</th>\n",
       "      <td>2</td>\n",
       "      <td>3.0</td>\n",
       "      <td>2.0</td>\n",
       "      <td>4.0</td>\n",
       "      <td>31</td>\n",
       "      <td>Travel_Frequently</td>\n",
       "      <td>Research &amp; Development</td>\n",
       "      <td>10</td>\n",
       "      <td>1</td>\n",
       "      <td>Life Sciences</td>\n",
       "      <td>...</td>\n",
       "      <td>23</td>\n",
       "      <td>1</td>\n",
       "      <td>6.0</td>\n",
       "      <td>3</td>\n",
       "      <td>5</td>\n",
       "      <td>1</td>\n",
       "      <td>4</td>\n",
       "      <td>2</td>\n",
       "      <td>4</td>\n",
       "      <td>Yes</td>\n",
       "    </tr>\n",
       "    <tr>\n",
       "      <th>2</th>\n",
       "      <td>3</td>\n",
       "      <td>2.0</td>\n",
       "      <td>2.0</td>\n",
       "      <td>1.0</td>\n",
       "      <td>32</td>\n",
       "      <td>Travel_Frequently</td>\n",
       "      <td>Research &amp; Development</td>\n",
       "      <td>17</td>\n",
       "      <td>4</td>\n",
       "      <td>Other</td>\n",
       "      <td>...</td>\n",
       "      <td>15</td>\n",
       "      <td>3</td>\n",
       "      <td>5.0</td>\n",
       "      <td>2</td>\n",
       "      <td>5</td>\n",
       "      <td>0</td>\n",
       "      <td>3</td>\n",
       "      <td>3</td>\n",
       "      <td>3</td>\n",
       "      <td>No</td>\n",
       "    </tr>\n",
       "  </tbody>\n",
       "</table>\n",
       "<p>3 rows × 26 columns</p>\n",
       "</div>"
      ],
      "text/plain": [
       "   EmployeeID  EnvironmentSatisfaction  JobSatisfaction  WorkLifeBalance  Age  \\\n",
       "0           1                      3.0              4.0              2.0   51   \n",
       "1           2                      3.0              2.0              4.0   31   \n",
       "2           3                      2.0              2.0              1.0   32   \n",
       "\n",
       "      BusinessTravel              Department  DistanceFromHome  Education  \\\n",
       "0      Travel_Rarely                   Sales                 6          2   \n",
       "1  Travel_Frequently  Research & Development                10          1   \n",
       "2  Travel_Frequently  Research & Development                17          4   \n",
       "\n",
       "  EducationField  ... PercentSalaryHike  StockOptionLevel TotalWorkingYears  \\\n",
       "0  Life Sciences  ...                11                 0               1.0   \n",
       "1  Life Sciences  ...                23                 1               6.0   \n",
       "2          Other  ...                15                 3               5.0   \n",
       "\n",
       "  TrainingTimesLastYear  YearsAtCompany  YearsSinceLastPromotion  \\\n",
       "0                     6               1                        0   \n",
       "1                     3               5                        1   \n",
       "2                     2               5                        0   \n",
       "\n",
       "   YearsWithCurrManager  JobInvolvement  PerformanceRating  Attrition  \n",
       "0                     0               3                  3         No  \n",
       "1                     4               2                  4        Yes  \n",
       "2                     3               3                  3         No  \n",
       "\n",
       "[3 rows x 26 columns]"
      ]
     },
     "execution_count": 14,
     "metadata": {},
     "output_type": "execute_result"
    }
   ],
   "source": [
    "### Verificación de cambios\n",
    "\n",
    "base.head(3)\n",
    "#base.info()"
   ]
  },
  {
   "cell_type": "code",
   "execution_count": 15,
   "metadata": {},
   "outputs": [],
   "source": [
    "#### Exportacion de bases \n",
    "\n",
    "base.to_csv(r'C:\\Users\\luisa\\OneDrive\\Desktop\\Analitica lll RH\\Bases\\basefinal.csv', index=False)"
   ]
  }
 ],
 "metadata": {
  "kernelspec": {
   "display_name": "base",
   "language": "python",
   "name": "python3"
  },
  "language_info": {
   "codemirror_mode": {
    "name": "ipython",
    "version": 3
   },
   "file_extension": ".py",
   "mimetype": "text/x-python",
   "name": "python",
   "nbconvert_exporter": "python",
   "pygments_lexer": "ipython3",
   "version": "3.11.4"
  }
 },
 "nbformat": 4,
 "nbformat_minor": 2
}
