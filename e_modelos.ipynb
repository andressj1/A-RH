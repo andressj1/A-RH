{
 "cells": [
  {
   "cell_type": "code",
   "execution_count": 126,
   "metadata": {},
   "outputs": [],
   "source": [
    "import pandas as pd ### para manejo de datos\n",
    "import a_funciones as funciones  ###archivo de funciones propias\n",
    "import numpy as np #procesamiento eficiente de grandes conjuntos de datos y la realización de operaciones matemáticas\n",
    "import plotly.express as px # Graficas lindas\n",
    "from sklearn.model_selection import RandomizedSearchCV # búsqueda aleatoria de hiperparámetros \n",
    "import joblib  ### para guardar modelos\n",
    "from sklearn.preprocessing import StandardScaler ## escalar variables \n",
    "import openpyxl # trabajar con archivos de Excel\n",
    "from sklearn.metrics import mean_squared_error\n",
    "from sklearn.model_selection import train_test_split\n",
    "from sklearn.linear_model import LogisticRegression # Regresión logística\n",
    "from sklearn.ensemble import RandomForestClassifier  # Clasificador bosques aleatoriost \n",
    "from sklearn.tree import DecisionTreeClassifier # Arboles de decision \n",
    "from sklearn.model_selection import cross_val_predict, cross_val_score, cross_validate\n",
    "from sklearn.preprocessing import StandardScaler ## escalar variable\n",
    "from sklearn.ensemble import GradientBoostingClassifier #Modelo de clasificacion\n",
    "from sklearn.metrics import confusion_matrix #### Matriz de confusion \n",
    "import matplotlib.pyplot as plt #####Graficos\n",
    "import seaborn as sns #####Graficos\n",
    "from sklearn.metrics import accuracy_score #### medir precision del modelo "
   ]
  },
  {
   "cell_type": "code",
   "execution_count": 127,
   "metadata": {},
   "outputs": [],
   "source": [
    "###Cargar base desde github\n",
    "df_ = pd.read_csv(\"https://raw.githubusercontent.com/andressj1/A-RH/main/Bases/df_fin.csv\", sep=\",\")"
   ]
  },
  {
   "cell_type": "markdown",
   "metadata": {},
   "source": [
    "## **Tratamiento de nulos**"
   ]
  },
  {
   "cell_type": "code",
   "execution_count": 128,
   "metadata": {},
   "outputs": [],
   "source": [
    "####Convertimos VO a binaria \n",
    "df_['Attrition'] = df_['Attrition'].map({'No': 0, 'Yes': 1}).astype(int)"
   ]
  },
  {
   "cell_type": "code",
   "execution_count": 129,
   "metadata": {},
   "outputs": [
    {
     "name": "stdout",
     "output_type": "stream",
     "text": [
      "<class 'pandas.core.frame.DataFrame'>\n",
      "RangeIndex: 4284 entries, 0 to 4283\n",
      "Data columns (total 22 columns):\n",
      " #   Column                   Non-Null Count  Dtype \n",
      "---  ------                   --------------  ----- \n",
      " 0   EnvironmentSatisfaction  4284 non-null   int64 \n",
      " 1   JobSatisfaction          4284 non-null   int64 \n",
      " 2   WorkLifeBalance          4284 non-null   int64 \n",
      " 3   Age                      4284 non-null   int64 \n",
      " 4   BusinessTravel           4284 non-null   object\n",
      " 5   Department               4284 non-null   object\n",
      " 6   DistanceFromHome         4284 non-null   int64 \n",
      " 7   Education                4284 non-null   int64 \n",
      " 8   EducationField           4284 non-null   object\n",
      " 9   Gender                   4284 non-null   object\n",
      " 10  JobLevel                 4284 non-null   int64 \n",
      " 11  JobRole                  4284 non-null   object\n",
      " 12  MaritalStatus            4284 non-null   object\n",
      " 13  MonthlyIncome            4284 non-null   int64 \n",
      " 14  NumCompaniesWorked       4284 non-null   int64 \n",
      " 15  PercentSalaryHike        4284 non-null   int64 \n",
      " 16  StockOptionLevel         4284 non-null   int64 \n",
      " 17  TotalWorkingYears        4284 non-null   int64 \n",
      " 18  TrainingTimesLastYear    4284 non-null   int64 \n",
      " 19  JobInvolvement           4284 non-null   int64 \n",
      " 20  PerformanceRating        4284 non-null   int64 \n",
      " 21  Attrition                4284 non-null   int32 \n",
      "dtypes: int32(1), int64(15), object(6)\n",
      "memory usage: 719.7+ KB\n",
      "<class 'pandas.core.frame.DataFrame'>\n",
      "RangeIndex: 4284 entries, 0 to 4283\n",
      "Data columns (total 22 columns):\n",
      " #   Column                   Non-Null Count  Dtype  \n",
      "---  ------                   --------------  -----  \n",
      " 0   EnvironmentSatisfaction  4284 non-null   int64  \n",
      " 1   JobSatisfaction          4284 non-null   int64  \n",
      " 2   WorkLifeBalance          4283 non-null   float64\n",
      " 3   Age                      4284 non-null   int64  \n",
      " 4   BusinessTravel           4284 non-null   object \n",
      " 5   Department               4284 non-null   object \n",
      " 6   DistanceFromHome         4284 non-null   int64  \n",
      " 7   Education                4284 non-null   int64  \n",
      " 8   EducationField           4284 non-null   object \n",
      " 9   Gender                   4284 non-null   object \n",
      " 10  JobLevel                 4283 non-null   float64\n",
      " 11  JobRole                  4284 non-null   object \n",
      " 12  MaritalStatus            4284 non-null   object \n",
      " 13  MonthlyIncome            4284 non-null   int64  \n",
      " 14  NumCompaniesWorked       4284 non-null   int64  \n",
      " 15  PercentSalaryHike        4284 non-null   int64  \n",
      " 16  StockOptionLevel         4284 non-null   int64  \n",
      " 17  TotalWorkingYears        4284 non-null   int64  \n",
      " 18  TrainingTimesLastYear    4284 non-null   int64  \n",
      " 19  JobInvolvement           4284 non-null   int64  \n",
      " 20  PerformanceRating        4284 non-null   int64  \n",
      " 21  Attrition                4284 non-null   int32  \n",
      "dtypes: float64(2), int32(1), int64(13), object(6)\n",
      "memory usage: 719.7+ KB\n"
     ]
    }
   ],
   "source": [
    "df_.info() ### no tiene faltantes pero crearemos unos para trabajar\n",
    "df_.iloc[1,2] =np.nan  ### crear faltante en numérica\n",
    "df_.iloc[1,10] =np.nan ### crear faltante en categórica\n",
    "df_.info()"
   ]
  },
  {
   "cell_type": "code",
   "execution_count": 130,
   "metadata": {},
   "outputs": [
    {
     "name": "stdout",
     "output_type": "stream",
     "text": [
      "<class 'pandas.core.frame.DataFrame'>\n",
      "Int64Index: 4283 entries, 0 to 4283\n",
      "Data columns (total 22 columns):\n",
      " #   Column                   Non-Null Count  Dtype  \n",
      "---  ------                   --------------  -----  \n",
      " 0   EnvironmentSatisfaction  4283 non-null   int64  \n",
      " 1   JobSatisfaction          4283 non-null   int64  \n",
      " 2   WorkLifeBalance          4283 non-null   float64\n",
      " 3   Age                      4283 non-null   int64  \n",
      " 4   BusinessTravel           4283 non-null   object \n",
      " 5   Department               4283 non-null   object \n",
      " 6   DistanceFromHome         4283 non-null   int64  \n",
      " 7   Education                4283 non-null   int64  \n",
      " 8   EducationField           4283 non-null   object \n",
      " 9   Gender                   4283 non-null   object \n",
      " 10  JobLevel                 4283 non-null   float64\n",
      " 11  JobRole                  4283 non-null   object \n",
      " 12  MaritalStatus            4283 non-null   object \n",
      " 13  MonthlyIncome            4283 non-null   int64  \n",
      " 14  NumCompaniesWorked       4283 non-null   int64  \n",
      " 15  PercentSalaryHike        4283 non-null   int64  \n",
      " 16  StockOptionLevel         4283 non-null   int64  \n",
      " 17  TotalWorkingYears        4283 non-null   int64  \n",
      " 18  TrainingTimesLastYear    4283 non-null   int64  \n",
      " 19  JobInvolvement           4283 non-null   int64  \n",
      " 20  PerformanceRating        4283 non-null   int64  \n",
      " 21  Attrition                4283 non-null   int32  \n",
      "dtypes: float64(2), int32(1), int64(13), object(6)\n",
      "memory usage: 752.9+ KB\n"
     ]
    }
   ],
   "source": [
    "dff=df_.dropna(axis=0) ### si se pone 1 se borra la columna con na si se pone 0, o se deja vacío, se borra la fila\n",
    "dff.info()"
   ]
  },
  {
   "cell_type": "code",
   "execution_count": 131,
   "metadata": {},
   "outputs": [],
   "source": [
    "### generamos copia del df \n",
    "columnas = dff.columns\n",
    "#list_cat = [col for col in columnas if df4[col].dtype == 'object']\n",
    "#print(list_cat)\n",
    "list_cat =['BusinessTravel', 'Department', 'EducationField', 'Gender', 'JobRole', 'MaritalStatus']"
   ]
  },
  {
   "cell_type": "code",
   "execution_count": 132,
   "metadata": {},
   "outputs": [
    {
     "name": "stdout",
     "output_type": "stream",
     "text": [
      "<class 'pandas.core.frame.DataFrame'>\n",
      "RangeIndex: 4284 entries, 0 to 4283\n",
      "Data columns (total 6 columns):\n",
      " #   Column          Non-Null Count  Dtype \n",
      "---  ------          --------------  ----- \n",
      " 0   BusinessTravel  4284 non-null   object\n",
      " 1   Department      4284 non-null   object\n",
      " 2   EducationField  4284 non-null   object\n",
      " 3   Gender          4284 non-null   object\n",
      " 4   JobRole         4284 non-null   object\n",
      " 5   MaritalStatus   4284 non-null   object\n",
      "dtypes: object(6)\n",
      "memory usage: 200.9+ KB\n",
      "<class 'pandas.core.frame.DataFrame'>\n",
      "RangeIndex: 4284 entries, 0 to 4283\n",
      "Data columns (total 16 columns):\n",
      " #   Column                   Non-Null Count  Dtype  \n",
      "---  ------                   --------------  -----  \n",
      " 0   EnvironmentSatisfaction  4284 non-null   float64\n",
      " 1   JobSatisfaction          4284 non-null   float64\n",
      " 2   WorkLifeBalance          4284 non-null   float64\n",
      " 3   Age                      4284 non-null   float64\n",
      " 4   DistanceFromHome         4284 non-null   float64\n",
      " 5   Education                4284 non-null   float64\n",
      " 6   JobLevel                 4284 non-null   float64\n",
      " 7   MonthlyIncome            4284 non-null   float64\n",
      " 8   NumCompaniesWorked       4284 non-null   float64\n",
      " 9   PercentSalaryHike        4284 non-null   float64\n",
      " 10  StockOptionLevel         4284 non-null   float64\n",
      " 11  TotalWorkingYears        4284 non-null   float64\n",
      " 12  TrainingTimesLastYear    4284 non-null   float64\n",
      " 13  JobInvolvement           4284 non-null   float64\n",
      " 14  PerformanceRating        4284 non-null   float64\n",
      " 15  Attrition                4284 non-null   float64\n",
      "dtypes: float64(16)\n",
      "memory usage: 535.6 KB\n",
      "<class 'pandas.core.frame.DataFrame'>\n",
      "RangeIndex: 4284 entries, 0 to 4283\n",
      "Data columns (total 22 columns):\n",
      " #   Column                   Non-Null Count  Dtype  \n",
      "---  ------                   --------------  -----  \n",
      " 0   EnvironmentSatisfaction  4284 non-null   float64\n",
      " 1   JobSatisfaction          4284 non-null   float64\n",
      " 2   WorkLifeBalance          4284 non-null   float64\n",
      " 3   Age                      4284 non-null   float64\n",
      " 4   DistanceFromHome         4284 non-null   float64\n",
      " 5   Education                4284 non-null   float64\n",
      " 6   JobLevel                 4284 non-null   float64\n",
      " 7   MonthlyIncome            4284 non-null   float64\n",
      " 8   NumCompaniesWorked       4284 non-null   float64\n",
      " 9   PercentSalaryHike        4284 non-null   float64\n",
      " 10  StockOptionLevel         4284 non-null   float64\n",
      " 11  TotalWorkingYears        4284 non-null   float64\n",
      " 12  TrainingTimesLastYear    4284 non-null   float64\n",
      " 13  JobInvolvement           4284 non-null   float64\n",
      " 14  PerformanceRating        4284 non-null   float64\n",
      " 15  Attrition                4284 non-null   float64\n",
      " 16  BusinessTravel           4284 non-null   object \n",
      " 17  Department               4284 non-null   object \n",
      " 18  EducationField           4284 non-null   object \n",
      " 19  Gender                   4284 non-null   object \n",
      " 20  JobRole                  4284 non-null   object \n",
      " 21  MaritalStatus            4284 non-null   object \n",
      "dtypes: float64(16), object(6)\n",
      "memory usage: 736.4+ KB\n"
     ]
    }
   ],
   "source": [
    "df3=funciones.imputar_f(df_,list_cat)\n",
    "df3.info()"
   ]
  },
  {
   "cell_type": "markdown",
   "metadata": {},
   "source": [
    "## **Obtener dummies**"
   ]
  },
  {
   "cell_type": "code",
   "execution_count": 133,
   "metadata": {},
   "outputs": [],
   "source": [
    "#### dummies\n",
    "list_dummies = ['BusinessTravel', 'Department', 'EducationField', 'Gender', 'JobRole', 'MaritalStatus']"
   ]
  },
  {
   "cell_type": "code",
   "execution_count": 134,
   "metadata": {},
   "outputs": [],
   "source": [
    "####Conversion a categoricas a dummie\n",
    "df = pd.get_dummies(df3, columns=list_dummies)"
   ]
  },
  {
   "cell_type": "code",
   "execution_count": 135,
   "metadata": {},
   "outputs": [],
   "source": [
    "#####Separamos nuestra variable de las demas variables\n",
    "y=df.Attrition\n",
    "X1= df.loc[:,~df.columns.isin(['Attrition'])]\n"
   ]
  },
  {
   "cell_type": "markdown",
   "metadata": {},
   "source": [
    "## **Seleccion de variables**"
   ]
  },
  {
   "cell_type": "code",
   "execution_count": 136,
   "metadata": {},
   "outputs": [],
   "source": [
    "### \n",
    "scaler=StandardScaler()\n",
    "scaler.fit(X1)\n",
    "X2=scaler.transform(X1)\n",
    "X=pd.DataFrame(X2,columns=X1.columns)"
   ]
  },
  {
   "cell_type": "code",
   "execution_count": 137,
   "metadata": {},
   "outputs": [],
   "source": [
    "######Seleccion de modelos\n",
    "### 1. Regresion logistica \n",
    "m_rl = LogisticRegression()\n",
    "\n",
    "### 2. Random forest\n",
    "m_rf = RandomForestClassifier()\n",
    "\n",
    "### 3 Arboles de decision\n",
    "m_add = DecisionTreeClassifier()\n",
    "\n",
    "### 4 GradientBoostingClassifieraa\n",
    "m_gbc = GradientBoostingClassifier()\n"
   ]
  },
  {
   "cell_type": "code",
   "execution_count": 138,
   "metadata": {},
   "outputs": [],
   "source": [
    "####Modelos\n",
    "modelos = list([m_rl, m_rf, m_add, m_gbc])"
   ]
  },
  {
   "cell_type": "code",
   "execution_count": 139,
   "metadata": {},
   "outputs": [
    {
     "data": {
      "text/plain": [
       "(6,)"
      ]
     },
     "execution_count": 139,
     "metadata": {},
     "output_type": "execute_result"
    }
   ],
   "source": [
    "#####Seleccion de variables \n",
    "var_names=funciones.sel_variables(modelos,X,y,threshold=\"2.8*mean\")\n",
    "var_names.shape\n"
   ]
  },
  {
   "cell_type": "code",
   "execution_count": 140,
   "metadata": {},
   "outputs": [
    {
     "name": "stdout",
     "output_type": "stream",
     "text": [
      "<class 'pandas.core.frame.DataFrame'>\n",
      "RangeIndex: 4284 entries, 0 to 4283\n",
      "Data columns (total 6 columns):\n",
      " #   Column              Non-Null Count  Dtype  \n",
      "---  ------              --------------  -----  \n",
      " 0   Age                 4284 non-null   float64\n",
      " 1   DistanceFromHome    4284 non-null   float64\n",
      " 2   JobSatisfaction     4284 non-null   float64\n",
      " 3   MonthlyIncome       4284 non-null   float64\n",
      " 4   NumCompaniesWorked  4284 non-null   float64\n",
      " 5   TotalWorkingYears   4284 non-null   float64\n",
      "dtypes: float64(6)\n",
      "memory usage: 200.9 KB\n",
      "<class 'pandas.core.frame.DataFrame'>\n",
      "RangeIndex: 4284 entries, 0 to 4283\n",
      "Data columns (total 41 columns):\n",
      " #   Column                             Non-Null Count  Dtype  \n",
      "---  ------                             --------------  -----  \n",
      " 0   EnvironmentSatisfaction            4284 non-null   float64\n",
      " 1   JobSatisfaction                    4284 non-null   float64\n",
      " 2   WorkLifeBalance                    4284 non-null   float64\n",
      " 3   Age                                4284 non-null   float64\n",
      " 4   DistanceFromHome                   4284 non-null   float64\n",
      " 5   Education                          4284 non-null   float64\n",
      " 6   JobLevel                           4284 non-null   float64\n",
      " 7   MonthlyIncome                      4284 non-null   float64\n",
      " 8   NumCompaniesWorked                 4284 non-null   float64\n",
      " 9   PercentSalaryHike                  4284 non-null   float64\n",
      " 10  StockOptionLevel                   4284 non-null   float64\n",
      " 11  TotalWorkingYears                  4284 non-null   float64\n",
      " 12  TrainingTimesLastYear              4284 non-null   float64\n",
      " 13  JobInvolvement                     4284 non-null   float64\n",
      " 14  PerformanceRating                  4284 non-null   float64\n",
      " 15  BusinessTravel_Non-Travel          4284 non-null   float64\n",
      " 16  BusinessTravel_Travel_Frequently   4284 non-null   float64\n",
      " 17  BusinessTravel_Travel_Rarely       4284 non-null   float64\n",
      " 18  Department_Human Resources         4284 non-null   float64\n",
      " 19  Department_Research & Development  4284 non-null   float64\n",
      " 20  Department_Sales                   4284 non-null   float64\n",
      " 21  EducationField_Human Resources     4284 non-null   float64\n",
      " 22  EducationField_Life Sciences       4284 non-null   float64\n",
      " 23  EducationField_Marketing           4284 non-null   float64\n",
      " 24  EducationField_Medical             4284 non-null   float64\n",
      " 25  EducationField_Other               4284 non-null   float64\n",
      " 26  EducationField_Technical Degree    4284 non-null   float64\n",
      " 27  Gender_Female                      4284 non-null   float64\n",
      " 28  Gender_Male                        4284 non-null   float64\n",
      " 29  JobRole_Healthcare Representative  4284 non-null   float64\n",
      " 30  JobRole_Human Resources            4284 non-null   float64\n",
      " 31  JobRole_Laboratory Technician      4284 non-null   float64\n",
      " 32  JobRole_Manager                    4284 non-null   float64\n",
      " 33  JobRole_Manufacturing Director     4284 non-null   float64\n",
      " 34  JobRole_Research Director          4284 non-null   float64\n",
      " 35  JobRole_Research Scientist         4284 non-null   float64\n",
      " 36  JobRole_Sales Executive            4284 non-null   float64\n",
      " 37  JobRole_Sales Representative       4284 non-null   float64\n",
      " 38  MaritalStatus_Divorced             4284 non-null   float64\n",
      " 39  MaritalStatus_Married              4284 non-null   float64\n",
      " 40  MaritalStatus_Single               4284 non-null   float64\n",
      "dtypes: float64(41)\n",
      "memory usage: 1.3 MB\n"
     ]
    }
   ],
   "source": [
    "X2=X[var_names] ### matriz con variables seleccionadas\n",
    "X2.info()\n",
    "X.info()"
   ]
  },
  {
   "cell_type": "markdown",
   "metadata": {},
   "source": [
    "## **Modelo ganador**"
   ]
  },
  {
   "cell_type": "code",
   "execution_count": 141,
   "metadata": {},
   "outputs": [],
   "source": [
    "## base con todas las variables\n",
    "rmse_df = funciones.medir_modelos(modelos, \"f1\",X,y,10)\n",
    "## base con variables seleccionadas\n",
    "rmse_varsel = funciones.medir_modelos(modelos,\"f1\",X2,y,10)\n",
    "\n"
   ]
  },
  {
   "cell_type": "code",
   "execution_count": 142,
   "metadata": {},
   "outputs": [],
   "source": [
    "rmse=pd.concat([rmse_df,rmse_varsel],axis=1)\n",
    "rmse.columns=['rl', 'rf', 'add', 'm_gbc',\n",
    "       'rl_Sel', 'rf_sel', 'add_sel', 'm_gbc_sel']"
   ]
  },
  {
   "cell_type": "code",
   "execution_count": 143,
   "metadata": {},
   "outputs": [
    {
     "data": {
      "text/plain": [
       "<Axes: >"
      ]
     },
     "execution_count": 143,
     "metadata": {},
     "output_type": "execute_result"
    },
    {
     "data": {
      "image/png": "[encoded data removed]",
      "text/plain": [
       "<Figure size 640x480 with 1 Axes>"
      ]
     },
     "metadata": {},
     "output_type": "display_data"
    },
    {
     "data": {
      "image/png": "[encoded data removed]",
      "text/plain": [
       "<Figure size 640x480 with 1 Axes>"
      ]
     },
     "metadata": {},
     "output_type": "display_data"
    },
    {
     "data": {
      "image/png": "[encoded data removed]",
      "text/plain": [
       "<Figure size 640x480 with 1 Axes>"
      ]
     },
     "metadata": {},
     "output_type": "display_data"
    }
   ],
   "source": [
    "rmse_df.plot(kind='box') #### gráfico para modelos todas las varibles\n",
    "rmse_varsel.plot(kind='box') ### gráfico para modelo variables seleccionadas\n",
    "rmse.plot(kind='box') ### gráfico para modelos sel y todas las variables"
   ]
  },
  {
   "cell_type": "code",
   "execution_count": 144,
   "metadata": {},
   "outputs": [
    {
     "data": {
      "text/plain": [
       "rl           0.180266\n",
       "rf           0.854590\n",
       "add          0.827063\n",
       "m_gbc        0.432159\n",
       "rl_Sel       0.000000\n",
       "rf_sel       0.857400\n",
       "add_sel      0.826857\n",
       "m_gbc_sel    0.319156\n",
       "dtype: float64"
      ]
     },
     "execution_count": 144,
     "metadata": {},
     "output_type": "execute_result"
    },
    {
     "data": {
      "image/png": "[encoded data removed]",
      "text/plain": [
       "<Figure size 640x480 with 1 Axes>"
      ]
     },
     "metadata": {},
     "output_type": "display_data"
    }
   ],
   "source": [
    "rmse2=rmse[['rf', 'add', 'add_sel', 'rf_sel']]\n",
    "rmse2.plot(kind='box') ### gráfico para modelos sel y todas las variables\n",
    "rmse.mean() ### medias de mape"
   ]
  },
  {
   "cell_type": "markdown",
   "metadata": {},
   "source": [
    "## **Afinamiento de hiperparámetros**"
   ]
  },
  {
   "cell_type": "markdown",
   "metadata": {},
   "source": [
    "**Random forest con selección de variables, antes de ajustes de hiperparámetros**"
   ]
  },
  {
   "cell_type": "code",
   "execution_count": 145,
   "metadata": {},
   "outputs": [],
   "source": [
    "# Dividir los datos en conjuntos de entrenamiento y prueba\n",
    "X_train, X_test, y_train, y_test = train_test_split(X2, y, test_size=0.2, random_state=42, stratify = y)\n",
    "\n",
    "# Entrenar el modelo de Random Forest\n",
    "m_rf.fit(X_train, y_train)\n",
    "\n",
    "# Hacer predicciones en el conjunto de datos de prueba\n",
    "y_pred = m_rf.predict(X_test)"
   ]
  },
  {
   "cell_type": "code",
   "execution_count": 146,
   "metadata": {},
   "outputs": [],
   "source": [
    "# Crear y ajustar el modelo Random Forest\n",
    "rf_sfs = RandomForestClassifier()\n",
    "rf_sfs.fit(X_train, y_train)\n",
    "\n",
    "# Hacer predicciones en el conjunto de prueba\n",
    "y_pred1 = rf_sfs.predict(X_test)"
   ]
  },
  {
   "cell_type": "code",
   "execution_count": 157,
   "metadata": {},
   "outputs": [
    {
     "data": {
      "image/png": "[encoded data removed]",
      "text/plain": [
       "<Figure size 800x600 with 1 Axes>"
      ]
     },
     "metadata": {},
     "output_type": "display_data"
    },
    {
     "data": {
      "text/plain": [
       "<Figure size 640x480 with 0 Axes>"
      ]
     },
     "metadata": {},
     "output_type": "display_data"
    }
   ],
   "source": [
    "conf_matrix = confusion_matrix(y_test, y_pred1)\n",
    "\n",
    "# Crear un mapa de calor con seaborn\n",
    "plt.figure(figsize=(8, 6))\n",
    "sns.heatmap(conf_matrix, annot=True, fmt='d', cmap='Blues', cbar=False)\n",
    "plt.xlabel('Predicted labels')\n",
    "plt.ylabel('True labels')\n",
    "plt.title('Confusion Matrix')\n",
    "plt.show()\n",
    "# Descargar imagen \n",
    "plt.savefig('Matrizs\\\\confusion_matrix_antes_del_ajuste_de_hip.png')"
   ]
  },
  {
   "cell_type": "code",
   "execution_count": 148,
   "metadata": {},
   "outputs": [
    {
     "name": "stdout",
     "output_type": "stream",
     "text": [
      "Precisión del modelo: 0.9603267211201867\n"
     ]
    }
   ],
   "source": [
    "# Calcular la precisión del modelo\n",
    "accuracy = accuracy_score(y_test, y_pred1)\n",
    "print(f'Precisión del modelo: {accuracy}')\n"
   ]
  },
  {
   "cell_type": "markdown",
   "metadata": {},
   "source": [
    "**Random forest con selección de variables, con ajustes de hiperparámetros**"
   ]
  },
  {
   "cell_type": "code",
   "execution_count": 149,
   "metadata": {},
   "outputs": [],
   "source": [
    "#############Hiperparameter tunning\n",
    "param_grid = [{'n_estimators': [3, 500, 100], 'max_features': [5,20],\n",
    "               'min_samples_split': [100, 20, 5]}]\n"
   ]
  },
  {
   "cell_type": "code",
   "execution_count": 150,
   "metadata": {},
   "outputs": [],
   "source": [
    "###Ajuste del modelo \n",
    "tun_rf=RandomizedSearchCV(m_rf,param_distributions=param_grid,n_iter=10,scoring=\"f1\")\n",
    "tun_rf.fit(X_train,y_train)\n",
    "\n",
    "# Hacer predicciones en el conjunto de prueba\n",
    "y_pred3 = tun_rf.predict(X_test)"
   ]
  },
  {
   "cell_type": "code",
   "execution_count": 158,
   "metadata": {},
   "outputs": [
    {
     "data": {
      "image/png": "[encoded data removed]",
      "text/plain": [
       "<Figure size 800x600 with 1 Axes>"
      ]
     },
     "metadata": {},
     "output_type": "display_data"
    },
    {
     "data": {
      "text/plain": [
       "<Figure size 640x480 with 0 Axes>"
      ]
     },
     "metadata": {},
     "output_type": "display_data"
    }
   ],
   "source": [
    "conf_matrix = confusion_matrix(y_test, y_pred3)\n",
    "\n",
    "# Crear un mapa de calor con seaborn\n",
    "plt.figure(figsize=(8, 6))\n",
    "sns.heatmap(conf_matrix, annot=True, fmt='d', cmap='Blues', cbar=False)\n",
    "plt.xlabel('Predicted labels')\n",
    "plt.ylabel('True labels')\n",
    "plt.title('Confusion Matrix')\n",
    "plt.show()\n",
    "# Descargar imagen \n",
    "plt.savefig('Matrizs\\\\confusion_matrix_con_ajuste_de_hip.png')"
   ]
  },
  {
   "cell_type": "code",
   "execution_count": 152,
   "metadata": {},
   "outputs": [
    {
     "name": "stdout",
     "output_type": "stream",
     "text": [
      "Precisión del modelo: 0.9498249708284714\n"
     ]
    }
   ],
   "source": [
    "# Calcular la precisión del modelo\n",
    "accuracy = accuracy_score(y_test, y_pred3)\n",
    "print(f'Precisión del modelo: {accuracy}')"
   ]
  },
  {
   "cell_type": "markdown",
   "metadata": {},
   "source": [
    "## **Exportación del modelo**"
   ]
  },
  {
   "cell_type": "code",
   "execution_count": 153,
   "metadata": {},
   "outputs": [],
   "source": [
    "### Guardar el modelo\n",
    "rf_final = tun_rf.best_estimator_ "
   ]
  },
  {
   "cell_type": "code",
   "execution_count": 154,
   "metadata": {},
   "outputs": [
    {
     "data": {
      "text/plain": [
       "['salidas\\\\scaler.pkl']"
      ]
     },
     "execution_count": 154,
     "metadata": {},
     "output_type": "execute_result"
    }
   ],
   "source": [
    "### función para exportar y guardar objetos de python (cualqueira)\n",
    "\n",
    "joblib.dump(rf_final, \"salidas\\\\rf_final.pkl\") ## modelo con afinamiento\n",
    "joblib.dump(list_cat, \"salidas\\\\list_cat.pkl\") ### para realizar imputacion\n",
    "joblib.dump(list_dummies, \"salidas\\\\list_dummies.pkl\")  ### para convertir a dummies\n",
    "joblib.dump(var_names, \"salidas\\\\var_names.pkl\")  ### para variables con que se entrena modelo\n",
    "joblib.dump(scaler, \"salidas\\\\scaler.pkl\") ## "
   ]
  }
 ],
 "metadata": {
  "kernelspec": {
   "display_name": "base",
   "language": "python",
   "name": "python3"
  },
  "language_info": {
   "codemirror_mode": {
    "name": "ipython",
    "version": 3
   },
   "file_extension": ".py",
   "mimetype": "text/x-python",
   "name": "python",
   "nbconvert_exporter": "python",
   "pygments_lexer": "ipython3",
   "version": "3.11.4"
  }
 },
 "nbformat": 4,
 "nbformat_minor": 2
}
