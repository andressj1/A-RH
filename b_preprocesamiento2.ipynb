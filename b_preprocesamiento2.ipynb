{
 "cells": [
  {
   "cell_type": "code",
   "execution_count": 18,
   "metadata": {},
   "outputs": [],
   "source": [
    "import warnings ## funciones para imprimir y registrar advertencias.\n",
    "warnings.filterwarnings(\"ignore\") #suprimir cualquier advertencia que pueda ser generada por el código."
   ]
  },
  {
   "cell_type": "code",
   "execution_count": 19,
   "metadata": {},
   "outputs": [],
   "source": [
    "###Librerias\n",
    "import pandas as pd ### para manejo de datos\n",
    "import sqlite3 as sql #### para bases de datos sql\n",
    "import a_funciones as funciones  ###archivo de funciones propias\n",
    "import sys ## saber ruta de la que carga paquetes\n",
    "\n",
    "%matplotlib inline"
   ]
  },
  {
   "cell_type": "markdown",
   "metadata": {},
   "source": [
    "**Preprocesamiento de datos**\n",
    "\n"
   ]
  },
  {
   "cell_type": "code",
   "execution_count": 20,
   "metadata": {},
   "outputs": [],
   "source": [
    "###Lectura de datos \n",
    "base = pd.read_csv(\"https://raw.githubusercontent.com/andressj1/A-RH/main/Bases/base2015.csv\", sep=\",\")\n",
    "base1 = pd.read_csv(\"https://raw.githubusercontent.com/andressj1/A-RH/main/Bases/base2016.csv\", sep=\",\")\n"
   ]
  },
  {
   "cell_type": "markdown",
   "metadata": {},
   "source": [
    "## **Preprocesamiento para la base final**"
   ]
  },
  {
   "cell_type": "code",
   "execution_count": 21,
   "metadata": {},
   "outputs": [
    {
     "data": {
      "text/html": [
       "<div>\n",
       "<style scoped>\n",
       "    .dataframe tbody tr th:only-of-type {\n",
       "        vertical-align: middle;\n",
       "    }\n",
       "\n",
       "    .dataframe tbody tr th {\n",
       "        vertical-align: top;\n",
       "    }\n",
       "\n",
       "    .dataframe thead th {\n",
       "        text-align: right;\n",
       "    }\n",
       "</style>\n",
       "<table border=\"1\" class=\"dataframe\">\n",
       "  <thead>\n",
       "    <tr style=\"text-align: right;\">\n",
       "      <th></th>\n",
       "      <th>EmployeeID</th>\n",
       "      <th>EnvironmentSatisfaction</th>\n",
       "      <th>JobSatisfaction</th>\n",
       "      <th>WorkLifeBalance</th>\n",
       "      <th>año_x</th>\n",
       "      <th>Age</th>\n",
       "      <th>BusinessTravel</th>\n",
       "      <th>Department</th>\n",
       "      <th>DistanceFromHome</th>\n",
       "      <th>Education</th>\n",
       "      <th>...</th>\n",
       "      <th>YearsWithCurrManager</th>\n",
       "      <th>año_y</th>\n",
       "      <th>JobInvolvement</th>\n",
       "      <th>PerformanceRating</th>\n",
       "      <th>año_x.1</th>\n",
       "      <th>Unnamed: 0</th>\n",
       "      <th>Attrition</th>\n",
       "      <th>retirementType</th>\n",
       "      <th>resignationReason</th>\n",
       "      <th>año_y.1</th>\n",
       "    </tr>\n",
       "  </thead>\n",
       "  <tbody>\n",
       "    <tr>\n",
       "      <th>0</th>\n",
       "      <td>1</td>\n",
       "      <td>3.0</td>\n",
       "      <td>4.0</td>\n",
       "      <td>2.0</td>\n",
       "      <td>2015</td>\n",
       "      <td>51</td>\n",
       "      <td>Travel_Rarely</td>\n",
       "      <td>Sales</td>\n",
       "      <td>6</td>\n",
       "      <td>2</td>\n",
       "      <td>...</td>\n",
       "      <td>0</td>\n",
       "      <td>2015</td>\n",
       "      <td>3</td>\n",
       "      <td>3</td>\n",
       "      <td>2015</td>\n",
       "      <td>NaN</td>\n",
       "      <td>NaN</td>\n",
       "      <td>NaN</td>\n",
       "      <td>NaN</td>\n",
       "      <td>NaN</td>\n",
       "    </tr>\n",
       "    <tr>\n",
       "      <th>1</th>\n",
       "      <td>2</td>\n",
       "      <td>3.0</td>\n",
       "      <td>2.0</td>\n",
       "      <td>4.0</td>\n",
       "      <td>2015</td>\n",
       "      <td>31</td>\n",
       "      <td>Travel_Frequently</td>\n",
       "      <td>Research &amp; Development</td>\n",
       "      <td>10</td>\n",
       "      <td>1</td>\n",
       "      <td>...</td>\n",
       "      <td>4</td>\n",
       "      <td>2015</td>\n",
       "      <td>2</td>\n",
       "      <td>4</td>\n",
       "      <td>2015</td>\n",
       "      <td>0.0</td>\n",
       "      <td>Yes</td>\n",
       "      <td>Resignation</td>\n",
       "      <td>Others</td>\n",
       "      <td>2016.0</td>\n",
       "    </tr>\n",
       "    <tr>\n",
       "      <th>2</th>\n",
       "      <td>3</td>\n",
       "      <td>2.0</td>\n",
       "      <td>2.0</td>\n",
       "      <td>1.0</td>\n",
       "      <td>2015</td>\n",
       "      <td>32</td>\n",
       "      <td>Travel_Frequently</td>\n",
       "      <td>Research &amp; Development</td>\n",
       "      <td>17</td>\n",
       "      <td>4</td>\n",
       "      <td>...</td>\n",
       "      <td>3</td>\n",
       "      <td>2015</td>\n",
       "      <td>3</td>\n",
       "      <td>3</td>\n",
       "      <td>2015</td>\n",
       "      <td>NaN</td>\n",
       "      <td>NaN</td>\n",
       "      <td>NaN</td>\n",
       "      <td>NaN</td>\n",
       "      <td>NaN</td>\n",
       "    </tr>\n",
       "  </tbody>\n",
       "</table>\n",
       "<p>3 rows × 33 columns</p>\n",
       "</div>"
      ],
      "text/plain": [
       "   EmployeeID  EnvironmentSatisfaction  JobSatisfaction  WorkLifeBalance  \\\n",
       "0           1                      3.0              4.0              2.0   \n",
       "1           2                      3.0              2.0              4.0   \n",
       "2           3                      2.0              2.0              1.0   \n",
       "\n",
       "   año_x  Age     BusinessTravel              Department  DistanceFromHome  \\\n",
       "0   2015   51      Travel_Rarely                   Sales                 6   \n",
       "1   2015   31  Travel_Frequently  Research & Development                10   \n",
       "2   2015   32  Travel_Frequently  Research & Development                17   \n",
       "\n",
       "   Education  ... YearsWithCurrManager año_y  JobInvolvement  \\\n",
       "0          2  ...                    0  2015               3   \n",
       "1          1  ...                    4  2015               2   \n",
       "2          4  ...                    3  2015               3   \n",
       "\n",
       "  PerformanceRating año_x.1  Unnamed: 0  Attrition  retirementType  \\\n",
       "0                 3    2015         NaN        NaN             NaN   \n",
       "1                 4    2015         0.0        Yes     Resignation   \n",
       "2                 3    2015         NaN        NaN             NaN   \n",
       "\n",
       "   resignationReason  año_y.1  \n",
       "0                NaN      NaN  \n",
       "1             Others   2016.0  \n",
       "2                NaN      NaN  \n",
       "\n",
       "[3 rows x 33 columns]"
      ]
     },
     "execution_count": 21,
     "metadata": {},
     "output_type": "execute_result"
    }
   ],
   "source": [
    "base.head(3)"
   ]
  },
  {
   "cell_type": "code",
   "execution_count": 22,
   "metadata": {},
   "outputs": [
    {
     "name": "stdout",
     "output_type": "stream",
     "text": [
      "Variables con un único valor:  Index(['año_x', 'año_y', 'año_x.1', 'Attrition', 'año_y.1'], dtype='object')\n"
     ]
    }
   ],
   "source": [
    "# Obtener la cantidad de valores únicos en cada columna; solo se aplico a esta base debido a la cantidad de variables\n",
    "nunique_values = base.nunique()\n",
    "\n",
    "# Seleccionar las columnas con un solo valor\n",
    "single_value_columns = nunique_values[nunique_values == 1].index\n",
    "\n",
    "print(\"Variables con un único valor: \", single_value_columns)"
   ]
  },
  {
   "cell_type": "code",
   "execution_count": 23,
   "metadata": {},
   "outputs": [],
   "source": [
    "###Eliminacion de variables que no aportaria en el modelo\n",
    "columns_to_drop = ['año_x', 'año_y', 'año_x.1', 'Unnamed: 0','año_y.1','EmployeeID']\n",
    "base = base.drop(columns=columns_to_drop)"
   ]
  },
  {
   "cell_type": "code",
   "execution_count": 24,
   "metadata": {},
   "outputs": [
    {
     "name": "stdout",
     "output_type": "stream",
     "text": [
      "EnvironmentSatisfaction       0\n",
      "JobSatisfaction               0\n",
      "WorkLifeBalance               0\n",
      "Age                           0\n",
      "BusinessTravel                0\n",
      "Department                    0\n",
      "DistanceFromHome              0\n",
      "Education                     0\n",
      "EducationField                0\n",
      "Gender                        0\n",
      "JobLevel                      0\n",
      "JobRole                       0\n",
      "MaritalStatus                 0\n",
      "MonthlyIncome                 0\n",
      "NumCompaniesWorked            0\n",
      "PercentSalaryHike             0\n",
      "StockOptionLevel              0\n",
      "TotalWorkingYears             0\n",
      "TrainingTimesLastYear         0\n",
      "YearsAtCompany                0\n",
      "YearsSinceLastPromotion       0\n",
      "YearsWithCurrManager          0\n",
      "JobInvolvement                0\n",
      "PerformanceRating             0\n",
      "Attrition                  3760\n",
      "retirementType             3760\n",
      "resignationReason          3760\n",
      "dtype: int64\n"
     ]
    }
   ],
   "source": [
    "## Verificación de valores nulos\n",
    "print(base.isnull().sum())"
   ]
  },
  {
   "cell_type": "code",
   "execution_count": 25,
   "metadata": {},
   "outputs": [
    {
     "name": "stdout",
     "output_type": "stream",
     "text": [
      "EnvironmentSatisfaction       0\n",
      "JobSatisfaction               0\n",
      "WorkLifeBalance               0\n",
      "Age                           0\n",
      "BusinessTravel                0\n",
      "Department                    0\n",
      "DistanceFromHome              0\n",
      "Education                     0\n",
      "EducationField                0\n",
      "Gender                        0\n",
      "JobLevel                      0\n",
      "JobRole                       0\n",
      "MaritalStatus                 0\n",
      "MonthlyIncome                 0\n",
      "NumCompaniesWorked            0\n",
      "PercentSalaryHike             0\n",
      "StockOptionLevel              0\n",
      "TotalWorkingYears             0\n",
      "TrainingTimesLastYear         0\n",
      "YearsAtCompany                0\n",
      "YearsSinceLastPromotion       0\n",
      "YearsWithCurrManager          0\n",
      "JobInvolvement                0\n",
      "PerformanceRating             0\n",
      "Attrition                  3760\n",
      "retirementType             3760\n",
      "resignationReason          3760\n",
      "dtype: int64\n"
     ]
    }
   ],
   "source": [
    "## Verificación de valores nulos\n",
    "print(base.isnull().sum())\n"
   ]
  },
  {
   "cell_type": "code",
   "execution_count": 26,
   "metadata": {},
   "outputs": [
    {
     "data": {
      "text/plain": [
       "Resignation    585\n",
       "Fired           65\n",
       "Name: retirementType, dtype: int64"
      ]
     },
     "execution_count": 26,
     "metadata": {},
     "output_type": "execute_result"
    }
   ],
   "source": [
    "base['retirementType'].value_counts()"
   ]
  },
  {
   "cell_type": "code",
   "execution_count": 27,
   "metadata": {},
   "outputs": [],
   "source": [
    "#### se procede a eliminar la categoria \"fired\" porque no aporta nada un empleado que despedimos\n",
    "base = base[base['retirementType'] != 'Fired']\n"
   ]
  },
  {
   "cell_type": "code",
   "execution_count": 28,
   "metadata": {},
   "outputs": [
    {
     "name": "stdout",
     "output_type": "stream",
     "text": [
      "<class 'pandas.core.frame.DataFrame'>\n",
      "Int64Index: 4345 entries, 0 to 4409\n",
      "Data columns (total 27 columns):\n",
      " #   Column                   Non-Null Count  Dtype  \n",
      "---  ------                   --------------  -----  \n",
      " 0   EnvironmentSatisfaction  4345 non-null   float64\n",
      " 1   JobSatisfaction          4345 non-null   float64\n",
      " 2   WorkLifeBalance          4345 non-null   float64\n",
      " 3   Age                      4345 non-null   int64  \n",
      " 4   BusinessTravel           4345 non-null   object \n",
      " 5   Department               4345 non-null   object \n",
      " 6   DistanceFromHome         4345 non-null   int64  \n",
      " 7   Education                4345 non-null   int64  \n",
      " 8   EducationField           4345 non-null   object \n",
      " 9   Gender                   4345 non-null   object \n",
      " 10  JobLevel                 4345 non-null   int64  \n",
      " 11  JobRole                  4345 non-null   object \n",
      " 12  MaritalStatus            4345 non-null   object \n",
      " 13  MonthlyIncome            4345 non-null   int64  \n",
      " 14  NumCompaniesWorked       4345 non-null   float64\n",
      " 15  PercentSalaryHike        4345 non-null   int64  \n",
      " 16  StockOptionLevel         4345 non-null   int64  \n",
      " 17  TotalWorkingYears        4345 non-null   float64\n",
      " 18  TrainingTimesLastYear    4345 non-null   int64  \n",
      " 19  YearsAtCompany           4345 non-null   int64  \n",
      " 20  YearsSinceLastPromotion  4345 non-null   int64  \n",
      " 21  YearsWithCurrManager     4345 non-null   int64  \n",
      " 22  JobInvolvement           4345 non-null   int64  \n",
      " 23  PerformanceRating        4345 non-null   int64  \n",
      " 24  Attrition                585 non-null    object \n",
      " 25  retirementType           585 non-null    object \n",
      " 26  resignationReason        585 non-null    object \n",
      "dtypes: float64(5), int64(13), object(9)\n",
      "memory usage: 950.5+ KB\n"
     ]
    }
   ],
   "source": [
    "base.info()"
   ]
  },
  {
   "cell_type": "markdown",
   "metadata": {},
   "source": [
    "## **Preprocesamiento para la base2**"
   ]
  },
  {
   "cell_type": "code",
   "execution_count": 29,
   "metadata": {},
   "outputs": [
    {
     "data": {
      "text/html": [
       "<div>\n",
       "<style scoped>\n",
       "    .dataframe tbody tr th:only-of-type {\n",
       "        vertical-align: middle;\n",
       "    }\n",
       "\n",
       "    .dataframe tbody tr th {\n",
       "        vertical-align: top;\n",
       "    }\n",
       "\n",
       "    .dataframe thead th {\n",
       "        text-align: right;\n",
       "    }\n",
       "</style>\n",
       "<table border=\"1\" class=\"dataframe\">\n",
       "  <thead>\n",
       "    <tr style=\"text-align: right;\">\n",
       "      <th></th>\n",
       "      <th>EmployeeID</th>\n",
       "      <th>EnvironmentSatisfaction</th>\n",
       "      <th>JobSatisfaction</th>\n",
       "      <th>WorkLifeBalance</th>\n",
       "      <th>año_x</th>\n",
       "      <th>Age</th>\n",
       "      <th>BusinessTravel</th>\n",
       "      <th>Department</th>\n",
       "      <th>DistanceFromHome</th>\n",
       "      <th>Education</th>\n",
       "      <th>...</th>\n",
       "      <th>StockOptionLevel</th>\n",
       "      <th>TotalWorkingYears</th>\n",
       "      <th>TrainingTimesLastYear</th>\n",
       "      <th>YearsAtCompany</th>\n",
       "      <th>YearsSinceLastPromotion</th>\n",
       "      <th>YearsWithCurrManager</th>\n",
       "      <th>año_y</th>\n",
       "      <th>JobInvolvement</th>\n",
       "      <th>PerformanceRating</th>\n",
       "      <th>año</th>\n",
       "    </tr>\n",
       "  </thead>\n",
       "  <tbody>\n",
       "    <tr>\n",
       "      <th>0</th>\n",
       "      <td>1</td>\n",
       "      <td>3.0</td>\n",
       "      <td>4.0</td>\n",
       "      <td>2.0</td>\n",
       "      <td>2015</td>\n",
       "      <td>51</td>\n",
       "      <td>Travel_Rarely</td>\n",
       "      <td>Sales</td>\n",
       "      <td>6</td>\n",
       "      <td>2</td>\n",
       "      <td>...</td>\n",
       "      <td>0</td>\n",
       "      <td>1.0</td>\n",
       "      <td>6</td>\n",
       "      <td>1</td>\n",
       "      <td>0</td>\n",
       "      <td>0</td>\n",
       "      <td>2016</td>\n",
       "      <td>3</td>\n",
       "      <td>3</td>\n",
       "      <td>2016</td>\n",
       "    </tr>\n",
       "    <tr>\n",
       "      <th>1</th>\n",
       "      <td>2</td>\n",
       "      <td>3.0</td>\n",
       "      <td>2.0</td>\n",
       "      <td>4.0</td>\n",
       "      <td>2015</td>\n",
       "      <td>31</td>\n",
       "      <td>Travel_Frequently</td>\n",
       "      <td>Research &amp; Development</td>\n",
       "      <td>10</td>\n",
       "      <td>1</td>\n",
       "      <td>...</td>\n",
       "      <td>1</td>\n",
       "      <td>6.0</td>\n",
       "      <td>3</td>\n",
       "      <td>5</td>\n",
       "      <td>1</td>\n",
       "      <td>4</td>\n",
       "      <td>2016</td>\n",
       "      <td>2</td>\n",
       "      <td>4</td>\n",
       "      <td>2016</td>\n",
       "    </tr>\n",
       "    <tr>\n",
       "      <th>2</th>\n",
       "      <td>3</td>\n",
       "      <td>2.0</td>\n",
       "      <td>2.0</td>\n",
       "      <td>1.0</td>\n",
       "      <td>2015</td>\n",
       "      <td>32</td>\n",
       "      <td>Travel_Frequently</td>\n",
       "      <td>Research &amp; Development</td>\n",
       "      <td>17</td>\n",
       "      <td>4</td>\n",
       "      <td>...</td>\n",
       "      <td>3</td>\n",
       "      <td>5.0</td>\n",
       "      <td>2</td>\n",
       "      <td>5</td>\n",
       "      <td>0</td>\n",
       "      <td>3</td>\n",
       "      <td>2016</td>\n",
       "      <td>3</td>\n",
       "      <td>3</td>\n",
       "      <td>2016</td>\n",
       "    </tr>\n",
       "  </tbody>\n",
       "</table>\n",
       "<p>3 rows × 28 columns</p>\n",
       "</div>"
      ],
      "text/plain": [
       "   EmployeeID  EnvironmentSatisfaction  JobSatisfaction  WorkLifeBalance  \\\n",
       "0           1                      3.0              4.0              2.0   \n",
       "1           2                      3.0              2.0              4.0   \n",
       "2           3                      2.0              2.0              1.0   \n",
       "\n",
       "   año_x  Age     BusinessTravel              Department  DistanceFromHome  \\\n",
       "0   2015   51      Travel_Rarely                   Sales                 6   \n",
       "1   2015   31  Travel_Frequently  Research & Development                10   \n",
       "2   2015   32  Travel_Frequently  Research & Development                17   \n",
       "\n",
       "   Education  ... StockOptionLevel TotalWorkingYears  TrainingTimesLastYear  \\\n",
       "0          2  ...                0               1.0                      6   \n",
       "1          1  ...                1               6.0                      3   \n",
       "2          4  ...                3               5.0                      2   \n",
       "\n",
       "  YearsAtCompany YearsSinceLastPromotion  YearsWithCurrManager  año_y  \\\n",
       "0              1                       0                     0   2016   \n",
       "1              5                       1                     4   2016   \n",
       "2              5                       0                     3   2016   \n",
       "\n",
       "   JobInvolvement  PerformanceRating   año  \n",
       "0               3                  3  2016  \n",
       "1               2                  4  2016  \n",
       "2               3                  3  2016  \n",
       "\n",
       "[3 rows x 28 columns]"
      ]
     },
     "execution_count": 29,
     "metadata": {},
     "output_type": "execute_result"
    }
   ],
   "source": [
    "base1.head(3)"
   ]
  },
  {
   "cell_type": "code",
   "execution_count": 30,
   "metadata": {},
   "outputs": [
    {
     "name": "stdout",
     "output_type": "stream",
     "text": [
      "Variables con un único valor:  Index(['año_x', 'año_y', 'año'], dtype='object')\n"
     ]
    }
   ],
   "source": [
    "# Obtener la cantidad de valores únicos en cada columna; solo se aplico a esta base debido a la cantidad de variables\n",
    "nunique_values = base1.nunique()\n",
    "\n",
    "# Seleccionar las columnas con un solo valor\n",
    "single_value_columns = nunique_values[nunique_values == 1].index\n",
    "\n",
    "print(\"Variables con un único valor: \", single_value_columns)"
   ]
  },
  {
   "cell_type": "code",
   "execution_count": 31,
   "metadata": {},
   "outputs": [],
   "source": [
    "###Eliminacion de variables que no aportaria en el modelo\n",
    "columns_to_drop = ['año_x', 'año_y', 'año','EmployeeID']\n",
    "base1 = base1.drop(columns=columns_to_drop)"
   ]
  },
  {
   "cell_type": "code",
   "execution_count": 32,
   "metadata": {},
   "outputs": [
    {
     "name": "stdout",
     "output_type": "stream",
     "text": [
      "EnvironmentSatisfaction    0\n",
      "JobSatisfaction            0\n",
      "WorkLifeBalance            0\n",
      "Age                        0\n",
      "BusinessTravel             0\n",
      "Department                 0\n",
      "DistanceFromHome           0\n",
      "Education                  0\n",
      "EducationField             0\n",
      "Gender                     0\n",
      "JobLevel                   0\n",
      "JobRole                    0\n",
      "MaritalStatus              0\n",
      "MonthlyIncome              0\n",
      "NumCompaniesWorked         0\n",
      "PercentSalaryHike          0\n",
      "StockOptionLevel           0\n",
      "TotalWorkingYears          0\n",
      "TrainingTimesLastYear      0\n",
      "YearsAtCompany             0\n",
      "YearsSinceLastPromotion    0\n",
      "YearsWithCurrManager       0\n",
      "JobInvolvement             0\n",
      "PerformanceRating          0\n",
      "dtype: int64\n"
     ]
    }
   ],
   "source": [
    "## Verificación de valores nulos\n",
    "print(base1.isnull().sum())"
   ]
  },
  {
   "cell_type": "code",
   "execution_count": 33,
   "metadata": {},
   "outputs": [],
   "source": [
    "####Exportacion de bases \n",
    "base.to_csv(r'C:\\Users\\luisa\\OneDrive\\Desktop\\Analitica lll RH\\Bases\\basefinal.csv', index=False)\n",
    "base1.to_csv(r'C:\\Users\\luisa\\OneDrive\\Desktop\\Analitica lll RH\\Bases\\base16.csv', index=False)"
   ]
  }
 ],
 "metadata": {
  "kernelspec": {
   "display_name": "base",
   "language": "python",
   "name": "python3"
  },
  "language_info": {
   "codemirror_mode": {
    "name": "ipython",
    "version": 3
   },
   "file_extension": ".py",
   "mimetype": "text/x-python",
   "name": "python",
   "nbconvert_exporter": "python",
   "pygments_lexer": "ipython3",
   "version": "3.11.4"
  }
 },
 "nbformat": 4,
 "nbformat_minor": 2
}
