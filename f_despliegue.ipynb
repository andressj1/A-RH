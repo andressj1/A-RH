{
 "cells": [
  {
   "cell_type": "code",
   "execution_count": 41,
   "metadata": {},
   "outputs": [],
   "source": [
    "import a_funciones as funciones  ###archivo de funciones propias\n",
    "from sklearn.ensemble import RandomForestClassifier  # Clasificador bosques aleatoriost\n",
    "import pandas as pd ### para manejo de datos\n",
    "import joblib ### para guardar y cargar modelos\n",
    "import openpyxl ## para exportar a excel\n",
    "import numpy as np #procesamiento eficiente de grandes conjuntos de datos y la realización de operaciones matemáticas"
   ]
  },
  {
   "cell_type": "code",
   "execution_count": 42,
   "metadata": {},
   "outputs": [],
   "source": [
    "###cargar base desde github\n",
    "df = pd.read_csv(\"https://raw.githubusercontent.com/andressj1/A-RH/main/Bases/base2016.csv\", sep=\",\")"
   ]
  },
  {
   "cell_type": "markdown",
   "metadata": {},
   "source": [
    "## **Aplicación de funciones**"
   ]
  },
  {
   "cell_type": "code",
   "execution_count": 43,
   "metadata": {},
   "outputs": [],
   "source": [
    "###Elimina columnas spam\n",
    "df = funciones.eliminars(df)"
   ]
  },
  {
   "cell_type": "code",
   "execution_count": 44,
   "metadata": {},
   "outputs": [],
   "source": [
    "###convertir \n",
    "df = funciones.convertir(df)"
   ]
  },
  {
   "cell_type": "code",
   "execution_count": 45,
   "metadata": {},
   "outputs": [
    {
     "name": "stdout",
     "output_type": "stream",
     "text": [
      "<class 'pandas.core.frame.DataFrame'>\n",
      "RangeIndex: 4410 entries, 0 to 4409\n",
      "Data columns (total 6 columns):\n",
      " #   Column          Non-Null Count  Dtype \n",
      "---  ------          --------------  ----- \n",
      " 0   BusinessTravel  4410 non-null   object\n",
      " 1   Department      4410 non-null   object\n",
      " 2   EducationField  4410 non-null   object\n",
      " 3   Gender          4410 non-null   object\n",
      " 4   JobRole         4410 non-null   object\n",
      " 5   MaritalStatus   4410 non-null   object\n",
      "dtypes: object(6)\n",
      "memory usage: 206.8+ KB\n",
      "<class 'pandas.core.frame.DataFrame'>\n",
      "RangeIndex: 4410 entries, 0 to 4409\n",
      "Data columns (total 16 columns):\n",
      " #   Column                   Non-Null Count  Dtype  \n",
      "---  ------                   --------------  -----  \n",
      " 0   EmployeeID               4410 non-null   float64\n",
      " 1   EnvironmentSatisfaction  4410 non-null   float64\n",
      " 2   JobSatisfaction          4410 non-null   float64\n",
      " 3   WorkLifeBalance          4410 non-null   float64\n",
      " 4   Age                      4410 non-null   float64\n",
      " 5   DistanceFromHome         4410 non-null   float64\n",
      " 6   Education                4410 non-null   float64\n",
      " 7   JobLevel                 4410 non-null   float64\n",
      " 8   MonthlyIncome            4410 non-null   float64\n",
      " 9   NumCompaniesWorked       4410 non-null   float64\n",
      " 10  PercentSalaryHike        4410 non-null   float64\n",
      " 11  StockOptionLevel         4410 non-null   float64\n",
      " 12  TrainingTimesLastYear    4410 non-null   float64\n",
      " 13  YearsAtCompany           4410 non-null   float64\n",
      " 14  JobInvolvement           4410 non-null   float64\n",
      " 15  PerformanceRating        4410 non-null   float64\n",
      "dtypes: float64(16)\n",
      "memory usage: 551.4 KB\n"
     ]
    }
   ],
   "source": [
    "###preparar datos \n",
    "df1 = funciones.preparar_datos(df)"
   ]
  },
  {
   "cell_type": "code",
   "execution_count": 46,
   "metadata": {},
   "outputs": [],
   "source": [
    " ##Cargar modelo y predecir\n",
    "rf_final = joblib.load(\"salidas\\\\rf_final.pkl\")\n",
    "predicciones = rf_final.predict(df1)\n",
    "pd_pred = pd.DataFrame(predicciones, columns=['pred_2017'])"
   ]
  },
  {
   "cell_type": "code",
   "execution_count": 47,
   "metadata": {},
   "outputs": [],
   "source": [
    "   ###Crear base con predicciones ####\n",
    "perf_pred=pd.concat([df['EmployeeID'],df1,pd_pred],axis=1)\n",
    "   \n",
    "    ####LLevar a BD para despliegue \n",
    "nombre_archivo = \"predicciones_2017.csv\"\n",
    "\n",
    "# Ruta completa del archivo CSV\n",
    "ruta_archivo = r\"C:\\Users\\luisa\\OneDrive\\Desktop\\Analitica lll RH\\Bases\" + \"\\\\\" + nombre_archivo\n",
    "\n",
    "# Guardar el DataFrame como un archivo CSV en la ruta proporcionada\n",
    "perf_pred.loc[:, ['EmployeeID', 'pred_2017']].to_csv(ruta_archivo, index=False) ## llevar predicciones a BD con ID Empleado"
   ]
  },
  {
   "cell_type": "code",
   "execution_count": 48,
   "metadata": {},
   "outputs": [],
   "source": [
    "   ####ver_predicciones_bajas ###\n",
    "pred_bajo = perf_pred.sort_values(by=[\"pred_2017\"],ascending=True).head(10)"
   ]
  },
  {
   "cell_type": "code",
   "execution_count": 49,
   "metadata": {},
   "outputs": [],
   "source": [
    "pred_bajo.set_index('EmployeeID', inplace=True)\n",
    "pred = pred_bajo.T"
   ]
  },
  {
   "cell_type": "code",
   "execution_count": 52,
   "metadata": {},
   "outputs": [
    {
     "ename": "NameError",
     "evalue": "name 'X_train' is not defined",
     "output_type": "error",
     "traceback": [
      "\u001b[1;31m---------------------------------------------------------------------------\u001b[0m",
      "\u001b[1;31mNameError\u001b[0m                                 Traceback (most recent call last)",
      "Cell \u001b[1;32mIn[52], line 2\u001b[0m\n\u001b[0;32m      1\u001b[0m rf_final \u001b[38;5;241m=\u001b[39m RandomForestClassifier()\n\u001b[1;32m----> 2\u001b[0m rf_final\u001b[38;5;241m.\u001b[39mfit(X_train, y_train)  \u001b[38;5;66;03m# Suponiendo que tienes tus datos de entrenamiento X_train e y_train\u001b[39;00m\n\u001b[0;32m      4\u001b[0m \u001b[38;5;66;03m# Obtener la importancia de las características\u001b[39;00m\n\u001b[0;32m      5\u001b[0m importancias_caracteristicas \u001b[38;5;241m=\u001b[39m rf_final\u001b[38;5;241m.\u001b[39mfeature_importances_\n",
      "\u001b[1;31mNameError\u001b[0m: name 'X_train' is not defined"
     ]
    }
   ],
   "source": [
    "rf_final = RandomForestClassifier()\n",
    "rf_final.fit(X_train, y_train)  # Suponiendo que tienes tus datos de entrenamiento X_train e y_train\n",
    "\n",
    "# Obtener la importancia de las características\n",
    "importancias_caracteristicas = rf_final.feature_importances_\n",
    "\n",
    "# Crear DataFrame de importancia de características\n",
    "df_importancias = pd.DataFrame(importancias_caracteristicas, columns=['importancia'], index=X_train.columns)\n"
   ]
  }
 ],
 "metadata": {
  "kernelspec": {
   "display_name": "base",
   "language": "python",
   "name": "python3"
  },
  "language_info": {
   "codemirror_mode": {
    "name": "ipython",
    "version": 3
   },
   "file_extension": ".py",
   "mimetype": "text/x-python",
   "name": "python",
   "nbconvert_exporter": "python",
   "pygments_lexer": "ipython3",
   "version": "3.11.4"
  }
 },
 "nbformat": 4,
 "nbformat_minor": 2
}
